{
 "cells": [
  {
   "cell_type": "markdown",
   "metadata": {},
   "source": [
    "`(67 + 33) / 25 = x / (25 - 20)`"
   ]
  },
  {
   "cell_type": "code",
   "execution_count": 51,
   "metadata": {
    "pycharm": {
     "name": "#%%\n"
    }
   },
   "outputs": [
    {
     "name": "stdout",
     "output_type": "stream",
     "text": [
      "20\n"
     ]
    }
   ],
   "source": [
    "x = ((67 + 33) / 25) * (25 - 20)\n",
    "print('%d' % x)"
   ]
  },
  {
   "cell_type": "markdown",
   "metadata": {},
   "source": [
    "`(4 + 5 * 60 - 17 + 65/4) ** (1/2)`"
   ]
  },
  {
   "cell_type": "code",
   "execution_count": 52,
   "metadata": {
    "pycharm": {
     "name": "#%%\n"
    }
   },
   "outputs": [
    {
     "name": "stdout",
     "output_type": "stream",
     "text": [
      "17.414\n"
     ]
    }
   ],
   "source": [
    "x = (4 + 5 * 60 - 17 + 65/4) ** (1/2)\n",
    "print('%.03f' % x)"
   ]
  },
  {
   "cell_type": "markdown",
   "metadata": {},
   "source": [
    "`6.996 + 45 * (13/2)**2 + 2 * 18**(1/2)`"
   ]
  },
  {
   "cell_type": "code",
   "execution_count": 53,
   "metadata": {
    "pycharm": {
     "name": "#%%\n"
    }
   },
   "outputs": [
    {
     "name": "stdout",
     "output_type": "stream",
     "text": [
      "1916.731\n"
     ]
    }
   ],
   "source": [
    "x = 6.996 + 45 * (13/2)**2 + 2 * 18**(1/2)\n",
    "print('%.03f' % x)"
   ]
  },
  {
   "cell_type": "markdown",
   "metadata": {},
   "source": [
    "`(1267 - 20 * (5**3/2)**2) / (8**5 * 36**(1/2))`"
   ]
  },
  {
   "cell_type": "code",
   "execution_count": 54,
   "metadata": {
    "pycharm": {
     "name": "#%%\n"
    }
   },
   "outputs": [
    {
     "name": "stdout",
     "output_type": "stream",
     "text": [
      "-0.391\n"
     ]
    }
   ],
   "source": [
    "x = (1267 - 20 * (5**3/2)**2) / (8**5 * 36**(1/2))\n",
    "print('%.03f' % x)"
   ]
  },
  {
   "cell_type": "markdown",
   "metadata": {},
   "source": [
    "`(((9**(1/2))**3)**2)**2 / -2**(-3)`"
   ]
  },
  {
   "cell_type": "code",
   "execution_count": 55,
   "metadata": {
    "pycharm": {
     "name": "#%%\n"
    }
   },
   "outputs": [
    {
     "name": "stdout",
     "output_type": "stream",
     "text": [
      "-4251528\n"
     ]
    }
   ],
   "source": [
    "x = (((9**(1/2))**3)**2)**2 / -2**(-3)\n",
    "print('%d' % x)"
   ]
  },
  {
   "cell_type": "code",
   "execution_count": 56,
   "metadata": {
    "pycharm": {
     "name": "#%%\n"
    }
   },
   "outputs": [
    {
     "data": {
      "text/plain": [
       "'hey!'"
      ]
     },
     "execution_count": 56,
     "metadata": {},
     "output_type": "execute_result"
    }
   ],
   "source": [
    "'hey'+'!'"
   ]
  },
  {
   "cell_type": "code",
   "execution_count": 57,
   "metadata": {
    "pycharm": {
     "name": "#%%\n"
    }
   },
   "outputs": [
    {
     "data": {
      "text/plain": [
       "float"
      ]
     },
     "execution_count": 57,
     "metadata": {},
     "output_type": "execute_result"
    }
   ],
   "source": [
    "type(2+3.4)"
   ]
  },
  {
   "cell_type": "code",
   "execution_count": 58,
   "metadata": {
    "pycharm": {
     "name": "#%%\n"
    }
   },
   "outputs": [
    {
     "data": {
      "text/plain": [
       "int"
      ]
     },
     "execution_count": 58,
     "metadata": {},
     "output_type": "execute_result"
    }
   ],
   "source": [
    "type(2+3)"
   ]
  },
  {
   "cell_type": "code",
   "execution_count": 59,
   "metadata": {
    "pycharm": {
     "name": "#%%\n"
    }
   },
   "outputs": [
    {
     "name": "stdout",
     "output_type": "stream",
     "text": [
      "Сегодня Вас зовут Алексей\n"
     ]
    }
   ],
   "source": [
    "#name = input()\n",
    "name = 'Алексей'\n",
    "print('Сегодня Вас зовут %s' % name)"
   ]
  },
  {
   "cell_type": "code",
   "execution_count": 60,
   "metadata": {
    "pycharm": {
     "name": "#%%\n"
    }
   },
   "outputs": [
    {
     "name": "stdout",
     "output_type": "stream",
     "text": [
      "13\n"
     ]
    }
   ],
   "source": [
    "#word = input()\n",
    "word = 'Очаровательно'\n",
    "print(len(word))"
   ]
  },
  {
   "cell_type": "markdown",
   "metadata": {},
   "source": [
    "Напишите программу, которая принимает на вход два целых числа (a и b) и выводит на экран остаток от деления первого числа (а) на второе (b)."
   ]
  },
  {
   "cell_type": "code",
   "execution_count": 61,
   "metadata": {
    "pycharm": {
     "name": "#%%\n"
    }
   },
   "outputs": [
    {
     "name": "stdout",
     "output_type": "stream",
     "text": [
      "2\n"
     ]
    }
   ],
   "source": [
    "#a = int(input())\n",
    "#b = int(input())\n",
    "a = 117\n",
    "b = 23\n",
    "print(a % b)"
   ]
  },
  {
   "cell_type": "markdown",
   "metadata": {},
   "source": [
    "Напишите программу, с помощью которой пользователь может ввести три положительных числа и увидеть на экране их среднее геометрическое. Названия переменных a, b, c. Для теста используйте значения a=12, b=17, c=25\n",
    "\n",
    "Среднее геометрическое N чисел - это корень N-ной степени из произведения этих чисел."
   ]
  },
  {
   "cell_type": "code",
   "execution_count": 62,
   "metadata": {
    "pycharm": {
     "name": "#%%\n"
    }
   },
   "outputs": [
    {
     "name": "stdout",
     "output_type": "stream",
     "text": [
      "17.213006207263156\n"
     ]
    }
   ],
   "source": [
    "#a = float(input())\n",
    "#b = float(input())\n",
    "#c = float(input())\n",
    "a = 12\n",
    "b = 17\n",
    "c = 25\n",
    "avg = (a * b * c)**(1/3)\n",
    "print(avg)"
   ]
  },
  {
   "cell_type": "code",
   "execution_count": 63,
   "metadata": {
    "pycharm": {
     "name": "#%%\n"
    }
   },
   "outputs": [
    {
     "name": "stdout",
     "output_type": "stream",
     "text": [
      "113628013506.996\n"
     ]
    }
   ],
   "source": [
    "#x = float(input())\n",
    "x = 100500\n",
    "f_x = 6.996 + 45 * (x / 2)**2 + 2 * x \n",
    "print(f_x)"
   ]
  },
  {
   "cell_type": "markdown",
   "metadata": {},
   "source": [
    "Напишите программу, с помощью которой пользователь сможет рассчитать свой индекс массы тела (масса тела в килограммах, делённая на квадрат роста в метрах). Выведите ИМТ на экран. Названия переменных weight и height. Для теста используйте значения weight=80, height = 1.8"
   ]
  },
  {
   "cell_type": "code",
   "execution_count": 64,
   "metadata": {
    "pycharm": {
     "name": "#%%\n"
    }
   },
   "outputs": [
    {
     "name": "stdout",
     "output_type": "stream",
     "text": [
      "24.691358024691358\n"
     ]
    }
   ],
   "source": [
    "#weight = float(input())\n",
    "#height = float(input())\n",
    "weight = 80\n",
    "height = 1.8\n",
    "bmi = weight / height**2\n",
    "print(bmi)"
   ]
  },
  {
   "cell_type": "markdown",
   "metadata": {},
   "source": [
    "Напишите программу, которая принимает на вход два числа (a и b) и выводит корень третьей степени их среднего арифметического на экран.\n",
    "\n",
    "Вместо a = float(input()) и b = float(input()) используйте значения a = 270, b = 12.8"
   ]
  },
  {
   "cell_type": "code",
   "execution_count": 65,
   "metadata": {
    "pycharm": {
     "name": "#%%\n"
    }
   },
   "outputs": [
    {
     "name": "stdout",
     "output_type": "stream",
     "text": [
      "5.209745039548078\n"
     ]
    }
   ],
   "source": [
    "#a = float(input())\n",
    "#b = float(input())\n",
    "a = 270\n",
    "b = 12.8\n",
    "x = ((a + b) / 2)**(1/3)\n",
    "print(x)"
   ]
  },
  {
   "cell_type": "markdown",
   "metadata": {},
   "source": [
    "Напишите программу, которая принимает на вход целое число, умножает его на 3 и выводит на экран сообщение: \"Вы ввели число, которое при умножении на 3 даёт ...\". В сообщении вместо многоточия должен быть отображён результат умножения в виде целого числа.\n",
    "\n",
    "Вместо a = int(input()) укажите значение a = 23 и не меняйте значение переменной в ходе выполнения кода."
   ]
  },
  {
   "cell_type": "code",
   "execution_count": 66,
   "metadata": {
    "pycharm": {
     "name": "#%%\n"
    }
   },
   "outputs": [
    {
     "name": "stdout",
     "output_type": "stream",
     "text": [
      "Вы ввели число, которое при умножении на 3 даёт 69\n"
     ]
    }
   ],
   "source": [
    "#a = int(input())\n",
    "a = 23\n",
    "print('Вы ввели число, которое при умножении на 3 даёт %d' % (a * 3))"
   ]
  },
  {
   "cell_type": "markdown",
   "metadata": {},
   "source": [
    "Напишите программу, которая на вход принимает 3 строки и выводит на экран среднее геометрическое длин этих строк. Названия переменных string_1, string_2, string_3. Для теста используйте значения string_1 = 'Hello, world!', string_2 = 'Python <3', string_3 = 'qwerty'"
   ]
  },
  {
   "cell_type": "code",
   "execution_count": 67,
   "metadata": {
    "pycharm": {
     "name": "#%%\n"
    }
   },
   "outputs": [
    {
     "name": "stdout",
     "output_type": "stream",
     "text": [
      "8.88748820522211\n"
     ]
    }
   ],
   "source": [
    "#string_1 = input()\n",
    "#string_2 = input()\n",
    "#string_3 = input()\n",
    "string_1 = 'Hello, world!'\n",
    "string_2 = 'Python <3'\n",
    "string_3 = 'qwerty'\n",
    "x = (len(string_1) * len(string_2) * len(string_3)) ** (1/3)\n",
    "print(x)"
   ]
  },
  {
   "cell_type": "markdown",
   "metadata": {},
   "source": [
    "Напишите программу, которая принимает на вход строку и целое число и выводит на экран эту строку, её длину и её длину в степени введённого целого числа. При введении, например, строки \"привет\" и числа \"2\" на экране должно быть выведено \"привет 6 36\". Названия переменной string, power. Для теста используйте значения string = 'Привет!', power = 5"
   ]
  },
  {
   "cell_type": "code",
   "execution_count": 68,
   "metadata": {
    "pycharm": {
     "name": "#%%\n"
    }
   },
   "outputs": [
    {
     "name": "stdout",
     "output_type": "stream",
     "text": [
      "Привет! 7 16807\n"
     ]
    }
   ],
   "source": [
    "#string = input()\n",
    "#power = int(input())\n",
    "string = 'Привет!'\n",
    "power = 5\n",
    "print('%s %d %d' % (string, len(string), len(string)**power))"
   ]
  },
  {
   "cell_type": "markdown",
   "metadata": {},
   "source": [
    "Представьте, что вам нужно написать программу, которая принимает на вход от пользователя слово (переменная word), определяет, короткое оно или длинное, и выводит эту информацию на экран. Слова, в которых букв строго больше семи, будем считать длинными, а все остальные - короткими. Пусть результатом работы программы будет выведенная на экран фраза: \"Это слово короткое.\" или \"Это слово длинное.\" Напишите такую программу. Для проверки используйте word = 'ОченьДлинноеСлово'"
   ]
  },
  {
   "cell_type": "code",
   "execution_count": 69,
   "metadata": {
    "pycharm": {
     "name": "#%%\n"
    }
   },
   "outputs": [
    {
     "name": "stdout",
     "output_type": "stream",
     "text": [
      "Это слово длинное.\n"
     ]
    }
   ],
   "source": [
    "word = 'ОченьДлинноеСлово'\n",
    "if len(word) < 7:\n",
    "    print('Это слово короткое.')\n",
    "else:\n",
    "    print('Это слово длинное.') "
   ]
  },
  {
   "cell_type": "code",
   "execution_count": 70,
   "metadata": {
    "pycharm": {
     "name": "#%%\n"
    }
   },
   "outputs": [
    {
     "name": "stdout",
     "output_type": "stream",
     "text": [
      "Эх, это не очень редкое слово...\n"
     ]
    }
   ],
   "source": [
    "word = 'ОченьДлинноеСлово'\n",
    "if 'ф' in word:\n",
    "    print('Ого! Вы ввели редкое слово!')\n",
    "else:\n",
    "    print('Эх, это не очень редкое слово...')"
   ]
  },
  {
   "cell_type": "code",
   "execution_count": 71,
   "metadata": {
    "pycharm": {
     "name": "#%%\n"
    }
   },
   "outputs": [
    {
     "name": "stdout",
     "output_type": "stream",
     "text": [
      "13\n"
     ]
    }
   ],
   "source": [
    "number = 169\n",
    "sqrt = number ** (1/2)\n",
    "if not sqrt.is_integer():\n",
    "    print('Квадратный корень из %d - не целое число' % number)\n",
    "else:\n",
    "    print(int(sqrt))"
   ]
  },
  {
   "cell_type": "markdown",
   "metadata": {},
   "source": [
    "Напишите программу, которая принимает на вход от пользователя число от 1 до 7 (переменная number) и выводит на экран соответствующий день недели (на русском языке с маленькой буквы). Например, при вводе единицы появляется надпись \"понедельник\". Для проверки используйте number = 5"
   ]
  },
  {
   "cell_type": "code",
   "execution_count": 72,
   "metadata": {
    "pycharm": {
     "name": "#%%\n"
    }
   },
   "outputs": [
    {
     "name": "stdout",
     "output_type": "stream",
     "text": [
      "пятница\n"
     ]
    }
   ],
   "source": [
    "#number = int(input())\n",
    "number = 5\n",
    "if number in range(1, 7 + 1):\n",
    "    if number == 1:\n",
    "        print('понедельник')\n",
    "    elif number == 2:\n",
    "        print('вторник')\n",
    "    elif number == 3:\n",
    "        print('среда')\n",
    "    elif number == 4:\n",
    "        print('четверг')\n",
    "    elif number == 5:\n",
    "        print('пятница')\n",
    "    elif number == 6:\n",
    "        print('суббота')\n",
    "    else:\n",
    "        print('воскресенье')\n",
    "else:\n",
    "    print('Число должно быть в диапазоне от 1 до 7')"
   ]
  },
  {
   "cell_type": "markdown",
   "metadata": {},
   "source": [
    "Индекс массы тела (ИМТ) является простым и одновременно важным индикатором состояния здоровья человека. Он рассчитывается как отношение веса человека (в килограммах) к квадрату его роста (в метрах). Если ИМТ находится в пределах от 18,5 до 24,99 включительно, соответствие между массой тела и ростом человека считают нормальным. Значения ниже этого диапазона сигнализируют о недостаточной массе тела, выше — об избыточной массе тела. Помогите врачам автоматизировать принятие решений на основе ИМТ. Напишите программу, в которой человек может указать свой вес (weight) и рост (height), а затем прочитать заключение: \"Недостаточная масса тела\", \"Норма\", \"Избыточная масса тела\". Для проверки используйте weight = 80 и height=1.8"
   ]
  },
  {
   "cell_type": "code",
   "execution_count": 73,
   "metadata": {
    "pycharm": {
     "name": "#%%\n"
    }
   },
   "outputs": [
    {
     "name": "stdout",
     "output_type": "stream",
     "text": [
      "Норма\n"
     ]
    }
   ],
   "source": [
    "#weight = float(input())\n",
    "weight = 80\n",
    "height = 1.8\n",
    "bmi = weight / height**2\n",
    "if 18.5 <= bmi <= 24.99:\n",
    "    print('Норма')\n",
    "elif bmi > 24.99:\n",
    "    print('Избыточная масса тела')\n",
    "else:\n",
    "    print('Недостаточная масса тела')"
   ]
  },
  {
   "cell_type": "markdown",
   "metadata": {},
   "source": [
    "При выставлении оценок в ведомость преподавателю необходимо не только указать полученную студентом оценку, но и расшифровать её. В университете принята следующая шкала оценок: меньше 4 — 'неудовлетворительно', 4-5 —'удовлетворительно', 6-7 — 'хорошо', 8 и выше — 'отлично'. Напишите программу, которая принимает на вход полученную оценку (mark) и расшифровывает её таким образом: вводимая оценка — число от 1 до 10. Для проверки используйте mark = 7"
   ]
  },
  {
   "cell_type": "code",
   "execution_count": 74,
   "metadata": {
    "pycharm": {
     "name": "#%%\n"
    }
   },
   "outputs": [
    {
     "name": "stdout",
     "output_type": "stream",
     "text": [
      "хорошо\n"
     ]
    }
   ],
   "source": [
    "#mark = int(input())\n",
    "mark = 7\n",
    "if mark >= 8:\n",
    "    print('отлично')\n",
    "elif 5 < mark < 8:\n",
    "    print('хорошо')\n",
    "elif 3 < mark < 6:\n",
    "    print('удовлетворительно')    \n",
    "else:\n",
    "    print('неудовлетворительно')    "
   ]
  },
  {
   "cell_type": "markdown",
   "metadata": {},
   "source": [
    "Иногда человек хочет сходить в ресторан. Он может себе это позволить, если у него до зарплаты осталось (balance) больше 5 тысяч рублей. Если же у него меньше 5 тысяч, но больше 2.5 тысяч рублей, он может сходить только в фастфуд. Если меньше, то придётся терпеть до зарплаты. Напишите программу, которая принимает на вход количество оставшихся денег в рублях и говорит, можно ли человеку пойти в ресторан (варианты ответа программы - \"Сегодня твой выбор - ресторан!\", \"Эх, только фастфуд.\" и \"Придётся потерпеть!\"). Для проверки используйте balance = 455"
   ]
  },
  {
   "cell_type": "code",
   "execution_count": 75,
   "metadata": {
    "pycharm": {
     "name": "#%%\n"
    }
   },
   "outputs": [
    {
     "name": "stdout",
     "output_type": "stream",
     "text": [
      "Придётся потерпеть!\n"
     ]
    }
   ],
   "source": [
    "#balance = float(input())\n",
    "balance = 455\n",
    "if balance >= 5000:\n",
    "    print('Сегодня твой выбор - ресторан!')\n",
    "elif 2500 < balance < 5000:\n",
    "    print('Эх, только фастфуд.')   \n",
    "else:\n",
    "    print('Придётся потерпеть!')    "
   ]
  },
  {
   "cell_type": "markdown",
   "metadata": {},
   "source": [
    "Напишите программу, которая принимает на вход целое число (number) и проверяет его на делимость на 2, 3 и 5. При делимости на 2 без остатка она выведет \"Число делится на 2 без остатка.\", иначе при делимости на 3 выведет \"Число делится на 3 без остатка.\", иначе при делимости на 5 выведет \"Число делится на 5 без остатка.\", а иначе выведет \"Число не делится ни на 2, ни на 3, ни на 5 без остатка!\". Для проверки используйте number = 452"
   ]
  },
  {
   "cell_type": "code",
   "execution_count": 76,
   "metadata": {
    "pycharm": {
     "name": "#%%\n"
    }
   },
   "outputs": [
    {
     "name": "stdout",
     "output_type": "stream",
     "text": [
      "Число делится на 2 без остатка.\n"
     ]
    }
   ],
   "source": [
    "number = 452\n",
    "if number % 2 == 0:\n",
    "    print('Число делится на 2 без остатка.')\n",
    "elif number % 3 == 0:\n",
    "    print('Число делится на 3 без остатка.')\n",
    "elif number % 5 == 0:\n",
    "    print('Число делится на 5 без остатка.')    \n",
    "else:\n",
    "    print('Число не делится ни на 2, ни на 3, ни на 5 без остатка!') "
   ]
  },
  {
   "cell_type": "markdown",
   "metadata": {},
   "source": [
    "Аня очень любит цветы, но далеко не все. Только если это синие или белые розы. Напишите программу, которая принимает на вход цвет цветов (color) и название цветов (flower) в начальной форме и говорит, понравятся ли они Ане. (Варианты ответа: \"Ане понравятся эти цветы\", \"Аня не фанат таких цветов\"). Для проверки используйте flower = 'роза' и color = 'фиолетовый'"
   ]
  },
  {
   "cell_type": "code",
   "execution_count": 77,
   "metadata": {
    "pycharm": {
     "name": "#%%\n"
    }
   },
   "outputs": [
    {
     "name": "stdout",
     "output_type": "stream",
     "text": [
      "Аня не фанат таких цветов\n"
     ]
    }
   ],
   "source": [
    "flower = 'роза'\n",
    "color = 'фиолетовый'\n",
    "if flower == 'роза' and color in ['синий', 'белый']:\n",
    "    print('Ане понравятся эти цветы')\n",
    "else:\n",
    "    print('Аня не фанат таких цветов')"
   ]
  },
  {
   "cell_type": "markdown",
   "metadata": {},
   "source": [
    "Вы работаете в агентстве знакомств. К вам обратилась некая Алла. Она ищет мужчину, рост которого выше 170 см, вес — менее 80 кг и его любимый цвет — красный. Напишите программу, которая позволит определить, подходит ли Алле тот или иной кандидат. Программа должна выводить фразу: \"Ваша половинка нашлась!\", если подходит, и \"Попробуем поискать ещё...\", если нет. Для проверки используйте height = 180, weight = 92 и color = 'синий'."
   ]
  },
  {
   "cell_type": "code",
   "execution_count": 78,
   "metadata": {
    "pycharm": {
     "name": "#%%\n"
    }
   },
   "outputs": [
    {
     "name": "stdout",
     "output_type": "stream",
     "text": [
      "Попробуем поискать ещё...\n"
     ]
    }
   ],
   "source": [
    "height = 180\n",
    "weight = 92\n",
    "color = 'синий'\n",
    "min_height = 170\n",
    "max_weight = 80\n",
    "favorite_color = 'красный'\n",
    "if height > min_height and weight < max_weight and color == favorite_color:\n",
    "    print('Ваша половинка нашлась!')\n",
    "else:\n",
    "    print('Попробуем поискать ещё...')"
   ]
  },
  {
   "cell_type": "markdown",
   "metadata": {},
   "source": [
    "Мальчику Вове для решения домашней работы по математике потребовалось написать программу, которая выясняет, имеется ли среди делителей числа числа 2, 5, 173 или 821. Напишите программу, которая получает на вход целое число (number) и отвечает Вове \"Вова, это нужное число\", если среди делителей есть хотя бы одно число из 2, 5, 173, 821, или \"Вова, в этот раз ты не попал\", если это не так. Для проверки используйте number = 346"
   ]
  },
  {
   "cell_type": "code",
   "execution_count": 79,
   "metadata": {
    "pycharm": {
     "name": "#%%\n"
    }
   },
   "outputs": [
    {
     "name": "stdout",
     "output_type": "stream",
     "text": [
      "Вова, это нужное число\n"
     ]
    }
   ],
   "source": [
    "number = 346\n",
    "if number % 2 == 0 or number % 5 == 0 or number % 173 == 0 or number % 821 == 0:\n",
    "    print('Вова, это нужное число')\n",
    "else:\n",
    "    print('Вова, в этот раз ты не попал')"
   ]
  },
  {
   "cell_type": "markdown",
   "metadata": {},
   "source": [
    "Вы решили сделать систему, которая может подобрать для людей язык программирования в зависимости от их любимого слова. Напишите программу, которая может вам в этом помочь. Программа принимает на вход слово (fav_word), и если это \"рептилия\", \"питон\" или \"змея\", выводит \"Python\", если это \"плюс\" или \"плюсы\", выводит \"C++\", если это \"рубин\" или \"кристалл\", выводит \"Ruby\". Ну, а если что-то другое, то тоже выводит \"Python\". Для проверки используйте fav_word = 'Аппликация'"
   ]
  },
  {
   "cell_type": "code",
   "execution_count": 80,
   "metadata": {
    "pycharm": {
     "name": "#%%\n"
    }
   },
   "outputs": [
    {
     "name": "stdout",
     "output_type": "stream",
     "text": [
      "Python\n"
     ]
    }
   ],
   "source": [
    "fav_word = 'Аппликация'\n",
    "if fav_word in [\"рептилия\", \"питон\", \"змея\"]:\n",
    "    lang = 'Python'\n",
    "elif fav_word in [\"плюс\", \"плюсы\"]:\n",
    "    lang = 'C++'\n",
    "elif fav_word in [\"рубин\", \"кристалл\"]:\n",
    "    lang = 'Ruby'\n",
    "else:\n",
    "    lang = 'Python'\n",
    "    \n",
    "print(lang)"
   ]
  },
  {
   "cell_type": "markdown",
   "metadata": {},
   "source": [
    "Преподаватель ведёт занятия с 10:30 до 12:00, с 13:40 до 15:00, с 18:00 до 19:30. В университет он приходит в 10 утра, а уходит - в 20 часов. Время в университете, свободное от занятий, он посвящает консультированию студентов. Напишите программу, которая помогла бы студентам подстроиться под свободное время преподавателя: пусть они вводят желаемое время (сначала одно число — часы (hour), затем второе — минуты (minute)), а программа показывает, свободен преподаватель в это время или нет (выводит на экран \"Преподаватель свободен.\" или \"Преподаватель занят.\", соответственно). Для проверки используйте hour = 18 и minute = 47"
   ]
  },
  {
   "cell_type": "code",
   "execution_count": 81,
   "metadata": {
    "pycharm": {
     "name": "#%%\n"
    }
   },
   "outputs": [
    {
     "name": "stdout",
     "output_type": "stream",
     "text": [
      "Преподаватель занят.\n"
     ]
    }
   ],
   "source": [
    "hour = 18\n",
    "minute = 47\n",
    "\n",
    "def is_available(hour, minute):\n",
    "    start_time = 10 * 60\n",
    "    end_time = 20 * 60\n",
    "    request_time = hour * 60 + minute\n",
    "    if request_time in range(10 * 60 + 30, 12 * 60 + 1) \\\n",
    "        or request_time in range(13 * 60 + 40, 15 * 60 + 1) \\\n",
    "        or request_time in range(18 * 60, 19 * 60 + 30 + 1):\n",
    "        return False\n",
    "    elif request_time < start_time or request_time > end_time:\n",
    "        return False\n",
    "    else:\n",
    "        return True\n",
    "\n",
    "if is_available(hour, minute):\n",
    "    print('Преподаватель свободен.')\n",
    "else:\n",
    "    print('Преподаватель занят.')"
   ]
  },
  {
   "cell_type": "code",
   "execution_count": null,
   "metadata": {
    "pycharm": {
     "name": "#%%\n"
    }
   },
   "outputs": [],
   "source": []
  },
  {
   "cell_type": "markdown",
   "metadata": {},
   "source": [
    "# 1.19 Общий синтаксис цикла с параметром"
   ]
  },
  {
   "cell_type": "markdown",
   "metadata": {},
   "source": [
    "## Задание 1"
   ]
  },
  {
   "cell_type": "markdown",
   "metadata": {},
   "source": [
    "Напишите программу, которая помогает зашифровывать слова по этой схеме: принимает на вход слово (word) и последовательно выводит каждый нечётный символ в нём."
   ]
  },
  {
   "cell_type": "code",
   "execution_count": 82,
   "metadata": {
    "pycharm": {
     "name": "#%%\n"
    }
   },
   "outputs": [
    {
     "name": "stdout",
     "output_type": "stream",
     "text": [
      "п\n",
      "д\n",
      "и\n",
      "н\n",
      "к\n"
     ]
    }
   ],
   "source": [
    "word = 'подшипник'\n",
    "for pos, letter in enumerate(word):\n",
    "    if pos % 2 == 0: print(letter)"
   ]
  },
  {
   "cell_type": "markdown",
   "metadata": {},
   "source": [
    "## Задание 2"
   ]
  },
  {
   "cell_type": "markdown",
   "metadata": {},
   "source": [
    "Вы решили написать программу, которая выявляет високосные года в диапазоне лет. Пусть она принимает на вход два числа: нижнюю и верхнюю границы годов (переменные year_1 и year_2), и для каждого года из диапазона выводит информацию: \"... год високосный\" или \"... год невисокосный\", где вместо многоточия указывается номер года."
   ]
  },
  {
   "cell_type": "code",
   "execution_count": 83,
   "metadata": {
    "pycharm": {
     "name": "#%%\n"
    }
   },
   "outputs": [
    {
     "name": "stdout",
     "output_type": "stream",
     "text": [
      "2013 год невисокосный\n",
      "2014 год невисокосный\n",
      "2015 год невисокосный\n",
      "2016 год високосный\n",
      "2017 год невисокосный\n",
      "2018 год невисокосный\n",
      "2019 год невисокосный\n",
      "2020 год високосный\n"
     ]
    }
   ],
   "source": [
    "year_1 = 2013\n",
    "year_2 = 2020\n",
    "\n",
    "def leap_year(year):\n",
    "    # divisible by 4\n",
    "    if year % 4 == 0:\n",
    "        # divisible by 100 but not divisible by 400\n",
    "        if year % 100 == 0 and year % 400 != 0:\n",
    "            return False\n",
    "        else:\n",
    "            return True\n",
    "        return True\n",
    "    return False\n",
    "\n",
    "\n",
    "for year in range(year_1, year_2 + 1):\n",
    "    print(year, 'год високосный' if leap_year(year) else 'год невисокосный')"
   ]
  },
  {
   "cell_type": "markdown",
   "metadata": {},
   "source": [
    "## Задание 3"
   ]
  },
  {
   "cell_type": "markdown",
   "metadata": {},
   "source": [
    "Напишите программу, которая принимает на вход слово (word) и последовательно выводит все русские гласные из этого слова."
   ]
  },
  {
   "cell_type": "code",
   "execution_count": 84,
   "metadata": {
    "pycharm": {
     "name": "#%%\n"
    }
   },
   "outputs": [
    {
     "name": "stdout",
     "output_type": "stream",
     "text": [
      "и\n",
      "у\n",
      "а\n",
      "и\n",
      "а\n"
     ]
    }
   ],
   "source": [
    "LETTERS = 'аоиеёэыуюя'\n",
    "word = 'Зимушка-зима'\n",
    "for letter in word:\n",
    "    if letter.lower() in LETTERS:\n",
    "        print(letter)"
   ]
  },
  {
   "cell_type": "markdown",
   "metadata": {},
   "source": [
    "## Задание 4 "
   ]
  },
  {
   "cell_type": "markdown",
   "metadata": {},
   "source": [
    "Попросите пользователя ввести своё имя (name) и с помощью цикла выведите каждую букву этого имени на экран, сопроводив порядковым номером с помощью фразы: \"Буква ... в этом имени - ...\" (например, \"Буква 1 в этом имени - С\")."
   ]
  },
  {
   "cell_type": "code",
   "execution_count": 85,
   "metadata": {
    "pycharm": {
     "name": "#%%\n"
    }
   },
   "outputs": [
    {
     "name": "stdout",
     "output_type": "stream",
     "text": [
      "Буква 1 в этом имени - С\n",
      "Буква 2 в этом имени - е\n",
      "Буква 3 в этом имени - р\n",
      "Буква 4 в этом имени - г\n",
      "Буква 5 в этом имени - е\n",
      "Буква 6 в этом имени - й\n"
     ]
    }
   ],
   "source": [
    "name  = 'Сергей'\n",
    "for index, letter in enumerate(name ):\n",
    "    print(f'Буква {index + 1} в этом имени - {letter}')"
   ]
  },
  {
   "cell_type": "markdown",
   "metadata": {},
   "source": [
    "## Задание 5"
   ]
  },
  {
   "cell_type": "markdown",
   "metadata": {},
   "source": [
    "Напишите программу, которая последовательно выводит нечётные числа, которые делятся на 3 или 5, от первого введённого числа (num_1) до второго введённого числа (num_2) включительно. Если второе число меньше первого или первое число меньше нуля, выведите \"Введён неверный диапазон чисел\"."
   ]
  },
  {
   "cell_type": "code",
   "execution_count": 86,
   "metadata": {
    "pycharm": {
     "name": "#%%\n"
    }
   },
   "outputs": [
    {
     "name": "stdout",
     "output_type": "stream",
     "text": [
      "25\n",
      "27\n",
      "33\n",
      "35\n",
      "39\n",
      "45\n"
     ]
    }
   ],
   "source": [
    "num_1 = 25\n",
    "num_2 = 45\n",
    "\n",
    "try:\n",
    "    if num_2 < num_1 or num_1 < 0:\n",
    "        raise(Exception('Введён неверный диапазон чисел'))\n",
    "\n",
    "    for num in range(num_1, num_2 + 1):\n",
    "        if num % 2 == 0:\n",
    "            continue\n",
    "            \n",
    "        if num % 3 == 0 or num % 5 == 0:\n",
    "            print(num)\n",
    "    \n",
    "except Exception as err:\n",
    "    print(err)"
   ]
  },
  {
   "cell_type": "code",
   "execution_count": null,
   "metadata": {
    "pycharm": {
     "name": "#%%\n"
    }
   },
   "outputs": [],
   "source": []
  },
  {
   "cell_type": "markdown",
   "metadata": {},
   "source": [
    "# 1.20"
   ]
  },
  {
   "cell_type": "markdown",
   "metadata": {},
   "source": [
    "Выведите таблицу квадратов и кубов для чисел от 1 до 10 включительно. (Каждая новая строчка распечатывается через print() и имеет формат '2 4 8', то есть число, затем его квадрат, а затем его куб)"
   ]
  },
  {
   "cell_type": "code",
   "execution_count": 87,
   "metadata": {
    "pycharm": {
     "name": "#%%\n"
    }
   },
   "outputs": [
    {
     "name": "stdout",
     "output_type": "stream",
     "text": [
      "1 1 1\n",
      "2 4 8\n",
      "3 9 27\n",
      "4 16 64\n",
      "5 25 125\n",
      "6 36 216\n",
      "7 49 343\n",
      "8 64 512\n",
      "9 81 729\n",
      "10 100 1000\n"
     ]
    }
   ],
   "source": [
    "for i in range(1, 11):\n",
    "    print('%d %d %d' % (i, i**2, i**3))"
   ]
  },
  {
   "cell_type": "markdown",
   "metadata": {},
   "source": [
    "Напишите программу, которая получает на вход число (number) и последовательно в порядке возрастания выводит все его делители на экран (само число тоже является своим делителем).\n",
    "\n",
    "Для проверки используйте number = 84"
   ]
  },
  {
   "cell_type": "code",
   "execution_count": 88,
   "metadata": {
    "pycharm": {
     "name": "#%%\n"
    }
   },
   "outputs": [
    {
     "name": "stdout",
     "output_type": "stream",
     "text": [
      "1\n",
      "2\n",
      "3\n",
      "4\n",
      "6\n",
      "7\n",
      "12\n",
      "14\n",
      "21\n",
      "28\n",
      "42\n",
      "84\n"
     ]
    }
   ],
   "source": [
    "#number = int(input())\n",
    "number = 84\n",
    "for i in range(1, number + 1):\n",
    "    if number % i == 0:\n",
    "        print(i)"
   ]
  },
  {
   "cell_type": "markdown",
   "metadata": {},
   "source": [
    "Написать программу, которая ищет все общие (не равные 1) делители двух чисел (num_1 и num_2), введённых пользователем, и последовательно в порядке возрастания выводит их на экран. Если общих делителей нет, не выводит на экран ничего.\n",
    "\n",
    "Для проверки используйте num_1 = 12 и num_2 = 38"
   ]
  },
  {
   "cell_type": "code",
   "execution_count": 89,
   "metadata": {
    "pycharm": {
     "name": "#%%\n"
    }
   },
   "outputs": [
    {
     "name": "stdout",
     "output_type": "stream",
     "text": [
      "2\n"
     ]
    }
   ],
   "source": [
    "#num_1 = int(input())\n",
    "#num_2 = int(input())\n",
    "num_1 = 12\n",
    "num_2 = 38\n",
    "\n",
    "# Наибольший общий делитель двух целых чисел.\n",
    "def find_largest_factor(m, n):\n",
    "    # 1. НОД(0, n) = n; НОД(m, 0) = m; НОД(m, m) = m;\n",
    "    if m == 0 and n != 0:\n",
    "        return n\n",
    "    \n",
    "    if m != 0 and n == 0:\n",
    "        return m\n",
    "    \n",
    "    if m == n:\n",
    "        return m\n",
    "    \n",
    "    # 2. НОД(1, n) = 1; НОД(m, 1) = 1;\n",
    "    if m == 1 or n == 1:\n",
    "        return 1\n",
    "    \n",
    "    # 3. Если m, n чётные, то НОД(m, n) = 2*НОД(m/2, n/2);\n",
    "    if m % 2 == 0 and n % 2 ==0:\n",
    "        return 2 * find_largest_factor(m/2, n/2)\n",
    "    \n",
    "    # 4. Если m чётное, n нечётное, то НОД(m, n) = НОД(m/2, n);\n",
    "    if m % 2 == 0 and n % 2 != 0:\n",
    "        return find_largest_factor(m/2, n)\n",
    "    \n",
    "    # 5. Если n чётное, m нечётное, то НОД(m, n) = НОД(m, n/2);\n",
    "    if m % 2 != 0 and n % 2 == 0:\n",
    "        return find_largest_factor(m, n/2)\n",
    "    \n",
    "    # 6. Если m, n нечётные и n > m, то НОД(m, n) = НОД(m, (n-m)/2) = НОД((n-m)/2, m);\n",
    "    if m % 2 != 0 and n % 2 != 0 and n > m:\n",
    "        return find_largest_factor(m, (n-m)/2)\n",
    "    \n",
    "    # 7. Если m, n нечётные и n < m, то НОД(m, n) = НОД((m-n)/2, n);\n",
    "    if m % 2 != 0 and n % 2 != 0 and n < m:\n",
    "        return find_largest_factor((m-n)/2, n)\n",
    "\n",
    "largest_factor = int(find_largest_factor(num_1, num_2))\n",
    "if largest_factor > 1:\n",
    "    for i in range(2, largest_factor + 1):\n",
    "        print(i)"
   ]
  },
  {
   "cell_type": "markdown",
   "metadata": {},
   "source": [
    "Написать программу, которая на вход получает натуральное число n и выводит n-е число ряда Фибоначчи на экран. Для проверки используйте n = 10\n",
    "\n",
    "Пояснение: последовательность Фибоначчи — это ряд чисел, в котором первые два элемента равны 1, а каждый следующий элемент равен сумме двух предыдущих: 1, 1, 2, 3, 5, 8, 13, 21, ..."
   ]
  },
  {
   "cell_type": "code",
   "execution_count": 90,
   "metadata": {
    "pycharm": {
     "name": "#%%\n"
    }
   },
   "outputs": [
    {
     "name": "stdout",
     "output_type": "stream",
     "text": [
      "55\n"
     ]
    }
   ],
   "source": [
    "n = 10\n",
    "\n",
    "def fibonacci(n):\n",
    "    if n < 0: \n",
    "        raise(Exception('Неверный ввод'))\n",
    "    elif n == 0: \n",
    "        return 0\n",
    "    elif n == 1: \n",
    "        return 1\n",
    "    else: \n",
    "        return fibonacci(n-1) + fibonacci(n-2) \n",
    "            \n",
    "try:      \n",
    "    print(fibonacci(n))\n",
    "except Exception as e:\n",
    "    print(e)"
   ]
  },
  {
   "cell_type": "markdown",
   "metadata": {},
   "source": [
    "Напишите программу, которая выводит таблицу умножения от 1 до 10 для выбранного целого числа (number). Если number = 15, то строка таблицы имеет вид \"15 X 3 = 45\".\n",
    "\n",
    "Для проверки используйте number = 15"
   ]
  },
  {
   "cell_type": "code",
   "execution_count": 91,
   "metadata": {
    "pycharm": {
     "name": "#%%\n"
    }
   },
   "outputs": [
    {
     "name": "stdout",
     "output_type": "stream",
     "text": [
      "15 X 1 = 15\n",
      "15 X 2 = 30\n",
      "15 X 3 = 45\n",
      "15 X 4 = 60\n",
      "15 X 5 = 75\n",
      "15 X 6 = 90\n",
      "15 X 7 = 105\n",
      "15 X 8 = 120\n",
      "15 X 9 = 135\n",
      "15 X 10 = 150\n"
     ]
    }
   ],
   "source": [
    "number = 15\n",
    "for i in range(1, 10 + 1):\n",
    "    print('%d X %d = %d' % (number, i, number * i))"
   ]
  },
  {
   "cell_type": "markdown",
   "metadata": {},
   "source": [
    "# 1.21"
   ]
  },
  {
   "cell_type": "markdown",
   "metadata": {},
   "source": [
    "Напишите программу, которая ищет наибольший (не равный 1) общий делитель двух чисел, введённых пользователем (num_1, num_2), и выводит его на экран. Если общих делителей нет, выводит на экран \"Общих делителей не найдено\".\n",
    "\n",
    "Для проверки используйте num_1 = 1812, num_2 = 2500 и не меняйте их в ходе решения.\n",
    "\n",
    "PS: Если использовать break в цикле for - else, то при прерывании цикла код после else выполняться не будет."
   ]
  },
  {
   "cell_type": "code",
   "execution_count": 92,
   "metadata": {
    "pycharm": {
     "name": "#%%\n"
    }
   },
   "outputs": [
    {
     "name": "stdout",
     "output_type": "stream",
     "text": [
      "4\n"
     ]
    }
   ],
   "source": [
    "#num_1 = int(input())\n",
    "#num_2 = int(input())\n",
    "num_1 = 1812\n",
    "num_2 = 2500\n",
    "\n",
    "# Наибольший общий делитель двух целых чисел.\n",
    "def find_largest_factor(m, n):\n",
    "    # 1. НОД(0, n) = n; НОД(m, 0) = m; НОД(m, m) = m;\n",
    "    if m == 0 and n != 0:\n",
    "        return n\n",
    "    \n",
    "    if m != 0 and n == 0:\n",
    "        return m\n",
    "    \n",
    "    if m == n:\n",
    "        return m\n",
    "    \n",
    "    # 2. НОД(1, n) = 1; НОД(m, 1) = 1;\n",
    "    if m == 1 or n == 1:\n",
    "        return 1\n",
    "    \n",
    "    # 3. Если m, n чётные, то НОД(m, n) = 2*НОД(m/2, n/2);\n",
    "    if m % 2 == 0 and n % 2 ==0:\n",
    "        return 2 * find_largest_factor(m/2, n/2)\n",
    "    \n",
    "    # 4. Если m чётное, n нечётное, то НОД(m, n) = НОД(m/2, n);\n",
    "    if m % 2 == 0 and n % 2 != 0:\n",
    "        return find_largest_factor(m/2, n)\n",
    "    \n",
    "    # 5. Если n чётное, m нечётное, то НОД(m, n) = НОД(m, n/2);\n",
    "    if m % 2 != 0 and n % 2 == 0:\n",
    "        return find_largest_factor(m, n/2)\n",
    "    \n",
    "    # 6. Если m, n нечётные и n > m, то НОД(m, n) = НОД(m, (n-m)/2) = НОД((n-m)/2, m);\n",
    "    if m % 2 != 0 and n % 2 != 0 and n > m:\n",
    "        return find_largest_factor(m, (n-m)/2)\n",
    "    \n",
    "    # 7. Если m, n нечётные и n < m, то НОД(m, n) = НОД((m-n)/2, n);\n",
    "    if m % 2 != 0 and n % 2 != 0 and n < m:\n",
    "        return find_largest_factor((m-n)/2, n)\n",
    "\n",
    "largest_factor = int(find_largest_factor(num_1, num_2))\n",
    "if largest_factor > 1:\n",
    "    print(largest_factor)\n",
    "else:\n",
    "    print('Общих делителей не найдено')"
   ]
  },
  {
   "cell_type": "markdown",
   "metadata": {},
   "source": [
    "Напишите программу с использованием оператора continue, которая принимает на вход строку (string), после чего выводит её посимвольно, но без букв \"а\", \"б\", \"в\". Пример: ввод \"арбуз\", вывод \"руз\".\n",
    "\n",
    "Для проверки используйте string = 'абстракция'\n",
    "PS: Чтобы выводить побуквенно в одну строчку, в функции print предусмотрен параметр end. Если написать print('Hallo!', end=''), следующий print продолжит вывод не с новой строки."
   ]
  },
  {
   "cell_type": "code",
   "execution_count": 93,
   "metadata": {
    "pycharm": {
     "name": "#%%\n"
    }
   },
   "outputs": [
    {
     "name": "stdout",
     "output_type": "stream",
     "text": [
      "стркция"
     ]
    }
   ],
   "source": [
    "#string = input()\n",
    "string = 'абстракция'\n",
    "for letter in string:\n",
    "    if letter in [\"а\", \"б\", \"в\"]:\n",
    "        continue\n",
    "        \n",
    "    print(letter, end='')"
   ]
  },
  {
   "cell_type": "markdown",
   "metadata": {},
   "source": [
    "Напишите программу, которая анализирует ответы пользователя на вопрос \"Любите ли вы Python?\". Если ответ пользователя (string) — \"Да\", то программа отвечает: \"Это отлично!\", иначе программа отвечает: \"Увы, это неправильный ответ\". Программа должна \"спросить\" пользователя максимум 5 раз. При пяти ответах \"Нет\" выводит: \"Это безнадёжно!\".\n",
    "\n",
    "Для проверки используйте string = 'Нет', а на каждой итерации цикла не меняйте значение переменной.\n",
    "\n",
    "Команду, выводящую на экран вопрос: \"Любите ли вы Python?\", в код включать НЕ нужно."
   ]
  },
  {
   "cell_type": "code",
   "execution_count": 94,
   "metadata": {
    "pycharm": {
     "name": "#%%\n"
    }
   },
   "outputs": [
    {
     "name": "stdout",
     "output_type": "stream",
     "text": [
      "Увы, это неправильный ответ\n",
      "Увы, это неправильный ответ\n",
      "Увы, это неправильный ответ\n",
      "Увы, это неправильный ответ\n",
      "Увы, это неправильный ответ\n",
      "Это безнадёжно!\n"
     ]
    }
   ],
   "source": [
    "max_tries = 5\n",
    "tries = 0\n",
    "no_answers = 0\n",
    "while tries < max_tries:\n",
    "    #string = input('Любите ли вы Python?\\n')\n",
    "    string = 'Нет'\n",
    "    tries += 1\n",
    "    if string == 'Да':\n",
    "        print(\"Это отлично!\")\n",
    "        break\n",
    "        \n",
    "    if string == 'Нет' or string != 'Да':\n",
    "        no_answers += 1\n",
    "        print(\"Увы, это неправильный ответ\")\n",
    "\n",
    "    if no_answers == 5:\n",
    "        print(\"Это безнадёжно!\")\n",
    "        break"
   ]
  },
  {
   "cell_type": "markdown",
   "metadata": {},
   "source": [
    "Напишите программу, которая проверяет, является ли введённое число (number) простым. Если число простое, то программа выводит \"Простое\", иначе \"Не является простым\".\n",
    "\n",
    "Для проверки используйте number = 173"
   ]
  },
  {
   "cell_type": "code",
   "execution_count": 95,
   "metadata": {
    "pycharm": {
     "name": "#%%\n"
    }
   },
   "outputs": [
    {
     "name": "stdout",
     "output_type": "stream",
     "text": [
      "Простое\n"
     ]
    }
   ],
   "source": [
    "number = 173\n",
    "# Число x является простым, если оно больше 1 и при этом делится без остатка только на 1 и на x.\n",
    "# Очень упрощеная версия.\n",
    "def prime_number(n):\n",
    "    numbers = []\n",
    "    for i in range(1, n + 1):\n",
    "        if n % i == 0:\n",
    "            numbers.append(i)\n",
    "            \n",
    "    if len(numbers) == 2:\n",
    "        return True\n",
    "    else:\n",
    "        return False\n",
    "\n",
    "if number <= 1 or not prime_number(number):\n",
    "    print(\"Не является простым\")\n",
    "else:\n",
    "    print(\"Простое\")           "
   ]
  },
  {
   "cell_type": "markdown",
   "metadata": {},
   "source": [
    "Напишите программу, которая проверяет введённую пользователем строку (string) на соответствие правилу: у строки нет ни одной гласной русской маленькой буквы на каждой чётной позиции. Пример подходящей строки: \"пока!\" (в Python первый символ является нулевым, поэтому мы считаем первый символ чётным). Если строка подходит, программа выводит на экран \"Какая хорошая строка!\", а иначе — \"Строка мне не нравится!\".\n",
    "\n",
    "Для проверки используйте string = 'прелестная строка'"
   ]
  },
  {
   "cell_type": "code",
   "execution_count": 96,
   "metadata": {
    "pycharm": {
     "name": "#%%\n"
    }
   },
   "outputs": [
    {
     "name": "stdout",
     "output_type": "stream",
     "text": [
      "Строка мне не нравится!\n"
     ]
    }
   ],
   "source": [
    "LETTERS = 'аоиеёэыуюя'\n",
    "string = 'прелестная строка'\n",
    "\n",
    "def good_string(string):\n",
    "    for pos, letter in enumerate(string):\n",
    "        if (pos + 1) % 2 == 0 and letter not in LETTERS:\n",
    "            return False\n",
    "    return True    \n",
    "        \n",
    "if good_string(string):\n",
    "    print(\"Какая хорошая строка!\")\n",
    "else:    \n",
    "    print(\"Строка мне не нравится!\")"
   ]
  },
  {
   "cell_type": "markdown",
   "metadata": {},
   "source": [
    "## 1.22"
   ]
  },
  {
   "cell_type": "markdown",
   "metadata": {},
   "source": [
    "Клиент банка открыл вклад под 10% годовых и положил на этот счёт Y рублей. Напишите программу, позволяющую определить, через сколько лет клиент будет иметь на счету сумму не менее Z рублей. На вход программе идут два числа — Y, Z.\n",
    "\n",
    "Для проверки используйте Y = 170000, Z = 1000000. В результате работы программа должна вывести на экран число лет, которое потребуется для накопления требуемой суммы. Ответ должен быть выведен на экран в виде целого числа без какого-либо дополнительного поясняющего текста.\n",
    "\n",
    "Внимание: в процессе выполнения программы изменяйте переменную Y."
   ]
  },
  {
   "cell_type": "code",
   "execution_count": 97,
   "metadata": {
    "pycharm": {
     "name": "#%%\n"
    }
   },
   "outputs": [
    {
     "name": "stdout",
     "output_type": "stream",
     "text": [
      "19\n"
     ]
    }
   ],
   "source": [
    "#Y = int(input())\n",
    "#Z = int(input())\n",
    "Y = 170000\n",
    "Z = 1000000\n",
    "years = 0\n",
    "while Y < Z:\n",
    "    years += 1\n",
    "    Y += Y * 1/10\n",
    "else:\n",
    "    print(years)"
   ]
  },
  {
   "cell_type": "markdown",
   "metadata": {},
   "source": [
    "Пассажирский лифт имеет ограничение на перевозку: не более 400 кг единовременно. Пусть на вход программе поступает вес (weight) входящих в лифт людей, а в случае, когда возникает перевес, программа выдаёт предупреждение: \"Перевес N кг\". Например, при перевесе в 15 кг должно быть выведено сообщение: \"Перевес 15 кг\". Обратите внимание, что в эталонной фразе не используются знаки препинания.\n",
    "\n",
    "Для проверки используйте weight = 77 и не меняйте его по ходу цикла."
   ]
  },
  {
   "cell_type": "code",
   "execution_count": 98,
   "metadata": {
    "pycharm": {
     "name": "#%%\n"
    }
   },
   "outputs": [
    {
     "name": "stdout",
     "output_type": "stream",
     "text": [
      "Перевес 62 кг\n"
     ]
    }
   ],
   "source": [
    "weight = 77\n",
    "current_weight = 0\n",
    "while True:\n",
    "    current_weight += weight\n",
    "    if current_weight > 400:\n",
    "        print('Перевес %d кг' % (current_weight - 400))\n",
    "        break"
   ]
  },
  {
   "cell_type": "markdown",
   "metadata": {},
   "source": [
    "Вы играете в компьютерную игру, дошли до схватки с финальным боссом, но вот беда: ваш компьютер \"заглючил\", и вы не можете управлять персонажем в игре. Босс атакует и каждую секунду наносит один удар, который отнимает у вас 80 единиц здоровья. На схватку с боссом вы вышли с 500 единицами здоровья. Создайте цикл, позволяющий понять, через сколько секунд босс вас убьет.\n",
    "\n",
    "В результате работы программа должна вывести на экран число секунд, в течение которых будет длиться схватка. Ответ должен быть выведен на экран в виде целого числа без какого-либо дополнительного поясняющего текста.\n",
    "\n",
    "Для проверки используйте переменную current_health для сохранения текущего уровня здоровья и изменяйте её по ходу цикла, и — переменную attack = 80 для хранения значения атаки Босса."
   ]
  },
  {
   "cell_type": "code",
   "execution_count": 99,
   "metadata": {
    "pycharm": {
     "name": "#%%\n"
    }
   },
   "outputs": [
    {
     "name": "stdout",
     "output_type": "stream",
     "text": [
      "7\n"
     ]
    }
   ],
   "source": [
    "attack = 80\n",
    "current_health = 500\n",
    "seconds = 0\n",
    "while current_health > 0:\n",
    "    seconds += 1\n",
    "    current_health -= attack\n",
    "else:\n",
    "    print(seconds)"
   ]
  },
  {
   "cell_type": "markdown",
   "metadata": {},
   "source": [
    "На банковской карте хранятся 10 000 рублей. Хозяин карты написал программу, в которую вводит свои расходы (spent), после чего программа показывает баланс (balance). Баланс выводится в виде целого числа без каких-либо дополнительных сообщений. Например, при остатке 3500 рублей на экран выводится число 3500. Когда сумма средств на карте становится ниже нуля, программа выводит сообщение: \"Слишком большие расходы\".\n",
    "\n",
    "Напишите программу, которая выводит на экран начальный баланс карты (число 10000), баланс после каждого списания и сообщение \"Слишком большие расходы\" при достижении отрицательного баланса.\n",
    "\n",
    "Для проверки используйте переменную spent = 2800 и НЕ меняйте её по ходу цикла. Переменная balance должна меняться после каждого шага цикла."
   ]
  },
  {
   "cell_type": "code",
   "execution_count": 100,
   "metadata": {
    "pycharm": {
     "name": "#%%\n"
    }
   },
   "outputs": [
    {
     "name": "stdout",
     "output_type": "stream",
     "text": [
      "10000\n",
      "7200\n",
      "4400\n",
      "1600\n",
      "Слишком большие расходы\n"
     ]
    }
   ],
   "source": [
    "spent = 2800\n",
    "balance = 10000\n",
    "print(balance)\n",
    "while balance > 0:\n",
    "    balance -= spent\n",
    "    if balance < 0:\n",
    "        print(\"Слишком большие расходы\")\n",
    "        break;    \n",
    "    print(balance)"
   ]
  },
  {
   "cell_type": "markdown",
   "metadata": {},
   "source": [
    "Представьте, что перед вами большая цистерна объёмом 1000 литров, которую необходимо заполнить водой. У вас есть робот, который доставляет в цистерну сначала 5 литров, а затем каждый раз на 5 литров больше, чем в предыдущий. Изначально в цистерне нет воды. Через сколько заходов робота вода польётся через край?\n",
    "\n",
    "В результате работы программа должна вывести на экран число заходов, необходимых роботу для заполнения цистерны до краёв. Ответ должен быть выведен на экран в виде целого числа без какого-либо дополнительного поясняющего текста.\n",
    "\n",
    "Для проверки используйте переменную volume, равную свободному объёму в цистерне, и меняйте её по ходу цикла (на последнем шаге она должна быть меньше нуля)."
   ]
  },
  {
   "cell_type": "code",
   "execution_count": 101,
   "metadata": {
    "pycharm": {
     "name": "#%%\n"
    }
   },
   "outputs": [
    {
     "name": "stdout",
     "output_type": "stream",
     "text": [
      "20\n"
     ]
    }
   ],
   "source": [
    "volume = 1000\n",
    "steps = 0\n",
    "capacity = 5\n",
    "while True:    \n",
    "    steps += 1\n",
    "    volume -= capacity\n",
    "    capacity += 5\n",
    "    if volume < 0:\n",
    "        print(steps)\n",
    "        break"
   ]
  },
  {
   "cell_type": "code",
   "execution_count": null,
   "metadata": {
    "pycharm": {
     "name": "#%%\n"
    }
   },
   "outputs": [],
   "source": []
  },
  {
   "cell_type": "code",
   "execution_count": null,
   "metadata": {},
   "outputs": [],
   "source": []
  }
 ],
 "metadata": {
  "kernelspec": {
   "display_name": "Python 3",
   "language": "python",
   "name": "python3"
  },
  "language_info": {
   "codemirror_mode": {
    "name": "ipython",
    "version": 3
   },
   "file_extension": ".py",
   "mimetype": "text/x-python",
   "name": "python",
   "nbconvert_exporter": "python",
   "pygments_lexer": "ipython3",
   "version": "3.7.6"
  },
  "pycharm": {
   "stem_cell": {
    "cell_type": "raw",
    "metadata": {
     "collapsed": false
    },
    "source": []
   }
  }
 },
 "nbformat": 4,
 "nbformat_minor": 4
}
