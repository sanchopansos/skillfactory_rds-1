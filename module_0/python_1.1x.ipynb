{
 "cells": [
  {
   "cell_type": "markdown",
   "metadata": {},
   "source": [
    "`(67 + 33) / 25 = x / (25 - 20)`"
   ]
  },
  {
   "cell_type": "code",
   "execution_count": 19,
   "metadata": {},
   "outputs": [
    {
     "name": "stdout",
     "output_type": "stream",
     "text": [
      "20\n"
     ]
    }
   ],
   "source": [
    "x = ((67 + 33) / 25) * (25 - 20)\n",
    "print('%d' % x)"
   ]
  },
  {
   "cell_type": "markdown",
   "metadata": {},
   "source": [
    "`(4 + 5 * 60 - 17 + 65/4) ** (1/2)`"
   ]
  },
  {
   "cell_type": "code",
   "execution_count": 13,
   "metadata": {},
   "outputs": [
    {
     "name": "stdout",
     "output_type": "stream",
     "text": [
      "17.414\n"
     ]
    }
   ],
   "source": [
    "x = (4 + 5 * 60 - 17 + 65/4) ** (1/2)\n",
    "print('%.03f' % x)"
   ]
  },
  {
   "cell_type": "markdown",
   "metadata": {},
   "source": [
    "`6.996 + 45 * (13/2)**2 + 2 * 18**(1/2)`"
   ]
  },
  {
   "cell_type": "code",
   "execution_count": 14,
   "metadata": {},
   "outputs": [
    {
     "name": "stdout",
     "output_type": "stream",
     "text": [
      "1916.731\n"
     ]
    }
   ],
   "source": [
    "x = 6.996 + 45 * (13/2)**2 + 2 * 18**(1/2)\n",
    "print('%.03f' % x)"
   ]
  },
  {
   "cell_type": "markdown",
   "metadata": {},
   "source": [
    "`(1267 - 20 * (5**3/2)**2) / (8**5 * 36**(1/2))`"
   ]
  },
  {
   "cell_type": "code",
   "execution_count": 15,
   "metadata": {},
   "outputs": [
    {
     "name": "stdout",
     "output_type": "stream",
     "text": [
      "-0.391\n"
     ]
    }
   ],
   "source": [
    "x = (1267 - 20 * (5**3/2)**2) / (8**5 * 36**(1/2))\n",
    "print('%.03f' % x)"
   ]
  },
  {
   "cell_type": "markdown",
   "metadata": {},
   "source": [
    "`(((9**(1/2))**3)**2)**2 / -2**(-3)`"
   ]
  },
  {
   "cell_type": "code",
   "execution_count": 21,
   "metadata": {},
   "outputs": [
    {
     "name": "stdout",
     "output_type": "stream",
     "text": [
      "-4251528\n"
     ]
    }
   ],
   "source": [
    "x = (((9**(1/2))**3)**2)**2 / -2**(-3)\n",
    "print('%d' % x)"
   ]
  },
  {
   "cell_type": "code",
   "execution_count": 22,
   "metadata": {},
   "outputs": [
    {
     "data": {
      "text/plain": [
       "'hey!'"
      ]
     },
     "execution_count": 22,
     "metadata": {},
     "output_type": "execute_result"
    }
   ],
   "source": [
    "'hey'+'!'"
   ]
  },
  {
   "cell_type": "code",
   "execution_count": 23,
   "metadata": {},
   "outputs": [
    {
     "data": {
      "text/plain": [
       "float"
      ]
     },
     "execution_count": 23,
     "metadata": {},
     "output_type": "execute_result"
    }
   ],
   "source": [
    "type(2+3.4)"
   ]
  },
  {
   "cell_type": "code",
   "execution_count": 24,
   "metadata": {},
   "outputs": [
    {
     "data": {
      "text/plain": [
       "int"
      ]
     },
     "execution_count": 24,
     "metadata": {},
     "output_type": "execute_result"
    }
   ],
   "source": [
    "type(2+3)"
   ]
  },
  {
   "cell_type": "code",
   "execution_count": 26,
   "metadata": {},
   "outputs": [
    {
     "name": "stdout",
     "output_type": "stream",
     "text": [
      "Сегодня Вас зовут Алексей\n"
     ]
    }
   ],
   "source": [
    "#name = input()\n",
    "name = 'Алексей'\n",
    "print('Сегодня Вас зовут %s' % name)"
   ]
  },
  {
   "cell_type": "code",
   "execution_count": 27,
   "metadata": {},
   "outputs": [
    {
     "name": "stdout",
     "output_type": "stream",
     "text": [
      "13\n"
     ]
    }
   ],
   "source": [
    "#word = input()\n",
    "word = 'Очаровательно'\n",
    "print(len(word))"
   ]
  },
  {
   "cell_type": "markdown",
   "metadata": {},
   "source": [
    "Напишите программу, которая принимает на вход два целых числа (a и b) и выводит на экран остаток от деления первого числа (а) на второе (b)."
   ]
  },
  {
   "cell_type": "code",
   "execution_count": 30,
   "metadata": {},
   "outputs": [
    {
     "name": "stdout",
     "output_type": "stream",
     "text": [
      "2\n"
     ]
    }
   ],
   "source": [
    "#a = int(input())\n",
    "#b = int(input())\n",
    "a = 117\n",
    "b = 23\n",
    "print(a % b)"
   ]
  },
  {
   "cell_type": "markdown",
   "metadata": {},
   "source": [
    "Напишите программу, с помощью которой пользователь может ввести три положительных числа и увидеть на экране их среднее геометрическое. Названия переменных a, b, c. Для теста используйте значения a=12, b=17, c=25\n",
    "\n",
    "Среднее геометрическое N чисел - это корень N-ной степени из произведения этих чисел."
   ]
  },
  {
   "cell_type": "code",
   "execution_count": 32,
   "metadata": {},
   "outputs": [
    {
     "name": "stdout",
     "output_type": "stream",
     "text": [
      "17.213006207263156\n"
     ]
    }
   ],
   "source": [
    "#a = float(input())\n",
    "#b = float(input())\n",
    "#c = float(input())\n",
    "a = 12\n",
    "b = 17\n",
    "c = 25\n",
    "avg = (a * b * c)**(1/3)\n",
    "print(avg)"
   ]
  },
  {
   "cell_type": "code",
   "execution_count": 33,
   "metadata": {},
   "outputs": [
    {
     "name": "stdout",
     "output_type": "stream",
     "text": [
      "113628013506.996\n"
     ]
    }
   ],
   "source": [
    "#x = float(input())\n",
    "x = 100500\n",
    "f_x = 6.996 + 45 * (x / 2)**2 + 2 * x \n",
    "print(f_x)"
   ]
  },
  {
   "cell_type": "markdown",
   "metadata": {},
   "source": [
    "Напишите программу, с помощью которой пользователь сможет рассчитать свой индекс массы тела (масса тела в килограммах, делённая на квадрат роста в метрах). Выведите ИМТ на экран. Названия переменных weight и height. Для теста используйте значения weight=80, height = 1.8"
   ]
  },
  {
   "cell_type": "code",
   "execution_count": 34,
   "metadata": {},
   "outputs": [
    {
     "name": "stdout",
     "output_type": "stream",
     "text": [
      "24.691358024691358\n"
     ]
    }
   ],
   "source": [
    "#weight = float(input())\n",
    "#height = float(input())\n",
    "weight = 80\n",
    "height = 1.8\n",
    "bmi = weight / height**2\n",
    "print(bmi)"
   ]
  },
  {
   "cell_type": "markdown",
   "metadata": {},
   "source": [
    "Напишите программу, которая принимает на вход два числа (a и b) и выводит корень третьей степени их среднего арифметического на экран.\n",
    "\n",
    "Вместо a = float(input()) и b = float(input()) используйте значения a = 270, b = 12.8"
   ]
  },
  {
   "cell_type": "code",
   "execution_count": 35,
   "metadata": {},
   "outputs": [
    {
     "name": "stdout",
     "output_type": "stream",
     "text": [
      "5.209745039548078\n"
     ]
    }
   ],
   "source": [
    "#a = float(input())\n",
    "#b = float(input())\n",
    "a = 270\n",
    "b = 12.8\n",
    "x = ((a + b) / 2)**(1/3)\n",
    "print(x)"
   ]
  },
  {
   "cell_type": "markdown",
   "metadata": {},
   "source": [
    "Напишите программу, которая принимает на вход целое число, умножает его на 3 и выводит на экран сообщение: \"Вы ввели число, которое при умножении на 3 даёт ...\". В сообщении вместо многоточия должен быть отображён результат умножения в виде целого числа.\n",
    "\n",
    "Вместо a = int(input()) укажите значение a = 23 и не меняйте значение переменной в ходе выполнения кода."
   ]
  },
  {
   "cell_type": "code",
   "execution_count": 37,
   "metadata": {},
   "outputs": [
    {
     "name": "stdout",
     "output_type": "stream",
     "text": [
      "Вы ввели число, которое при умножении на 3 даёт 69\n"
     ]
    }
   ],
   "source": [
    "#a = int(input())\n",
    "a = 23\n",
    "print('Вы ввели число, которое при умножении на 3 даёт %d' % (a * 3))"
   ]
  },
  {
   "cell_type": "markdown",
   "metadata": {},
   "source": [
    "Напишите программу, которая на вход принимает 3 строки и выводит на экран среднее геометрическое длин этих строк. Названия переменных string_1, string_2, string_3. Для теста используйте значения string_1 = 'Hello, world!', string_2 = 'Python <3', string_3 = 'qwerty'"
   ]
  },
  {
   "cell_type": "code",
   "execution_count": 38,
   "metadata": {},
   "outputs": [
    {
     "name": "stdout",
     "output_type": "stream",
     "text": [
      "8.88748820522211\n"
     ]
    }
   ],
   "source": [
    "#string_1 = input()\n",
    "#string_2 = input()\n",
    "#string_3 = input()\n",
    "string_1 = 'Hello, world!'\n",
    "string_2 = 'Python <3'\n",
    "string_3 = 'qwerty'\n",
    "x = (len(string_1) * len(string_2) * len(string_3)) ** (1/3)\n",
    "print(x)"
   ]
  },
  {
   "cell_type": "markdown",
   "metadata": {},
   "source": [
    "Напишите программу, которая принимает на вход строку и целое число и выводит на экран эту строку, её длину и её длину в степени введённого целого числа. При введении, например, строки \"привет\" и числа \"2\" на экране должно быть выведено \"привет 6 36\". Названия переменной string, power. Для теста используйте значения string = 'Привет!', power = 5"
   ]
  },
  {
   "cell_type": "code",
   "execution_count": 39,
   "metadata": {},
   "outputs": [
    {
     "name": "stdout",
     "output_type": "stream",
     "text": [
      "Привет! 7 16807\n"
     ]
    }
   ],
   "source": [
    "#string = input()\n",
    "#power = int(input())\n",
    "string = 'Привет!'\n",
    "power = 5\n",
    "print('%s %d %d' % (string, len(string), len(string)**power))"
   ]
  },
  {
   "cell_type": "markdown",
   "metadata": {},
   "source": [
    "Представьте, что вам нужно написать программу, которая принимает на вход от пользователя слово (переменная word), определяет, короткое оно или длинное, и выводит эту информацию на экран. Слова, в которых букв строго больше семи, будем считать длинными, а все остальные - короткими. Пусть результатом работы программы будет выведенная на экран фраза: \"Это слово короткое.\" или \"Это слово длинное.\" Напишите такую программу. Для проверки используйте word = 'ОченьДлинноеСлово'"
   ]
  },
  {
   "cell_type": "code",
   "execution_count": 41,
   "metadata": {},
   "outputs": [
    {
     "name": "stdout",
     "output_type": "stream",
     "text": [
      "Это слово длинное.\n"
     ]
    }
   ],
   "source": [
    "word = 'ОченьДлинноеСлово'\n",
    "if len(word) < 7:\n",
    "    print('Это слово короткое.')\n",
    "else:\n",
    "    print('Это слово длинное.') "
   ]
  },
  {
   "cell_type": "code",
   "execution_count": 45,
   "metadata": {},
   "outputs": [
    {
     "name": "stdout",
     "output_type": "stream",
     "text": [
      "Эх, это не очень редкое слово...\n"
     ]
    }
   ],
   "source": [
    "word = 'ОченьДлинноеСлово'\n",
    "if 'ф' in word:\n",
    "    print('Ого! Вы ввели редкое слово!')\n",
    "else:\n",
    "    print('Эх, это не очень редкое слово...')"
   ]
  },
  {
   "cell_type": "code",
   "execution_count": 56,
   "metadata": {},
   "outputs": [
    {
     "name": "stdout",
     "output_type": "stream",
     "text": [
      "13\n"
     ]
    }
   ],
   "source": [
    "number = 169\n",
    "sqrt = number ** (1/2)\n",
    "if not sqrt.is_integer():\n",
    "    print('Квадратный корень из %d - не целое число' % number)\n",
    "else:\n",
    "    print(int(sqrt))"
   ]
  },
  {
   "cell_type": "markdown",
   "metadata": {},
   "source": [
    "Напишите программу, которая принимает на вход от пользователя число от 1 до 7 (переменная number) и выводит на экран соответствующий день недели (на русском языке с маленькой буквы). Например, при вводе единицы появляется надпись \"понедельник\". Для проверки используйте number = 5"
   ]
  },
  {
   "cell_type": "code",
   "execution_count": 60,
   "metadata": {},
   "outputs": [
    {
     "name": "stdout",
     "output_type": "stream",
     "text": [
      "пятница\n"
     ]
    }
   ],
   "source": [
    "#number = int(input())\n",
    "number = 5\n",
    "if number in range(1, 7 + 1):\n",
    "    if number == 1:\n",
    "        print('понедельник')\n",
    "    elif number == 2:\n",
    "        print('вторник')\n",
    "    elif number == 3:\n",
    "        print('среда')\n",
    "    elif number == 4:\n",
    "        print('четверг')\n",
    "    elif number == 5:\n",
    "        print('пятница')\n",
    "    elif number == 6:\n",
    "        print('суббота')\n",
    "    else:\n",
    "        print('воскресенье')\n",
    "else:\n",
    "    print('Число должно быть в диапазоне от 1 до 7')"
   ]
  },
  {
   "cell_type": "markdown",
   "metadata": {},
   "source": [
    "Индекс массы тела (ИМТ) является простым и одновременно важным индикатором состояния здоровья человека. Он рассчитывается как отношение веса человека (в килограммах) к квадрату его роста (в метрах). Если ИМТ находится в пределах от 18,5 до 24,99 включительно, соответствие между массой тела и ростом человека считают нормальным. Значения ниже этого диапазона сигнализируют о недостаточной массе тела, выше — об избыточной массе тела. Помогите врачам автоматизировать принятие решений на основе ИМТ. Напишите программу, в которой человек может указать свой вес (weight) и рост (height), а затем прочитать заключение: \"Недостаточная масса тела\", \"Норма\", \"Избыточная масса тела\". Для проверки используйте weight = 80 и height=1.8"
   ]
  },
  {
   "cell_type": "code",
   "execution_count": 70,
   "metadata": {},
   "outputs": [
    {
     "name": "stdout",
     "output_type": "stream",
     "text": [
      "Норма\n"
     ]
    }
   ],
   "source": [
    "#weight = float(input())\n",
    "weight = 80\n",
    "height = 1.8\n",
    "bmi = weight / height**2\n",
    "if 18.5 <= bmi <= 24.99:\n",
    "    print('Норма')\n",
    "elif bmi > 24.99:\n",
    "    print('Избыточная масса тела')\n",
    "else:\n",
    "    print('Недостаточная масса тела')"
   ]
  },
  {
   "cell_type": "markdown",
   "metadata": {},
   "source": [
    "При выставлении оценок в ведомость преподавателю необходимо не только указать полученную студентом оценку, но и расшифровать её. В университете принята следующая шкала оценок: меньше 4 — 'неудовлетворительно', 4-5 —'удовлетворительно', 6-7 — 'хорошо', 8 и выше — 'отлично'. Напишите программу, которая принимает на вход полученную оценку (mark) и расшифровывает её таким образом: вводимая оценка — число от 1 до 10. Для проверки используйте mark = 7"
   ]
  },
  {
   "cell_type": "code",
   "execution_count": 78,
   "metadata": {},
   "outputs": [
    {
     "name": "stdout",
     "output_type": "stream",
     "text": [
      "хорошо\n"
     ]
    }
   ],
   "source": [
    "#mark = int(input())\n",
    "mark = 7\n",
    "if mark >= 8:\n",
    "    print('отлично')\n",
    "elif 5 < mark < 8:\n",
    "    print('хорошо')\n",
    "elif 3 < mark < 6:\n",
    "    print('удовлетворительно')    \n",
    "else:\n",
    "    print('неудовлетворительно')    "
   ]
  },
  {
   "cell_type": "markdown",
   "metadata": {},
   "source": [
    "Иногда человек хочет сходить в ресторан. Он может себе это позволить, если у него до зарплаты осталось (balance) больше 5 тысяч рублей. Если же у него меньше 5 тысяч, но больше 2.5 тысяч рублей, он может сходить только в фастфуд. Если меньше, то придётся терпеть до зарплаты. Напишите программу, которая принимает на вход количество оставшихся денег в рублях и говорит, можно ли человеку пойти в ресторан (варианты ответа программы - \"Сегодня твой выбор - ресторан!\", \"Эх, только фастфуд.\" и \"Придётся потерпеть!\"). Для проверки используйте balance = 455"
   ]
  },
  {
   "cell_type": "code",
   "execution_count": 79,
   "metadata": {},
   "outputs": [
    {
     "name": "stdout",
     "output_type": "stream",
     "text": [
      "Придётся потерпеть!\n"
     ]
    }
   ],
   "source": [
    "#balance = float(input())\n",
    "balance = 455\n",
    "if balance >= 5000:\n",
    "    print('Сегодня твой выбор - ресторан!')\n",
    "elif 2500 < balance < 5000:\n",
    "    print('Эх, только фастфуд.')   \n",
    "else:\n",
    "    print('Придётся потерпеть!')    "
   ]
  },
  {
   "cell_type": "markdown",
   "metadata": {},
   "source": [
    "Напишите программу, которая принимает на вход целое число (number) и проверяет его на делимость на 2, 3 и 5. При делимости на 2 без остатка она выведет \"Число делится на 2 без остатка.\", иначе при делимости на 3 выведет \"Число делится на 3 без остатка.\", иначе при делимости на 5 выведет \"Число делится на 5 без остатка.\", а иначе выведет \"Число не делится ни на 2, ни на 3, ни на 5 без остатка!\". Для проверки используйте number = 452"
   ]
  },
  {
   "cell_type": "code",
   "execution_count": 81,
   "metadata": {},
   "outputs": [
    {
     "name": "stdout",
     "output_type": "stream",
     "text": [
      "Число делится на 3 без остатка.\n"
     ]
    }
   ],
   "source": [
    "number = 452\n",
    "if number % 2 == 0:\n",
    "    print('Число делится на 2 без остатка.')\n",
    "elif number % 3 == 0:\n",
    "    print('Число делится на 3 без остатка.')\n",
    "elif number % 5 == 0:\n",
    "    print('Число делится на 5 без остатка.')    \n",
    "else:\n",
    "    print('Число не делится ни на 2, ни на 3, ни на 5 без остатка!') "
   ]
  },
  {
   "cell_type": "markdown",
   "metadata": {},
   "source": [
    "Аня очень любит цветы, но далеко не все. Только если это синие или белые розы. Напишите программу, которая принимает на вход цвет цветов (color) и название цветов (flower) в начальной форме и говорит, понравятся ли они Ане. (Варианты ответа: \"Ане понравятся эти цветы\", \"Аня не фанат таких цветов\"). Для проверки используйте flower = 'роза' и color = 'фиолетовый'"
   ]
  },
  {
   "cell_type": "code",
   "execution_count": 88,
   "metadata": {},
   "outputs": [
    {
     "name": "stdout",
     "output_type": "stream",
     "text": [
      "Аня не фанат таких цветов\n"
     ]
    }
   ],
   "source": [
    "flower = 'роза'\n",
    "color = 'фиолетовый'\n",
    "if flower == 'роза' and color in ['синий', 'белый']:\n",
    "    print('Ане понравятся эти цветы')\n",
    "else:\n",
    "    print('Аня не фанат таких цветов')"
   ]
  },
  {
   "cell_type": "markdown",
   "metadata": {},
   "source": [
    "Вы работаете в агентстве знакомств. К вам обратилась некая Алла. Она ищет мужчину, рост которого выше 170 см, вес — менее 80 кг и его любимый цвет — красный. Напишите программу, которая позволит определить, подходит ли Алле тот или иной кандидат. Программа должна выводить фразу: \"Ваша половинка нашлась!\", если подходит, и \"Попробуем поискать ещё...\", если нет. Для проверки используйте height = 180, weight = 92 и color = 'синий'."
   ]
  },
  {
   "cell_type": "code",
   "execution_count": 89,
   "metadata": {},
   "outputs": [
    {
     "name": "stdout",
     "output_type": "stream",
     "text": [
      "Попробуем поискать ещё...\n"
     ]
    }
   ],
   "source": [
    "height = 180\n",
    "weight = 92\n",
    "color = 'синий'\n",
    "min_height = 170\n",
    "max_weight = 80\n",
    "favorite_color = 'красный'\n",
    "if height > min_height and weight < max_weight and color == favorite_color:\n",
    "    print('Ваша половинка нашлась!')\n",
    "else:\n",
    "    print('Попробуем поискать ещё...')"
   ]
  },
  {
   "cell_type": "markdown",
   "metadata": {},
   "source": [
    "Мальчику Вове для решения домашней работы по математике потребовалось написать программу, которая выясняет, имеется ли среди делителей числа числа 2, 5, 173 или 821. Напишите программу, которая получает на вход целое число (number) и отвечает Вове \"Вова, это нужное число\", если среди делителей есть хотя бы одно число из 2, 5, 173, 821, или \"Вова, в этот раз ты не попал\", если это не так. Для проверки используйте number = 346"
   ]
  },
  {
   "cell_type": "code",
   "execution_count": 95,
   "metadata": {},
   "outputs": [
    {
     "name": "stdout",
     "output_type": "stream",
     "text": [
      "Вова, это нужное число\n"
     ]
    }
   ],
   "source": [
    "number = 346\n",
    "if number % 2 == 0 or number % 5 == 0 or number % 173 == 0 or number % 821 == 0:\n",
    "    print('Вова, это нужное число')\n",
    "else:\n",
    "    print('Вова, в этот раз ты не попал')"
   ]
  },
  {
   "cell_type": "markdown",
   "metadata": {},
   "source": [
    "Вы решили сделать систему, которая может подобрать для людей язык программирования в зависимости от их любимого слова. Напишите программу, которая может вам в этом помочь. Программа принимает на вход слово (fav_word), и если это \"рептилия\", \"питон\" или \"змея\", выводит \"Python\", если это \"плюс\" или \"плюсы\", выводит \"C++\", если это \"рубин\" или \"кристалл\", выводит \"Ruby\". Ну, а если что-то другое, то тоже выводит \"Python\". Для проверки используйте fav_word = 'Аппликация'"
   ]
  },
  {
   "cell_type": "code",
   "execution_count": 98,
   "metadata": {},
   "outputs": [
    {
     "name": "stdout",
     "output_type": "stream",
     "text": [
      "Python\n"
     ]
    }
   ],
   "source": [
    "fav_word = 'Аппликация'\n",
    "if fav_word in [\"рептилия\", \"питон\", \"змея\"]:\n",
    "    lang = 'Python'\n",
    "elif fav_word in [\"плюс\", \"плюсы\"]:\n",
    "    lang = 'C++'\n",
    "elif fav_word in [\"рубин\", \"кристалл\"]:\n",
    "    lang = 'Ruby'\n",
    "else:\n",
    "    lang = 'Python'\n",
    "    \n",
    "print(lang)"
   ]
  },
  {
   "cell_type": "markdown",
   "metadata": {},
   "source": [
    "Преподаватель ведёт занятия с 10:30 до 12:00, с 13:40 до 15:00, с 18:00 до 19:30. В университет он приходит в 10 утра, а уходит - в 20 часов. Время в университете, свободное от занятий, он посвящает консультированию студентов. Напишите программу, которая помогла бы студентам подстроиться под свободное время преподавателя: пусть они вводят желаемое время (сначала одно число — часы (hour), затем второе — минуты (minute)), а программа показывает, свободен преподаватель в это время или нет (выводит на экран \"Преподаватель свободен.\" или \"Преподаватель занят.\", соответственно). Для проверки используйте hour = 18 и minute = 47"
   ]
  },
  {
   "cell_type": "code",
   "execution_count": 114,
   "metadata": {},
   "outputs": [
    {
     "name": "stdout",
     "output_type": "stream",
     "text": [
      "Преподаватель занят.\n"
     ]
    }
   ],
   "source": [
    "hour = 18\n",
    "minute = 47\n",
    "\n",
    "def is_available(hour, minute):\n",
    "    start_time = 10 * 60\n",
    "    end_time = 20 * 60\n",
    "    request_time = hour * 60 + minute\n",
    "    if request_time in range(10 * 60 + 30, 12 * 60 + 1) \\\n",
    "        or request_time in range(13 * 60 + 40, 15 * 60 + 1) \\\n",
    "        or request_time in range(18 * 60, 19 * 60 + 30 + 1):\n",
    "        return False\n",
    "    elif request_time < start_time or request_time > end_time:\n",
    "        return False\n",
    "    else:\n",
    "        return True\n",
    "\n",
    "if is_available(hour, minute):\n",
    "    print('Преподаватель свободен.')\n",
    "else:\n",
    "    print('Преподаватель занят.')"
   ]
  },
  {
   "cell_type": "code",
   "execution_count": null,
   "metadata": {},
   "outputs": [],
   "source": []
  }
 ],
 "metadata": {
  "kernelspec": {
   "display_name": "Python 3",
   "language": "python",
   "name": "python3"
  },
  "language_info": {
   "codemirror_mode": {
    "name": "ipython",
    "version": 3
   },
   "file_extension": ".py",
   "mimetype": "text/x-python",
   "name": "python",
   "nbconvert_exporter": "python",
   "pygments_lexer": "ipython3",
   "version": "3.7.6"
  }
 },
 "nbformat": 4,
 "nbformat_minor": 4
}
