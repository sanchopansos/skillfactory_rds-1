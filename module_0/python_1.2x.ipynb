{
 "cells": [
  {
   "cell_type": "markdown",
   "metadata": {},
   "source": [
    "# 1.20"
   ]
  },
  {
   "cell_type": "markdown",
   "metadata": {},
   "source": [
    "Выведите таблицу квадратов и кубов для чисел от 1 до 10 включительно. (Каждая новая строчка распечатывается через print() и имеет формат '2 4 8', то есть число, затем его квадрат, а затем его куб)"
   ]
  },
  {
   "cell_type": "code",
   "execution_count": 2,
   "metadata": {},
   "outputs": [
    {
     "name": "stdout",
     "output_type": "stream",
     "text": [
      "1 1 1\n",
      "2 4 8\n",
      "3 9 27\n",
      "4 16 64\n",
      "5 25 125\n",
      "6 36 216\n",
      "7 49 343\n",
      "8 64 512\n",
      "9 81 729\n",
      "10 100 1000\n"
     ]
    }
   ],
   "source": [
    "for i in range(1, 11):\n",
    "    print('%d %d %d' % (i, i**2, i**3))"
   ]
  },
  {
   "cell_type": "markdown",
   "metadata": {},
   "source": [
    "Напишите программу, которая получает на вход число (number) и последовательно в порядке возрастания выводит все его делители на экран (само число тоже является своим делителем).\n",
    "\n",
    "Для проверки используйте number = 84"
   ]
  },
  {
   "cell_type": "code",
   "execution_count": 4,
   "metadata": {},
   "outputs": [
    {
     "name": "stdout",
     "output_type": "stream",
     "text": [
      "1\n",
      "2\n",
      "3\n",
      "4\n",
      "6\n",
      "7\n",
      "12\n",
      "14\n",
      "21\n",
      "28\n",
      "42\n",
      "84\n"
     ]
    }
   ],
   "source": [
    "#number = int(input())\n",
    "number = 84\n",
    "for i in range(1, number + 1):\n",
    "    if number % i == 0:\n",
    "        print(i)"
   ]
  },
  {
   "cell_type": "markdown",
   "metadata": {},
   "source": [
    "Написать программу, которая ищет все общие (не равные 1) делители двух чисел (num_1 и num_2), введённых пользователем, и последовательно в порядке возрастания выводит их на экран. Если общих делителей нет, не выводит на экран ничего.\n",
    "\n",
    "Для проверки используйте num_1 = 12 и num_2 = 38"
   ]
  },
  {
   "cell_type": "code",
   "execution_count": 30,
   "metadata": {},
   "outputs": [
    {
     "name": "stdout",
     "output_type": "stream",
     "text": [
      "2\n"
     ]
    }
   ],
   "source": [
    "#num_1 = int(input())\n",
    "#num_2 = int(input())\n",
    "num_1 = 12\n",
    "num_2 = 38\n",
    "\n",
    "# Наибольший общий делитель двух целых чисел.\n",
    "def find_largest_factor(m, n):\n",
    "    # 1. НОД(0, n) = n; НОД(m, 0) = m; НОД(m, m) = m;\n",
    "    if m == 0 and n != 0:\n",
    "        return n\n",
    "    \n",
    "    if m != 0 and n == 0:\n",
    "        return m\n",
    "    \n",
    "    if m == n:\n",
    "        return m\n",
    "    \n",
    "    # 2. НОД(1, n) = 1; НОД(m, 1) = 1;\n",
    "    if m == 1 or n == 1:\n",
    "        return 1\n",
    "    \n",
    "    # 3. Если m, n чётные, то НОД(m, n) = 2*НОД(m/2, n/2);\n",
    "    if m % 2 == 0 and n % 2 ==0:\n",
    "        return 2 * find_largest_factor(m/2, n/2)\n",
    "    \n",
    "    # 4. Если m чётное, n нечётное, то НОД(m, n) = НОД(m/2, n);\n",
    "    if m % 2 == 0 and n % 2 != 0:\n",
    "        return find_largest_factor(m/2, n)\n",
    "    \n",
    "    # 5. Если n чётное, m нечётное, то НОД(m, n) = НОД(m, n/2);\n",
    "    if m % 2 != 0 and n % 2 == 0:\n",
    "        return find_largest_factor(m, n/2)\n",
    "    \n",
    "    # 6. Если m, n нечётные и n > m, то НОД(m, n) = НОД(m, (n-m)/2) = НОД((n-m)/2, m);\n",
    "    if m % 2 != 0 and n % 2 != 0 and n > m:\n",
    "        return find_largest_factor(m, (n-m)/2)\n",
    "    \n",
    "    # 7. Если m, n нечётные и n < m, то НОД(m, n) = НОД((m-n)/2, n);\n",
    "    if m % 2 != 0 and n % 2 != 0 and n < m:\n",
    "        return find_largest_factor((m-n)/2, n)\n",
    "\n",
    "largest_factor = int(find_largest_factor(num_1, num_2))\n",
    "if largest_factor > 1:\n",
    "    for i in range(2, largest_factor + 1):\n",
    "        print(i)"
   ]
  },
  {
   "cell_type": "markdown",
   "metadata": {},
   "source": [
    "Написать программу, которая на вход получает натуральное число n и выводит n-е число ряда Фибоначчи на экран. Для проверки используйте n = 10\n",
    "\n",
    "Пояснение: последовательность Фибоначчи — это ряд чисел, в котором первые два элемента равны 1, а каждый следующий элемент равен сумме двух предыдущих: 1, 1, 2, 3, 5, 8, 13, 21, ..."
   ]
  },
  {
   "cell_type": "code",
   "execution_count": 52,
   "metadata": {},
   "outputs": [
    {
     "name": "stdout",
     "output_type": "stream",
     "text": [
      "55\n"
     ]
    }
   ],
   "source": [
    "n = 10\n",
    "\n",
    "def fibonacci(n):\n",
    "    if n < 0: \n",
    "        raise(Exception('Неверный ввод'))\n",
    "    elif n == 0: \n",
    "        return 0\n",
    "    elif n == 1: \n",
    "        return 1\n",
    "    else: \n",
    "        return fibonacci(n-1) + fibonacci(n-2) \n",
    "            \n",
    "try:      \n",
    "    print(fibonacci(n))\n",
    "except Exception as e:\n",
    "    print(e)"
   ]
  },
  {
   "cell_type": "markdown",
   "metadata": {},
   "source": [
    "Напишите программу, которая выводит таблицу умножения от 1 до 10 для выбранного целого числа (number). Если number = 15, то строка таблицы имеет вид \"15 X 3 = 45\".\n",
    "\n",
    "Для проверки используйте number = 15"
   ]
  },
  {
   "cell_type": "code",
   "execution_count": 54,
   "metadata": {},
   "outputs": [
    {
     "name": "stdout",
     "output_type": "stream",
     "text": [
      "15 X 1 = 15\n",
      "15 X 2 = 30\n",
      "15 X 3 = 45\n",
      "15 X 4 = 60\n",
      "15 X 5 = 75\n",
      "15 X 6 = 90\n",
      "15 X 7 = 105\n",
      "15 X 8 = 120\n",
      "15 X 9 = 135\n",
      "15 X 10 = 150\n"
     ]
    }
   ],
   "source": [
    "number = 15\n",
    "for i in range(1, 10 + 1):\n",
    "    print('%d X %d = %d' % (number, i, number * i))"
   ]
  },
  {
   "cell_type": "markdown",
   "metadata": {},
   "source": [
    "# 1.21"
   ]
  },
  {
   "cell_type": "markdown",
   "metadata": {},
   "source": [
    "Напишите программу, которая ищет наибольший (не равный 1) общий делитель двух чисел, введённых пользователем (num_1, num_2), и выводит его на экран. Если общих делителей нет, выводит на экран \"Общих делителей не найдено\".\n",
    "\n",
    "Для проверки используйте num_1 = 1812, num_2 = 2500 и не меняйте их в ходе решения.\n",
    "\n",
    "PS: Если использовать break в цикле for - else, то при прерывании цикла код после else выполняться не будет."
   ]
  },
  {
   "cell_type": "code",
   "execution_count": 61,
   "metadata": {},
   "outputs": [
    {
     "name": "stdout",
     "output_type": "stream",
     "text": [
      "4\n"
     ]
    }
   ],
   "source": [
    "#num_1 = int(input())\n",
    "#num_2 = int(input())\n",
    "num_1 = 1812\n",
    "num_2 = 2500\n",
    "\n",
    "# Наибольший общий делитель двух целых чисел.\n",
    "def find_largest_factor(m, n):\n",
    "    # 1. НОД(0, n) = n; НОД(m, 0) = m; НОД(m, m) = m;\n",
    "    if m == 0 and n != 0:\n",
    "        return n\n",
    "    \n",
    "    if m != 0 and n == 0:\n",
    "        return m\n",
    "    \n",
    "    if m == n:\n",
    "        return m\n",
    "    \n",
    "    # 2. НОД(1, n) = 1; НОД(m, 1) = 1;\n",
    "    if m == 1 or n == 1:\n",
    "        return 1\n",
    "    \n",
    "    # 3. Если m, n чётные, то НОД(m, n) = 2*НОД(m/2, n/2);\n",
    "    if m % 2 == 0 and n % 2 ==0:\n",
    "        return 2 * find_largest_factor(m/2, n/2)\n",
    "    \n",
    "    # 4. Если m чётное, n нечётное, то НОД(m, n) = НОД(m/2, n);\n",
    "    if m % 2 == 0 and n % 2 != 0:\n",
    "        return find_largest_factor(m/2, n)\n",
    "    \n",
    "    # 5. Если n чётное, m нечётное, то НОД(m, n) = НОД(m, n/2);\n",
    "    if m % 2 != 0 and n % 2 == 0:\n",
    "        return find_largest_factor(m, n/2)\n",
    "    \n",
    "    # 6. Если m, n нечётные и n > m, то НОД(m, n) = НОД(m, (n-m)/2) = НОД((n-m)/2, m);\n",
    "    if m % 2 != 0 and n % 2 != 0 and n > m:\n",
    "        return find_largest_factor(m, (n-m)/2)\n",
    "    \n",
    "    # 7. Если m, n нечётные и n < m, то НОД(m, n) = НОД((m-n)/2, n);\n",
    "    if m % 2 != 0 and n % 2 != 0 and n < m:\n",
    "        return find_largest_factor((m-n)/2, n)\n",
    "\n",
    "largest_factor = int(find_largest_factor(num_1, num_2))\n",
    "if largest_factor > 1:\n",
    "    print(largest_factor)\n",
    "else:\n",
    "    print('Общих делителей не найдено')"
   ]
  },
  {
   "cell_type": "markdown",
   "metadata": {},
   "source": [
    "Напишите программу с использованием оператора continue, которая принимает на вход строку (string), после чего выводит её посимвольно, но без букв \"а\", \"б\", \"в\". Пример: ввод \"арбуз\", вывод \"руз\".\n",
    "\n",
    "Для проверки используйте string = 'абстракция'\n",
    "PS: Чтобы выводить побуквенно в одну строчку, в функции print предусмотрен параметр end. Если написать print('Hallo!', end=''), следующий print продолжит вывод не с новой строки."
   ]
  },
  {
   "cell_type": "code",
   "execution_count": 62,
   "metadata": {},
   "outputs": [
    {
     "name": "stdout",
     "output_type": "stream",
     "text": [
      "стркция"
     ]
    }
   ],
   "source": [
    "#string = input()\n",
    "string = 'абстракция'\n",
    "for letter in string:\n",
    "    if letter in [\"а\", \"б\", \"в\"]:\n",
    "        continue\n",
    "        \n",
    "    print(letter, end='')"
   ]
  },
  {
   "cell_type": "markdown",
   "metadata": {},
   "source": [
    "Напишите программу, которая анализирует ответы пользователя на вопрос \"Любите ли вы Python?\". Если ответ пользователя (string) — \"Да\", то программа отвечает: \"Это отлично!\", иначе программа отвечает: \"Увы, это неправильный ответ\". Программа должна \"спросить\" пользователя максимум 5 раз. При пяти ответах \"Нет\" выводит: \"Это безнадёжно!\".\n",
    "\n",
    "Для проверки используйте string = 'Нет', а на каждой итерации цикла не меняйте значение переменной.\n",
    "\n",
    "Команду, выводящую на экран вопрос: \"Любите ли вы Python?\", в код включать НЕ нужно."
   ]
  },
  {
   "cell_type": "code",
   "execution_count": 5,
   "metadata": {},
   "outputs": [
    {
     "name": "stdout",
     "output_type": "stream",
     "text": [
      "Увы, это неправильный ответ\n",
      "Увы, это неправильный ответ\n",
      "Увы, это неправильный ответ\n",
      "Увы, это неправильный ответ\n",
      "Увы, это неправильный ответ\n",
      "Это безнадёжно!\n"
     ]
    }
   ],
   "source": [
    "max_tries = 5\n",
    "tries = 0\n",
    "no_answers = 0\n",
    "while tries < max_tries:\n",
    "    #string = input('Любите ли вы Python?\\n')\n",
    "    string = 'Нет'\n",
    "    tries += 1\n",
    "    if string == 'Да':\n",
    "        print(\"Это отлично!\")\n",
    "        break\n",
    "        \n",
    "    if string == 'Нет' or string != 'Да':\n",
    "        no_answers += 1\n",
    "        print(\"Увы, это неправильный ответ\")\n",
    "\n",
    "    if no_answers == 5:\n",
    "        print(\"Это безнадёжно!\")\n",
    "        break"
   ]
  },
  {
   "cell_type": "markdown",
   "metadata": {},
   "source": [
    "Напишите программу, которая проверяет, является ли введённое число (number) простым. Если число простое, то программа выводит \"Простое\", иначе \"Не является простым\".\n",
    "\n",
    "Для проверки используйте number = 173"
   ]
  },
  {
   "cell_type": "code",
   "execution_count": 42,
   "metadata": {},
   "outputs": [
    {
     "name": "stdout",
     "output_type": "stream",
     "text": [
      "Простое\n"
     ]
    }
   ],
   "source": [
    "number = 173\n",
    "# Число x является простым, если оно больше 1 и при этом делится без остатка только на 1 и на x.\n",
    "# Очень упрощеная версия.\n",
    "def prime_number(n):\n",
    "    numbers = []\n",
    "    for i in range(1, n + 1):\n",
    "        if n % i == 0:\n",
    "            numbers.append(i)\n",
    "            \n",
    "    if len(numbers) == 2:\n",
    "        return True\n",
    "    else:\n",
    "        return False\n",
    "\n",
    "if number <= 1 or not prime_number(number):\n",
    "    print(\"Не является простым\")\n",
    "else:\n",
    "    print(\"Простое\")           "
   ]
  },
  {
   "cell_type": "markdown",
   "metadata": {},
   "source": [
    "Напишите программу, которая проверяет введённую пользователем строку (string) на соответствие правилу: у строки нет ни одной гласной русской маленькой буквы на каждой чётной позиции. Пример подходящей строки: \"пока!\" (в Python первый символ является нулевым, поэтому мы считаем первый символ чётным). Если строка подходит, программа выводит на экран \"Какая хорошая строка!\", а иначе — \"Строка мне не нравится!\".\n",
    "\n",
    "Для проверки используйте string = 'прелестная строка'"
   ]
  },
  {
   "cell_type": "code",
   "execution_count": 45,
   "metadata": {},
   "outputs": [
    {
     "name": "stdout",
     "output_type": "stream",
     "text": [
      "Строка мне не нравится!\n"
     ]
    }
   ],
   "source": [
    "LETTERS = 'аоиеёэыуюя'\n",
    "string = 'прелестная строка'\n",
    "\n",
    "def good_string(string):\n",
    "    for pos, letter in enumerate(string):\n",
    "        if (pos + 1) % 2 == 0 and letter not in LETTERS:\n",
    "            return False\n",
    "    return True    \n",
    "        \n",
    "if good_string(string):\n",
    "    print(\"Какая хорошая строка!\")\n",
    "else:    \n",
    "    print(\"Строка мне не нравится!\")"
   ]
  },
  {
   "cell_type": "markdown",
   "metadata": {},
   "source": [
    "## 1.22"
   ]
  },
  {
   "cell_type": "markdown",
   "metadata": {},
   "source": [
    "Клиент банка открыл вклад под 10% годовых и положил на этот счёт Y рублей. Напишите программу, позволяющую определить, через сколько лет клиент будет иметь на счету сумму не менее Z рублей. На вход программе идут два числа — Y, Z.\n",
    "\n",
    "Для проверки используйте Y = 170000, Z = 1000000. В результате работы программа должна вывести на экран число лет, которое потребуется для накопления требуемой суммы. Ответ должен быть выведен на экран в виде целого числа без какого-либо дополнительного поясняющего текста.\n",
    "\n",
    "Внимание: в процессе выполнения программы изменяйте переменную Y."
   ]
  },
  {
   "cell_type": "code",
   "execution_count": 46,
   "metadata": {},
   "outputs": [
    {
     "name": "stdout",
     "output_type": "stream",
     "text": [
      "19\n"
     ]
    }
   ],
   "source": [
    "#Y = int(input())\n",
    "#Z = int(input())\n",
    "Y = 170000\n",
    "Z = 1000000\n",
    "years = 0\n",
    "while Y < Z:\n",
    "    years += 1\n",
    "    Y += Y * 1/10\n",
    "else:\n",
    "    print(years)"
   ]
  },
  {
   "cell_type": "markdown",
   "metadata": {},
   "source": [
    "Пассажирский лифт имеет ограничение на перевозку: не более 400 кг единовременно. Пусть на вход программе поступает вес (weight) входящих в лифт людей, а в случае, когда возникает перевес, программа выдаёт предупреждение: \"Перевес N кг\". Например, при перевесе в 15 кг должно быть выведено сообщение: \"Перевес 15 кг\". Обратите внимание, что в эталонной фразе не используются знаки препинания.\n",
    "\n",
    "Для проверки используйте weight = 77 и не меняйте его по ходу цикла."
   ]
  },
  {
   "cell_type": "code",
   "execution_count": 47,
   "metadata": {},
   "outputs": [
    {
     "name": "stdout",
     "output_type": "stream",
     "text": [
      "Перевес 62 кг\n"
     ]
    }
   ],
   "source": [
    "weight = 77\n",
    "current_weight = 0\n",
    "while True:\n",
    "    current_weight += weight\n",
    "    if current_weight > 400:\n",
    "        print('Перевес %d кг' % (current_weight - 400))\n",
    "        break"
   ]
  },
  {
   "cell_type": "markdown",
   "metadata": {},
   "source": [
    "Вы играете в компьютерную игру, дошли до схватки с финальным боссом, но вот беда: ваш компьютер \"заглючил\", и вы не можете управлять персонажем в игре. Босс атакует и каждую секунду наносит один удар, который отнимает у вас 80 единиц здоровья. На схватку с боссом вы вышли с 500 единицами здоровья. Создайте цикл, позволяющий понять, через сколько секунд босс вас убьет.\n",
    "\n",
    "В результате работы программа должна вывести на экран число секунд, в течение которых будет длиться схватка. Ответ должен быть выведен на экран в виде целого числа без какого-либо дополнительного поясняющего текста.\n",
    "\n",
    "Для проверки используйте переменную current_health для сохранения текущего уровня здоровья и изменяйте её по ходу цикла, и — переменную attack = 80 для хранения значения атаки Босса."
   ]
  },
  {
   "cell_type": "code",
   "execution_count": 49,
   "metadata": {},
   "outputs": [
    {
     "name": "stdout",
     "output_type": "stream",
     "text": [
      "7\n"
     ]
    }
   ],
   "source": [
    "attack = 80\n",
    "current_health = 500\n",
    "seconds = 0\n",
    "while current_health > 0:\n",
    "    seconds += 1\n",
    "    current_health -= attack\n",
    "else:\n",
    "    print(seconds)"
   ]
  },
  {
   "cell_type": "markdown",
   "metadata": {},
   "source": [
    "На банковской карте хранятся 10 000 рублей. Хозяин карты написал программу, в которую вводит свои расходы (spent), после чего программа показывает баланс (balance). Баланс выводится в виде целого числа без каких-либо дополнительных сообщений. Например, при остатке 3500 рублей на экран выводится число 3500. Когда сумма средств на карте становится ниже нуля, программа выводит сообщение: \"Слишком большие расходы\".\n",
    "\n",
    "Напишите программу, которая выводит на экран начальный баланс карты (число 10000), баланс после каждого списания и сообщение \"Слишком большие расходы\" при достижении отрицательного баланса.\n",
    "\n",
    "Для проверки используйте переменную spent = 2800 и НЕ меняйте её по ходу цикла. Переменная balance должна меняться после каждого шага цикла."
   ]
  },
  {
   "cell_type": "code",
   "execution_count": 52,
   "metadata": {},
   "outputs": [
    {
     "name": "stdout",
     "output_type": "stream",
     "text": [
      "10000\n",
      "7200\n",
      "4400\n",
      "1600\n",
      "Слишком большие расходы\n"
     ]
    }
   ],
   "source": [
    "spent = 2800\n",
    "balance = 10000\n",
    "print(balance)\n",
    "while balance > 0:\n",
    "    balance -= spent\n",
    "    if balance < 0:\n",
    "        print(\"Слишком большие расходы\")\n",
    "        break;    \n",
    "    print(balance)"
   ]
  },
  {
   "cell_type": "markdown",
   "metadata": {},
   "source": [
    "Представьте, что перед вами большая цистерна объёмом 1000 литров, которую необходимо заполнить водой. У вас есть робот, который доставляет в цистерну сначала 5 литров, а затем каждый раз на 5 литров больше, чем в предыдущий. Изначально в цистерне нет воды. Через сколько заходов робота вода польётся через край?\n",
    "\n",
    "В результате работы программа должна вывести на экран число заходов, необходимых роботу для заполнения цистерны до краёв. Ответ должен быть выведен на экран в виде целого числа без какого-либо дополнительного поясняющего текста.\n",
    "\n",
    "Для проверки используйте переменную volume, равную свободному объёму в цистерне, и меняйте её по ходу цикла (на последнем шаге она должна быть меньше нуля)."
   ]
  },
  {
   "cell_type": "code",
   "execution_count": 4,
   "metadata": {},
   "outputs": [
    {
     "name": "stdout",
     "output_type": "stream",
     "text": [
      "20\n"
     ]
    }
   ],
   "source": [
    "volume = 1000\n",
    "steps = 0\n",
    "capacity = 5\n",
    "while True:    \n",
    "    steps += 1\n",
    "    volume -= capacity\n",
    "    capacity += 5\n",
    "    if volume < 0:\n",
    "        print(steps)\n",
    "        break"
   ]
  },
  {
   "cell_type": "code",
   "execution_count": null,
   "metadata": {},
   "outputs": [],
   "source": []
  }
 ],
 "metadata": {
  "kernelspec": {
   "display_name": "Python 3",
   "language": "python",
   "name": "python3"
  },
  "language_info": {
   "codemirror_mode": {
    "name": "ipython",
    "version": 3
   },
   "file_extension": ".py",
   "mimetype": "text/x-python",
   "name": "python",
   "nbconvert_exporter": "python",
   "pygments_lexer": "ipython3",
   "version": "3.7.6"
  }
 },
 "nbformat": 4,
 "nbformat_minor": 4
}
