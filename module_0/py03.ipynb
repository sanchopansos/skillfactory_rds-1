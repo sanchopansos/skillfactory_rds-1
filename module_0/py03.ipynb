{
 "cells": [
  {
   "cell_type": "markdown",
   "metadata": {},
   "source": [
    "## 3.2"
   ]
  },
  {
   "cell_type": "code",
   "execution_count": 5,
   "metadata": {},
   "outputs": [
    {
     "name": "stdout",
     "output_type": "stream",
     "text": [
      "Программист\n",
      "кофе\n",
      "58\n"
     ]
    }
   ],
   "source": [
    "proverb = 'Программисты - это устройства, преобразующие кофеин в код.'\n",
    "print(proverb[0:11])\n",
    "print(proverb[-13:-9])\n",
    "print(len(proverb))"
   ]
  },
  {
   "cell_type": "code",
   "execution_count": 8,
   "metadata": {},
   "outputs": [
    {
     "name": "stdout",
     "output_type": "stream",
     "text": [
      "устройство\n",
      "('устройств', 'о')\n",
      "устройство\n"
     ]
    }
   ],
   "source": [
    "result = proverb[19:28]+'о'\n",
    "print(result)\n",
    "result = proverb[19:28],'о'\n",
    "print(result)\n",
    "result = proverb.split()[3][:-2]+'о'\n",
    "print(result)"
   ]
  },
  {
   "cell_type": "markdown",
   "metadata": {},
   "source": [
    "## 3.2.4\n",
    "Напишите программу, которая \"зашифровывает\" текст, хранящийся в переменной proverb, меняя местами символы, стоящие на нечётных и чётных позициях. Результат шифрования нужно вывести на экран с помощью функции print\n",
    "\n",
    "Используйте переменную proverb для хранения исходной фразы и переменную new_proverb для хранения \"зашифрованной\" фразы.\n",
    "\n",
    "Пример: после шифровки начало фразы должно выглядеть так: рПгоарммсиыт"
   ]
  },
  {
   "cell_type": "code",
   "execution_count": 28,
   "metadata": {},
   "outputs": [
    {
     "name": "stdout",
     "output_type": "stream",
     "text": [
      "рПгоарммсиыт- э оту тсорсйвт,ап ербоарузщюеик фоие н вок.д\n"
     ]
    }
   ],
   "source": [
    "proverb = 'Программисты - это устройства, преобразующие кофеин в код.'\n",
    "new_proverb = ''\n",
    "for pos, letter in enumerate(proverb):\n",
    "    if pos % 2 == 0:\n",
    "        if pos + 1 < len(proverb):\n",
    "            new_proverb += proverb[pos + 1] + proverb[pos]\n",
    "\n",
    "print(new_proverb)"
   ]
  },
  {
   "cell_type": "markdown",
   "metadata": {},
   "source": [
    "## 3.2.5\n",
    "Некоторые слова одинаково читаются как слева направо, так и справа налево. Такие слова называются палиндромами.\n",
    "\n",
    "Напишите программу, которая оценивает слово, заданное в перееменной basic_word, и выдаёт сообщение: 'Слово \"...\" является палиндромом' в случае, если заданное слово одинаково читается слева направо и справа налево, и сообщение: 'Слово \"...\" - это не палиндром' в противном случае.\n",
    "\n",
    "Вместо многоточия в каждой из фраз должно стоять слово, заданное в переменной basic_word. Обратите внимание на то, что заданное слово должно быть взято в кавычки.\n",
    "\n",
    "При написании кода используйте две обязательные переменные: basic_word —для хранения заданного слова и inverted_word— для хранения перевёрнутого варианта заданного слова. Во время проверки кода на платформе используйте значение basic_word = 'программирование'."
   ]
  },
  {
   "cell_type": "code",
   "execution_count": 32,
   "metadata": {},
   "outputs": [
    {
     "name": "stdout",
     "output_type": "stream",
     "text": [
      "Слово \"программирование\" - это не палиндром\n"
     ]
    }
   ],
   "source": [
    "basic_word = 'программирование'\n",
    "inverted_word = basic_word[::-1]\n",
    "if basic_word == inverted_word:\n",
    "    print('Слово \"{}\" является палиндромом'.format(basic_word))\n",
    "else:\n",
    "    print('Слово \"{}\" - это не палиндром'.format(basic_word))"
   ]
  },
  {
   "cell_type": "code",
   "execution_count": 33,
   "metadata": {},
   "outputs": [
    {
     "name": "stdout",
     "output_type": "stream",
     "text": [
      "это\n"
     ]
    }
   ],
   "source": [
    "proverb = 'Хорошо написанная программа - это программа, написанная 2 раза'\n",
    "\n",
    "while True:\n",
    "    index = proverb.find('программа')\n",
    "    if index == -1:\n",
    "        break\n",
    "    secret = proverb[:index].split()[-1]\n",
    "    proverb = proverb[index+9:] \n",
    "\n",
    "print(secret)"
   ]
  },
  {
   "cell_type": "markdown",
   "metadata": {},
   "source": [
    "Дана переменная email, содержащая произвольный адрес электронной почты. Напишите универсальный код, с помощью которого можно извлечь из этого адреса адрес домена.\n",
    "\n",
    "Пояснения:\n",
    "Код должен быть написан в одну строку без пробелов. \n",
    "Не используйте никаких дополнительных имён переменных, кроме переменной email. \n",
    "Не присваивайте результат извлечения никакой другой переменной. \n",
    "Используйте апострофы (не кавычки!) для обозначения символа, позицию которого нужно найти в строке."
   ]
  },
  {
   "cell_type": "code",
   "execution_count": 35,
   "metadata": {},
   "outputs": [
    {
     "name": "stdout",
     "output_type": "stream",
     "text": [
      "lebster.me\n"
     ]
    }
   ],
   "source": [
    "email = 'mailbox@lebster.me'\n",
    "print(email[email.find('@')+1:])"
   ]
  },
  {
   "cell_type": "markdown",
   "metadata": {},
   "source": [
    "## 3.3.4\n",
    "Дано вещественное число. Напишите программу, которая считает сумму цифр дробной части числа. Результат вычислений нужно вывести на экран с помощью функции print\n",
    "\n",
    "Используйте переменную number = 56.257 для хранения заданного числа и не меняйте её в процессе выполнения кода."
   ]
  },
  {
   "cell_type": "code",
   "execution_count": 40,
   "metadata": {},
   "outputs": [
    {
     "name": "stdout",
     "output_type": "stream",
     "text": [
      "14\n"
     ]
    }
   ],
   "source": [
    "number = 56.257\n",
    "pos = str(number).find('.')\n",
    "fractional_number = 0\n",
    "if pos != -1:\n",
    "    fractional_part = str(number)[pos + 1:]\n",
    "    for i in fractional_part:\n",
    "        fractional_number += int(i)\n",
    "\n",
    "print(fractional_number)"
   ]
  },
  {
   "cell_type": "markdown",
   "metadata": {},
   "source": [
    "## 3.3.5\n",
    "Дан список emails_list, содержащий электронные адреса десяти человек. Вам нужно написать программу, которая создаёт словарь emails_dict .Ключами словаря должны быть адреса доменов, а значениями — количество электронных адресов из списка emails_list, зарегистрированных на каждом домене."
   ]
  },
  {
   "cell_type": "code",
   "execution_count": 49,
   "metadata": {},
   "outputs": [
    {
     "name": "stdout",
     "output_type": "stream",
     "text": [
      "{'mail.ru': 3, 'yandex.ru': 5, 'gmail.com': 2}\n"
     ]
    }
   ],
   "source": [
    "emails_list = ['vasya@mail.ru', \n",
    "          'akakiy@yandex.ru', \n",
    "          'spyderman@yandex.ru', \n",
    "          'XFiles@gmail.com', \n",
    "          'hello@mail.ru', \n",
    "          'noname@gmail.com', \n",
    "          'DonaldTrump@mail.ru', \n",
    "          'a768#af@yandex.ru', \n",
    "          'Ivan_Ivanovich@yandex.ru', \n",
    "          'thebestmail@yandex.ru']\n",
    "\n",
    "from collections import Counter\n",
    "emails_dict = {}\n",
    "for email in emails_list:\n",
    "    domain = email[email.find('@')+1:]  \n",
    "    if domain not in emails_dict:\n",
    "        emails_dict[domain] = 0\n",
    "    \n",
    "    emails_dict[domain] += 1\n",
    "    \n",
    "print(emails_dict)    "
   ]
  },
  {
   "cell_type": "code",
   "execution_count": 52,
   "metadata": {},
   "outputs": [
    {
     "name": "stdout",
     "output_type": "stream",
     "text": [
      "лучшее\n"
     ]
    }
   ],
   "source": [
    "string = 'Интернет-открытки - это лучшее средство для мужчины сказать женщине о своих чувствах прямо в глаза.'\n",
    "secret = string[24:30]\n",
    "new_string = string.replace(secret.lower(), secret.upper())\n",
    "print(secret)"
   ]
  },
  {
   "cell_type": "markdown",
   "metadata": {},
   "source": [
    "## 3.4.4\n",
    "Дана переменная string, в которой нужно заменить все знаки препинания на смайлики (':)'). Знаками препинания считайте символы: точка, запятая, двоеточие, тире (дефис), восклицательный и вопросительный знаки. Значение переменной string должно измениться в процессе выполнения программы.\n",
    "\n",
    "Решите задачу для string = 'Тяжёлая интернет-зависимость - это когда ты выходишь из интернета, а он из тебя нет.'\n",
    "\n",
    "Пример:\n",
    "исходное значение переменной: string = 'Привет, Андрей!'\n",
    "итоговое значение переменной: string = 'Привет:) Андрей:)'"
   ]
  },
  {
   "cell_type": "code",
   "execution_count": 54,
   "metadata": {},
   "outputs": [
    {
     "name": "stdout",
     "output_type": "stream",
     "text": [
      "Тяжёлая интернет:)зависимость :) это когда ты выходишь из интернета:) а он из тебя нет:)\n"
     ]
    }
   ],
   "source": [
    "string = 'Тяжёлая интернет-зависимость - это когда ты выходишь из интернета, а он из тебя нет.'\n",
    "chars = [':', '.', ',', '-', '!', '?']\n",
    "for char in chars:\n",
    "    string = string.replace(char, ':)')\n",
    "    \n",
    "print(string)    "
   ]
  },
  {
   "cell_type": "markdown",
   "metadata": {},
   "source": [
    "## 3.4.5\n",
    "ана переменная name, в которой хранится имя пользователя, записанное русскими буквами. Напишите программу, которая перебирает имя по буквам и для каждой буквы выводит сообщение: \"... - гласная буква\" или \"... - согласная буква\", где вместо многоточия нужно подставить букву из имени пользователя.\n",
    "\n",
    "Значение переменной name не должно меняться в ходе выполнения программы. В сообщениях, выводимых на экран, буквы из имени пользователя должны выводиться в том же регистре, в котором они присутствуют в переменной name.\n",
    "\n",
    "Решите задачу для name = 'Севастиан'\n",
    "\n",
    "Пример работы программы для имени Анна:\n",
    "А - гласная буква\n",
    "н - согласная буква\n",
    "н - согласная буква\n",
    "а - гласная буква\n",
    "\n",
    "Подсказка: чтобы избавить себя от необходимости выполнять проверку сложного составного условия, вы можете создать два списка с буквами: в одном хранить гласные буквы, а в другом — согласные."
   ]
  },
  {
   "cell_type": "code",
   "execution_count": 55,
   "metadata": {},
   "outputs": [
    {
     "name": "stdout",
     "output_type": "stream",
     "text": [
      "С - согласная буква\n",
      "е - гласная буква\n",
      "в - согласная буква\n",
      "а - гласная буква\n",
      "с - согласная буква\n",
      "т - согласная буква\n",
      "и - гласная буква\n",
      "а - гласная буква\n",
      "н - согласная буква\n"
     ]
    }
   ],
   "source": [
    "name = 'Севастиан'\n",
    "LETTERS = 'аоиеёэыуюя'\n",
    "for letter in name:\n",
    "    if letter.lower() in LETTERS:\n",
    "        print('%s - гласная буква' % letter)\n",
    "    else:\n",
    "        print('%s - согласная буква' % letter)"
   ]
  },
  {
   "cell_type": "markdown",
   "metadata": {},
   "source": [
    "## 3.6"
   ]
  },
  {
   "cell_type": "code",
   "execution_count": 59,
   "metadata": {},
   "outputs": [
    {
     "name": "stdout",
     "output_type": "stream",
     "text": [
      "None\n",
      "<re.Match object; span=(44, 48), match='1980'>\n",
      "['1980', '1991', '1970']\n"
     ]
    }
   ],
   "source": [
    "import re\n",
    "pattern = re.compile('\\d+')\n",
    "text = 'Разработка языка Python была начата в конце 1980-х годов сотрудником голландского института CWI Гвидо ван Россумом. Для распределённой ОС Amoeba требовался расширяемый скриптовый язык, и Гвидо начал писать Python на досуге, позаимствовав некоторые наработки для языка ABC (Гвидо участвовал в разработке этого языка, ориентированного на обучение программированию). В феврале 1991 года Гвидо опубликовал исходный текст в группе новостей alt.sources. Название языка произошло вовсе не от вида пресмыкающихся. Автор назвал язык в честь популярного британского комедийного телешоу 1970-х \"Летающий цирк Монти Пайтона\".'\n",
    "print(pattern.match(text))\n",
    "print(pattern.search(text))\n",
    "print(pattern.findall(text))"
   ]
  },
  {
   "cell_type": "markdown",
   "metadata": {},
   "source": [
    "## 3.6.4\n",
    "Используя возможности модуля re определите, сколько слов, содержащих русские буквы \"а\" и \"и\", разделённые любыми двумя буквами, содержится в переменной text. Введите количество слов в поле для ответа."
   ]
  },
  {
   "cell_type": "code",
   "execution_count": 71,
   "metadata": {},
   "outputs": [
    {
     "name": "stdout",
     "output_type": "stream",
     "text": [
      "4\n"
     ]
    }
   ],
   "source": [
    "pattern = re.compile('[а]\\w\\w[и]+')\n",
    "print(len(pattern.findall(text)))"
   ]
  },
  {
   "cell_type": "markdown",
   "metadata": {},
   "source": [
    "## 3.6.5\n",
    "Используя возможности модуля re, определите количество пар слов, в которых первое слово заканчивается на гласную русскую букву, второе — начинается на согласную (также русскую). Введите количество найденных пар слов в поле для ответа.\n",
    "\n",
    "Во время подсчёта не учитывайте регистр букв (т.е. при подсчёте должны учитываться как вариант: \"...а П...\" , так и вариант: \"...а п...\" ). Предлоги и союзы считайте полноправными словами, даже если они состоят из одной буквы.\n",
    "\n",
    "Если между словами имеется знак препинания, считайте, что эти два слова НЕ удовлетворяют критерию поиска (т.е. вариант: \"...а, П...\" НЕ должен учитываться при подсчёте)."
   ]
  },
  {
   "cell_type": "code",
   "execution_count": 242,
   "metadata": {},
   "outputs": [
    {
     "name": "stdout",
     "output_type": "stream",
     "text": [
      "[('была', 'начата'), ('начата', 'в'), ('Гвидо', 'ван'), ('Для', 'распределённой'), ('требовался', 'расширяемый'), ('и', 'Гвидо'), ('Гвидо', 'начал'), ('на', 'досуге'), ('некоторые', 'наработки'), ('наработки', 'для'), ('ориентированного', 'на'), ('обучение', 'программированию'), ('года', 'Гвидо'), ('группе', 'новостей'), ('языка', 'произошло'), ('произошло', 'вовсе'), ('вовсе', 'не'), ('вида', 'пресмыкающихся'), ('популярного', 'британского'), ('британского', 'комедийного'), ('комедийного', 'телешоу'), ('Монти', 'Пайтона')]\n",
      "22\n"
     ]
    }
   ],
   "source": [
    "# Используем полный алфавит, так как множество [А-Я] не включает в себя букву Ё.\n",
    "pattern = re.compile('([абвгдеёжзийклмнопрстуфхцчшщъыьэюяАБВГДЕЁЖЗИЙКЛМНОПРСТУФХЦЧШЩЪЫЬЭЮЯ]*[аоиеёэыуюяАЕЁИОУЭЮЯ])\\s(?=([бвгджзйклмнпрстфхцчшщБВГДЖЗЙКЛМНПРСТФХЦЧШЩ][абвгдеёжзийклмнопрстуфхцчшщъыьэюяАБВГДЕЁЖЗИЙКЛМНОПРСТУФХЦЧШЩЪЫЬЭЮЯ]*))')\n",
    "print(pattern.findall(text))\n",
    "print(len(pattern.findall(text)))"
   ]
  },
  {
   "cell_type": "markdown",
   "metadata": {},
   "source": [
    "Для того чтобы покрыть все сочетания, необходимо использовать конструкцию `(?=...)` для перекрывающегося поиска:\n",
    "\n",
    "```\n",
    "Matches if ... matches next, but doesn’t consume any of the string. This is called a lookahead assertion. For example, Isaac (?=Asimov) will match 'Isaac ' only if it’s followed by 'Asimov'.\n",
    "```\n",
    "\n",
    "Смотрите демо https://regex101.com/r/mX2fG5/1.\n",
    "\n",
    "`¯\\_(ツ)_/¯`"
   ]
  },
  {
   "cell_type": "markdown",
   "metadata": {},
   "source": [
    "# 3.7"
   ]
  },
  {
   "cell_type": "code",
   "execution_count": 144,
   "metadata": {},
   "outputs": [
    {
     "name": "stdout",
     "output_type": "stream",
     "text": [
      "Мальчиков: 482, девочек: 518\n"
     ]
    }
   ],
   "source": [
    "f = open('../data/StudentsPerformance.csv')\n",
    "males = 0\n",
    "females = 0\n",
    "for line in f:\n",
    "    info = line.split(',')\n",
    "    gender = info[0][1:-1]\n",
    "    if gender == 'female':\n",
    "        females += 1\n",
    "    elif gender == 'male':\n",
    "        males +=1\n",
    "print('Мальчиков: {}, девочек: {}'.format(males, females))"
   ]
  },
  {
   "cell_type": "markdown",
   "metadata": {},
   "source": [
    "## 3.7.1\n",
    "У скольких абитуриентов родители имеют диплом бакалавра (bachelor's degree)?"
   ]
  },
  {
   "cell_type": "code",
   "execution_count": 148,
   "metadata": {},
   "outputs": [
    {
     "name": "stdout",
     "output_type": "stream",
     "text": [
      "118\n"
     ]
    }
   ],
   "source": [
    "f = open('../data/StudentsPerformance.csv')\n",
    "bachelors = 0\n",
    "for line in f:\n",
    "    info = line.split(',')\n",
    "    education_level = info[2][1:-1]\n",
    "    if education_level == \"bachelor's degree\":\n",
    "        bachelors += 1\n",
    "print(bachelors)        "
   ]
  },
  {
   "cell_type": "markdown",
   "metadata": {},
   "source": [
    "## 3.7.2\n",
    "Сколько разных вариантов значений встречается в столбце \"parental level of education\"?"
   ]
  },
  {
   "cell_type": "code",
   "execution_count": 152,
   "metadata": {},
   "outputs": [
    {
     "name": "stdout",
     "output_type": "stream",
     "text": [
      "[\"bachelor's degree\", 'some college', \"master's degree\", \"associate's degree\", 'high school', 'some high school']\n",
      "6\n"
     ]
    }
   ],
   "source": [
    "f = open('../data/StudentsPerformance.csv')\n",
    "levels = []\n",
    "header_line = True\n",
    "for line in f:\n",
    "    # Skip header line.\n",
    "    if header_line:\n",
    "        header_line = False\n",
    "        continue\n",
    "        \n",
    "    info = line.split(',')\n",
    "    education_level = info[2][1:-1]\n",
    "    if education_level not in levels:\n",
    "        levels.append(education_level)\n",
    "print(levels)    \n",
    "print(len(levels))"
   ]
  },
  {
   "cell_type": "markdown",
   "metadata": {},
   "source": [
    "## 3.7.3\n",
    "Сколько процентов абитуриентов полноценно пообедали перед экзаменом? (У скольких процентов абитуриентов значение столбца \"lunch\" = \"standard\")."
   ]
  },
  {
   "cell_type": "code",
   "execution_count": 160,
   "metadata": {},
   "outputs": [
    {
     "name": "stdout",
     "output_type": "stream",
     "text": [
      "1000\n",
      "645\n",
      "64.5\n",
      "0.645\n"
     ]
    }
   ],
   "source": [
    "f = open('../data/StudentsPerformance.csv')\n",
    "all_students = -1 # Remove header line.\n",
    "happy_students = 0\n",
    "for line in f:\n",
    "    info = line.split(',')\n",
    "    lunch = info[3][1:-1]\n",
    "    all_students += 1\n",
    "    if lunch == 'standard':\n",
    "        happy_students += 1\n",
    "print(all_students)      \n",
    "print(happy_students)\n",
    "print(happy_students / all_students * 100)\n",
    "print(happy_students / all_students)"
   ]
  },
  {
   "cell_type": "markdown",
   "metadata": {},
   "source": [
    "## 3.7.4\n",
    "Сколько абитуриентов относится к этнической группе \"group C\"?"
   ]
  },
  {
   "cell_type": "code",
   "execution_count": 161,
   "metadata": {},
   "outputs": [
    {
     "name": "stdout",
     "output_type": "stream",
     "text": [
      "319\n"
     ]
    }
   ],
   "source": [
    "f = open('../data/StudentsPerformance.csv')\n",
    "group_c = 0\n",
    "for line in f:\n",
    "    info = line.split(',')\n",
    "    group = info[1][1:-1]\n",
    "    if group == 'group C':\n",
    "        group_c += 1\n",
    "print(group_c)     "
   ]
  },
  {
   "cell_type": "markdown",
   "metadata": {},
   "source": [
    "## 3.7.5\n",
    "Сколько разных этнических групп встречается в файле?"
   ]
  },
  {
   "cell_type": "code",
   "execution_count": 162,
   "metadata": {},
   "outputs": [
    {
     "name": "stdout",
     "output_type": "stream",
     "text": [
      "['group B', 'group C', 'group A', 'group D', 'group E']\n",
      "5\n"
     ]
    }
   ],
   "source": [
    "f = open('../data/StudentsPerformance.csv')\n",
    "groups = []\n",
    "header_line = True\n",
    "for line in f:\n",
    "    # Skip header line.\n",
    "    if header_line:\n",
    "        header_line = False\n",
    "        continue\n",
    "        \n",
    "    info = line.split(',')\n",
    "    group = info[1][1:-1]\n",
    "    if group not in groups:\n",
    "        groups.append(group)\n",
    "print(groups)\n",
    "print(len(groups))"
   ]
  },
  {
   "cell_type": "markdown",
   "metadata": {},
   "source": [
    "## 3.8.1\n",
    "Вычислите средний балл абитуриентов на экзамене по чтению (reading score)."
   ]
  },
  {
   "cell_type": "code",
   "execution_count": 169,
   "metadata": {},
   "outputs": [
    {
     "name": "stdout",
     "output_type": "stream",
     "text": [
      "69.169\n"
     ]
    }
   ],
   "source": [
    "f = open('../data/StudentsPerformance.csv')\n",
    "header_line = True\n",
    "reading_scores = []\n",
    "for line in f:\n",
    "    # Skip header line.\n",
    "    if header_line:\n",
    "        header_line = False\n",
    "        continue\n",
    "        \n",
    "    info = line.split(',')\n",
    "    reading_score = info[6][1:-1]\n",
    "    reading_scores.append(int(reading_score))\n",
    "    \n",
    "avg_reading_score = sum(reading_scores) / 1000 \n",
    "print(avg_reading_score)"
   ]
  },
  {
   "cell_type": "markdown",
   "metadata": {},
   "source": [
    "## 3.8.2\n",
    "Сколько абитуриентов получили на экзамене по чтению (reading score) оценку ниже среднего?"
   ]
  },
  {
   "cell_type": "code",
   "execution_count": 170,
   "metadata": {},
   "outputs": [
    {
     "name": "stdout",
     "output_type": "stream",
     "text": [
      "487\n"
     ]
    }
   ],
   "source": [
    "below_avg = 0\n",
    "for reading_score in reading_scores:\n",
    "    if reading_score < avg_reading_score:\n",
    "        below_avg += 1\n",
    "        \n",
    "print(below_avg)"
   ]
  },
  {
   "cell_type": "markdown",
   "metadata": {},
   "source": [
    "## 3.8.3\n",
    "Какой средний балл экзамене по чтению (reading score) получили девочки?"
   ]
  },
  {
   "cell_type": "code",
   "execution_count": 172,
   "metadata": {},
   "outputs": [
    {
     "name": "stdout",
     "output_type": "stream",
     "text": [
      "72.60810810810811\n"
     ]
    }
   ],
   "source": [
    "f = open('../data/StudentsPerformance.csv')\n",
    "girls = 0\n",
    "header_line = True\n",
    "reading_scores = []\n",
    "for line in f:\n",
    "    # Skip header line.\n",
    "    if header_line:\n",
    "        header_line = False\n",
    "        continue\n",
    "        \n",
    "    info = line.split(',')\n",
    "    gender = info[0][1:-1]\n",
    "    if gender == 'female':\n",
    "        girls += 1\n",
    "        reading_score = info[6][1:-1]\n",
    "        reading_scores.append(int(reading_score))\n",
    "    \n",
    "avg_reading_score = sum(reading_scores) / girls \n",
    "print(avg_reading_score)"
   ]
  },
  {
   "cell_type": "markdown",
   "metadata": {},
   "source": [
    "## 3.8.4\n",
    "Сколько абитуриентов получили на экзамене по письму (writing score) оценку выше 90?"
   ]
  },
  {
   "cell_type": "code",
   "execution_count": 178,
   "metadata": {},
   "outputs": [
    {
     "name": "stdout",
     "output_type": "stream",
     "text": [
      "68.054\n",
      "68\n"
     ]
    }
   ],
   "source": [
    "f = open('../data/StudentsPerformance.csv')\n",
    "header_line = True\n",
    "writing_scores = []\n",
    "for line in f:\n",
    "    # Skip header line.\n",
    "    if header_line:\n",
    "        header_line = False\n",
    "        continue\n",
    "        \n",
    "    info = line.split(',')\n",
    "    # Remove new lines and double quotes from the cell.\n",
    "    writing_score = info[7].strip('\\n\"')\n",
    "    writing_scores.append(int(writing_score))\n",
    "    \n",
    "avg_writing_score = sum(writing_scores) / 1000 \n",
    "print(avg_writing_score)\n",
    "\n",
    "above_90 = 0\n",
    "for writing_score in writing_scores:\n",
    "    if writing_score > 90:\n",
    "        above_90 += 1\n",
    "        \n",
    "print(above_90)        "
   ]
  },
  {
   "cell_type": "markdown",
   "metadata": {},
   "source": [
    "## 3.8.5\n",
    "Сколько процентов абитуриентов, получивших на экзамене по письму (writing score) оценку более 90, хорошо пообедали перед экзаменом (lunch = standard)?"
   ]
  },
  {
   "cell_type": "code",
   "execution_count": 181,
   "metadata": {},
   "outputs": [
    {
     "name": "stdout",
     "output_type": "stream",
     "text": [
      "86.8\n"
     ]
    }
   ],
   "source": [
    "f = open('../data/StudentsPerformance.csv')\n",
    "header_line = True\n",
    "writing_scores = 0\n",
    "happy_students = 0\n",
    "for line in f:\n",
    "    # Skip header line.\n",
    "    if header_line:\n",
    "        header_line = False\n",
    "        continue\n",
    "        \n",
    "    info = line.split(',')\n",
    "    # Remove new lines and double quotes from the cell.\n",
    "    writing_score = info[7].strip('\\n\"')\n",
    "    lunch = info[3].strip('\\n\"')\n",
    "    if int(writing_score) > 90:\n",
    "        writing_scores += 1\n",
    "        if lunch == \"standard\":\n",
    "            happy_students += 1\n",
    "        \n",
    "print('%0.1f' % (happy_students / writing_scores * 100))"
   ]
  },
  {
   "cell_type": "markdown",
   "metadata": {},
   "source": [
    "## 3.9.1\n",
    "Сколько мальчиков хорошо пообедали перед экзаменом (lunch = standard)?"
   ]
  },
  {
   "cell_type": "code",
   "execution_count": 182,
   "metadata": {},
   "outputs": [
    {
     "name": "stdout",
     "output_type": "stream",
     "text": [
      "{'female': {'standard': 329, 'free/reduced': 189}, 'male': {'free/reduced': 166, 'standard': 316}}\n"
     ]
    }
   ],
   "source": [
    "f = open('../data/StudentsPerformance.csv')\n",
    "header_line = True\n",
    "breakdown = {}\n",
    "for line in f:\n",
    "    # Skip header line.\n",
    "    if header_line:\n",
    "        header_line = False\n",
    "        continue\n",
    "        \n",
    "    info = line.split(',')\n",
    "    # Remove new lines and double quotes from the cell.\n",
    "    gender = info[0].strip('\\n\"')\n",
    "    lunch = info[3].strip('\\n\"')\n",
    "    if gender in breakdown:\n",
    "        if lunch in breakdown[gender]:\n",
    "            breakdown[gender][lunch] += 1\n",
    "        else:\n",
    "            breakdown[gender][lunch] = 1\n",
    "    else:\n",
    "        breakdown[gender] = {}\n",
    "        breakdown[gender][lunch] = 1\n",
    "\n",
    "print(breakdown)        "
   ]
  },
  {
   "cell_type": "markdown",
   "metadata": {},
   "source": [
    "## 3.9.2\n",
    "Сколько мальчиков закончили подготовительные курсы (test preparation course = completed)?"
   ]
  },
  {
   "cell_type": "code",
   "execution_count": 183,
   "metadata": {},
   "outputs": [
    {
     "name": "stdout",
     "output_type": "stream",
     "text": [
      "{'female': {'none': 334, 'completed': 184}, 'male': {'none': 308, 'completed': 174}}\n"
     ]
    }
   ],
   "source": [
    "f = open('../data/StudentsPerformance.csv')\n",
    "header_line = True\n",
    "breakdown = {}\n",
    "for line in f:\n",
    "    # Skip header line.\n",
    "    if header_line:\n",
    "        header_line = False\n",
    "        continue\n",
    "        \n",
    "    info = line.split(',')\n",
    "    # Remove new lines and double quotes from the cell.\n",
    "    gender = info[0].strip('\\n\"')\n",
    "    test = info[4].strip('\\n\"')\n",
    "    if gender in breakdown:\n",
    "        if test in breakdown[gender]:\n",
    "            breakdown[gender][test] += 1\n",
    "        else:\n",
    "            breakdown[gender][test] = 1\n",
    "    else:\n",
    "        breakdown[gender] = {}\n",
    "        breakdown[gender][test] = 1\n",
    "\n",
    "print(breakdown)    "
   ]
  },
  {
   "cell_type": "markdown",
   "metadata": {},
   "source": [
    "## 3.9.3\n",
    "У скольких девочек родители имеют степень магистра (parental level of education = master's degree)?"
   ]
  },
  {
   "cell_type": "code",
   "execution_count": 190,
   "metadata": {},
   "outputs": [
    {
     "name": "stdout",
     "output_type": "stream",
     "text": [
      "{\"bachelor's degree\": 63, 'some college': 118, \"master's degree\": 36, \"associate's degree\": 116, 'high school': 94, 'some high school': 91}\n"
     ]
    }
   ],
   "source": [
    "f = open('../data/StudentsPerformance.csv')\n",
    "header_line = True\n",
    "breakdown = {}\n",
    "for line in f:\n",
    "    # Skip header line.\n",
    "    if header_line:\n",
    "        header_line = False\n",
    "        continue\n",
    "        \n",
    "    info = line.split(',')\n",
    "    # Remove new lines and double quotes from the cell.\n",
    "    gender = info[0].strip('\\n\"')\n",
    "    edu_level = info[2].strip('\\n\"')\n",
    "    if gender in breakdown:\n",
    "        if edu_level in breakdown[gender]:\n",
    "            breakdown[gender][edu_level] += 1\n",
    "        else:\n",
    "            breakdown[gender][edu_level] = 1\n",
    "    else:\n",
    "        breakdown[gender] = {}\n",
    "        breakdown[gender][edu_level] = 1\n",
    "\n",
    "print(breakdown['female'])   "
   ]
  },
  {
   "cell_type": "markdown",
   "metadata": {},
   "source": [
    "## 3.9.4\n",
    "Сколько абитуриентов, относящихся к этнической группе С, закончили подготовительные курсы?"
   ]
  },
  {
   "cell_type": "code",
   "execution_count": 192,
   "metadata": {},
   "outputs": [
    {
     "name": "stdout",
     "output_type": "stream",
     "text": [
      "{'completed': 117, 'none': 202}\n"
     ]
    }
   ],
   "source": [
    "f = open('../data/StudentsPerformance.csv')\n",
    "header_line = True\n",
    "breakdown = {}\n",
    "for line in f:\n",
    "    # Skip header line.\n",
    "    if header_line:\n",
    "        header_line = False\n",
    "        continue\n",
    "        \n",
    "    info = line.split(',')\n",
    "    # Remove new lines and double quotes from the cell.\n",
    "    group = info[1].strip('\\n\"')\n",
    "    test = info[4].strip('\\n\"')\n",
    "    if group in breakdown:\n",
    "        if test in breakdown[group]:\n",
    "            breakdown[group][test] += 1\n",
    "        else:\n",
    "            breakdown[group][test] = 1\n",
    "    else:\n",
    "        breakdown[group] = {}\n",
    "        breakdown[group][test] = 1\n",
    "\n",
    "print(breakdown['group C'])"
   ]
  },
  {
   "cell_type": "markdown",
   "metadata": {},
   "source": [
    "## 3.9.5\n",
    "Сколько девочек, родители которых имеют степень магистра, набрали по математике больше 90 баллов?"
   ]
  },
  {
   "cell_type": "code",
   "execution_count": 195,
   "metadata": {},
   "outputs": [
    {
     "name": "stdout",
     "output_type": "stream",
     "text": [
      "2\n"
     ]
    }
   ],
   "source": [
    "f = open('../data/StudentsPerformance.csv')\n",
    "header_line = True\n",
    "smart_girls = 0\n",
    "for line in f:\n",
    "    # Skip header line.\n",
    "    if header_line:\n",
    "        header_line = False\n",
    "        continue\n",
    "        \n",
    "    info = line.split(',')\n",
    "    # Remove new lines and double quotes from the cell.\n",
    "    gender = info[0].strip('\\n\"')\n",
    "    math_score = info[5].strip('\\n\"')\n",
    "    edu_level = info[2].strip('\\n\"')\n",
    "    if gender == 'female' and edu_level == \"master's degree\" and int(math_score) > 90:        \n",
    "        smart_girls += 1\n",
    "        \n",
    "print(smart_girls)   "
   ]
  },
  {
   "cell_type": "markdown",
   "metadata": {},
   "source": [
    "## 3.10.1\n",
    "Дана строковая переменная с именем string, содержащая одно слово на неизвестном языке. Напишите код, с помощью которого можно перевернуть эту переменную задом наперёд, т.е. получить слово, которое получается при чтении исходного слова справа налево."
   ]
  },
  {
   "cell_type": "code",
   "execution_count": 197,
   "metadata": {},
   "outputs": [
    {
     "name": "stdout",
     "output_type": "stream",
     "text": [
      "некуцй\n"
     ]
    }
   ],
   "source": [
    "string = \"йцукен\"\n",
    "reverse_string = string[::-1]\n",
    "print(reverse_string)"
   ]
  },
  {
   "cell_type": "markdown",
   "metadata": {},
   "source": [
    "## 3.10.8\n",
    "Какой средний балл, полученный мальчиками на экзамене по чтению? Ответ округлите до трёх цифр после запятой."
   ]
  },
  {
   "cell_type": "code",
   "execution_count": 199,
   "metadata": {},
   "outputs": [
    {
     "name": "stdout",
     "output_type": "stream",
     "text": [
      "65.47302904564316\n"
     ]
    }
   ],
   "source": [
    "f = open('../data/StudentsPerformance.csv')\n",
    "header_line = True\n",
    "male_count = 0\n",
    "reading_scores = 0\n",
    "for line in f:\n",
    "    # Skip header line.\n",
    "    if header_line:\n",
    "        header_line = False\n",
    "        continue\n",
    "        \n",
    "    info = line.split(',')\n",
    "    # Remove new lines and double quotes from the cell.\n",
    "    gender = info[0].strip('\\n\"')\n",
    "    reading_score = info[6].strip('\\n\"')\n",
    "    if gender == 'male':\n",
    "        male_count += 1\n",
    "        reading_scores += int(reading_score)\n",
    "    \n",
    "avg_reading_score = reading_scores / male_count \n",
    "print(avg_reading_score)"
   ]
  },
  {
   "cell_type": "markdown",
   "metadata": {},
   "source": [
    "## 3.10.9\n",
    "Какой средний балл на экзамене по чтению набрали ученики, набравшие максимальный балл на экзамене по математике? Ответ округлите до трёх цифр после запятой."
   ]
  },
  {
   "cell_type": "code",
   "execution_count": 208,
   "metadata": {},
   "outputs": [
    {
     "name": "stdout",
     "output_type": "stream",
     "text": [
      "100\n",
      "97.85714285714286\n"
     ]
    }
   ],
   "source": [
    "# Probably, not the best way...\n",
    "f = open('../data/StudentsPerformance.csv')\n",
    "header_line = True\n",
    "scores = []\n",
    "math_scores = []\n",
    "math_score_max = 0\n",
    "for line in f:\n",
    "    # Skip header line.\n",
    "    if header_line:\n",
    "        header_line = False\n",
    "        continue\n",
    "        \n",
    "    info = line.split(',')\n",
    "    math_score = info[5].strip('\\n\"')\n",
    "    reading_score = info[6].strip('\\n\"')\n",
    "    math_scores.append(int(math_score))\n",
    "    \n",
    "    score = {}\n",
    "    score['math_score'] = int(math_score)\n",
    "    score['reading_score'] = int(reading_score)\n",
    "    scores.append(score)\n",
    "\n",
    "# print(scores)\n",
    "# Find MAX math score.\n",
    "math_score_max = max(math_scores)\n",
    "print(math_score_max)\n",
    "\n",
    "avg_reading_score = 0\n",
    "reading_scores = 0\n",
    "reading_scores_count = 0\n",
    "for score in scores:\n",
    "    if score['math_score'] == math_score_max:\n",
    "        reading_scores_count += 1\n",
    "        reading_scores += score['reading_score']\n",
    "        \n",
    "avg_reading_score = reading_scores / reading_scores_count \n",
    "print(avg_reading_score)        "
   ]
  },
  {
   "cell_type": "markdown",
   "metadata": {},
   "source": [
    "## 3.10.10\n",
    "Какой средний балл на экзамене по письму набрали ученики, которые плохо пообедали перед экзаменом (lunch = free/reduced)? Ответ округлите до двух цифр после запятой."
   ]
  },
  {
   "cell_type": "code",
   "execution_count": 211,
   "metadata": {},
   "outputs": [
    {
     "name": "stdout",
     "output_type": "stream",
     "text": [
      "63.02253521126761\n"
     ]
    }
   ],
   "source": [
    "f = open('../data/StudentsPerformance.csv')\n",
    "header_line = True\n",
    "writing_scores = 0\n",
    "stud_count = 0\n",
    "for line in f:\n",
    "    # Skip header line.\n",
    "    if header_line:\n",
    "        header_line = False\n",
    "        continue\n",
    "        \n",
    "    info = line.split(',')\n",
    "    lunch = info[3].strip('\\n\"')\n",
    "    writing_score = info[7].strip('\\n\"')\n",
    "    if lunch == 'free/reduced':\n",
    "        stud_count += 1\n",
    "        writing_scores += int(writing_score)\n",
    "        \n",
    "avg_writing_score = writing_scores / stud_count \n",
    "print(avg_writing_score)      "
   ]
  },
  {
   "cell_type": "code",
   "execution_count": null,
   "metadata": {},
   "outputs": [],
   "source": []
  }
 ],
 "metadata": {
  "kernelspec": {
   "display_name": "Python 3",
   "language": "python",
   "name": "python3"
  },
  "language_info": {
   "codemirror_mode": {
    "name": "ipython",
    "version": 3
   },
   "file_extension": ".py",
   "mimetype": "text/x-python",
   "name": "python",
   "nbconvert_exporter": "python",
   "pygments_lexer": "ipython3",
   "version": "3.7.6"
  }
 },
 "nbformat": 4,
 "nbformat_minor": 4
}
