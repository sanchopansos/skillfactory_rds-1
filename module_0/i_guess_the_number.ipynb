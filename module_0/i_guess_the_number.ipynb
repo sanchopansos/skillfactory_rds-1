{
 "cells": [
  {
   "cell_type": "markdown",
   "metadata": {},
   "source": [
    "## Двоичный (бинарный) поиск\n",
    "\n",
    "Двоичный (бинарный) поиск (также известен как метод деления пополам или дихотомия) — классический алгоритм поиска элемента в отсортированном массиве (векторе), использующий дробление массива на половины. \n",
    "\n",
    "https://en.wikipedia.org/wiki/Binary_search_algorithm"
   ]
  },
  {
   "cell_type": "markdown",
   "metadata": {},
   "source": [
    "## Интерактивная версия"
   ]
  },
  {
   "cell_type": "code",
   "execution_count": 1,
   "metadata": {},
   "outputs": [
    {
     "name": "stdout",
     "output_type": "stream",
     "text": [
      "Загадайте число от 1 до 99:\n",
      "2\n",
      "Вы загадали число 49?\n",
      "Вы загадали число 24?\n",
      "Вы загадали число 11?\n",
      "Вы загадали число 5?\n",
      "Вы загадали число 2?\n",
      "Алгоритм угадал число за 5 попыток\n"
     ]
    }
   ],
   "source": [
    "number = int(input('Загадайте число от 1 до 99:\\n'))\n",
    "count = 0\n",
    "first = 0\n",
    "last = 99\n",
    "found = False\n",
    "while first <= last and not found:\n",
    "    count += 1\n",
    "    predict = (first + last) // 2\n",
    "    print(f'Вы загадали число {predict}?')\n",
    "    if predict == number:\n",
    "        found = True\n",
    "    else:\n",
    "        if number < predict:\n",
    "            last = predict - 1\n",
    "        else:\n",
    "            first = predict + 1        \n",
    "            \n",
    "print(f'Алгоритм угадал число за {count} попыток')"
   ]
  },
  {
   "cell_type": "code",
   "execution_count": null,
   "metadata": {},
   "outputs": [],
   "source": []
  }
 ],
 "metadata": {
  "kernelspec": {
   "display_name": "Python 3",
   "language": "python",
   "name": "python3"
  },
  "language_info": {
   "codemirror_mode": {
    "name": "ipython",
    "version": 3
   },
   "file_extension": ".py",
   "mimetype": "text/x-python",
   "name": "python",
   "nbconvert_exporter": "python",
   "pygments_lexer": "ipython3",
   "version": "3.7.6"
  }
 },
 "nbformat": 4,
 "nbformat_minor": 4
}
