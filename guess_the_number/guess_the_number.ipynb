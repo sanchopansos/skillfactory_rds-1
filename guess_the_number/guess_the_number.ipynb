{
 "cells": [
  {
   "cell_type": "markdown",
   "metadata": {},
   "source": [
    "# Игра: Угадай число"
   ]
  },
  {
   "cell_type": "code",
   "execution_count": 5,
   "metadata": {},
   "outputs": [],
   "source": [
    "from guess_the_number import game_core_v1\n",
    "from guess_the_number import game_core_v2\n",
    "from guess_the_number import game_core_v3\n",
    "from guess_the_number import score_game"
   ]
  },
  {
   "cell_type": "markdown",
   "metadata": {},
   "source": [
    "## Интерактивная версия"
   ]
  },
  {
   "cell_type": "code",
   "execution_count": 4,
   "metadata": {},
   "outputs": [
    {
     "name": "stdout",
     "output_type": "stream",
     "text": [
      "Загадайте число от 1 до 99:\n",
      "33\n",
      "Алгоритм угадал число за 5 попыток.\n"
     ]
    }
   ],
   "source": [
    "# Ask user to select a random number between 1 and 99.\n",
    "number = int(input('Загадайте число от 1 до 99:\\n'))\n",
    "\n",
    "# Run the algorithm.\n",
    "attempts_count = game_core_v3(number)\n",
    "print(f'Алгоритм угадал число за {attempts_count} попыток.')"
   ]
  },
  {
   "cell_type": "markdown",
   "metadata": {},
   "source": [
    "## Тест эффективности"
   ]
  },
  {
   "cell_type": "code",
   "execution_count": 6,
   "metadata": {},
   "outputs": [
    {
     "name": "stdout",
     "output_type": "stream",
     "text": [
      "Run benchmarking for game_core_v1: Ваш алгоритм угадывает число в среднем за 101 попыток\n",
      "Run benchmarking for game_core_v2: Ваш алгоритм угадывает число в среднем за 30 попыток\n",
      "Run benchmarking for game_core_v3: Ваш алгоритм угадывает число в среднем за 5 попыток\n"
     ]
    },
    {
     "data": {
      "text/plain": [
       "5"
      ]
     },
     "execution_count": 6,
     "metadata": {},
     "output_type": "execute_result"
    }
   ],
   "source": [
    "print('Run benchmarking for game_core_v1: ', end='')\n",
    "score_game(game_core_v1)\n",
    "\n",
    "print('Run benchmarking for game_core_v2: ', end='')\n",
    "score_game(game_core_v2)\n",
    "\n",
    "print('Run benchmarking for game_core_v3: ', end='')\n",
    "score_game(game_core_v3)"
   ]
  },
  {
   "cell_type": "code",
   "execution_count": null,
   "metadata": {},
   "outputs": [],
   "source": []
  }
 ],
 "metadata": {
  "kernelspec": {
   "display_name": "Python 3",
   "language": "python",
   "name": "python3"
  },
  "language_info": {
   "codemirror_mode": {
    "name": "ipython",
    "version": 3
   },
   "file_extension": ".py",
   "mimetype": "text/x-python",
   "name": "python",
   "nbconvert_exporter": "python",
   "pygments_lexer": "ipython3",
   "version": "3.7.6"
  }
 },
 "nbformat": 4,
 "nbformat_minor": 4
}
