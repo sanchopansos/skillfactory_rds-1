{
 "cells": [
  {
   "cell_type": "code",
   "execution_count": 1,
   "metadata": {},
   "outputs": [],
   "source": [
    "sparta = ['Иванов', 'Петров', 'Сидоров', 'Зайцев', 'Дятлов', \n",
    "          'Козлов', 'Лисичкин', 'Огурцов', 'Капустин', 'Арбузов']"
   ]
  },
  {
   "cell_type": "markdown",
   "metadata": {},
   "source": [
    "## 2.5.1\n",
    "Напишите код, который выберет из списка каждого второго сотрудника, начиная с Иванова (т.е. Иванова, Сидорова, Дятлова, Лисичкина и Капустина).\n",
    "\n",
    "Запишите свой код в одну строку без пробелов. Индексы верхней и нижней границ задайте в явном виде. Не забудьте о правильном написании имени переменной, в которой хранится список"
   ]
  },
  {
   "cell_type": "code",
   "execution_count": 3,
   "metadata": {},
   "outputs": [
    {
     "data": {
      "text/plain": [
       "['Иванов', 'Сидоров', 'Дятлов', 'Лисичкин', 'Капустин']"
      ]
     },
     "execution_count": 3,
     "metadata": {},
     "output_type": "execute_result"
    }
   ],
   "source": [
    "# sparta[::2]\n",
    "sparta[0:10:2]"
   ]
  },
  {
   "cell_type": "markdown",
   "metadata": {},
   "source": [
    "## 2.5.2\n",
    "Напишите код, с помощью которого можно извлечь из списка фамилии каждого третьего сотрудника, начиная с Петрова (т.е. Петрова, Дятлова и Огурцова).\n",
    "\n",
    "Запишите свой код в одну строку без пробелов. Индексы верхней и нижней границ задайте в явном виде. Не забудьте о правильном написании имени переменной, в которой хранится список"
   ]
  },
  {
   "cell_type": "code",
   "execution_count": 4,
   "metadata": {},
   "outputs": [
    {
     "data": {
      "text/plain": [
       "['Петров', 'Дятлов', 'Огурцов']"
      ]
     },
     "execution_count": 4,
     "metadata": {},
     "output_type": "execute_result"
    }
   ],
   "source": [
    "sparta[1:10:3]"
   ]
  },
  {
   "cell_type": "markdown",
   "metadata": {},
   "source": [
    "## 2.5.3\n",
    "Напишите код, который извлекает из списка фамилии каждого пятого сотрудника, начиная с Иванова (т.е. Иванова и Козлова).\n",
    "\n",
    "Запишите свой код в одну строку без пробелов. Индексы верхней и нижней границ задайте в явном виде. Не забудьте о правильном написании имени переменной, в которой хранится список"
   ]
  },
  {
   "cell_type": "code",
   "execution_count": 5,
   "metadata": {},
   "outputs": [
    {
     "data": {
      "text/plain": [
       "['Иванов', 'Козлов']"
      ]
     },
     "execution_count": 5,
     "metadata": {},
     "output_type": "execute_result"
    }
   ],
   "source": [
    "sparta[0:10:5]"
   ]
  },
  {
   "cell_type": "markdown",
   "metadata": {},
   "source": [
    "## 2.5.4\n",
    "Вот код, с помощью которого были выбраны участники субботника: sparta[::-3]. Судя по результатам работы кода, кого из сотрудников ждёт продуктивная работа на свежем воздухе?"
   ]
  },
  {
   "cell_type": "code",
   "execution_count": 6,
   "metadata": {},
   "outputs": [
    {
     "data": {
      "text/plain": [
       "['Арбузов', 'Лисичкин', 'Зайцев', 'Иванов']"
      ]
     },
     "execution_count": 6,
     "metadata": {},
     "output_type": "execute_result"
    }
   ],
   "source": [
    "sparta[::-3]"
   ]
  },
  {
   "cell_type": "markdown",
   "metadata": {},
   "source": [
    "## 2.5.5\n",
    "Вот код, с помощью которого были выбраны участники квеста: sparta[-2:1:-3]. Судя по результатам работы кода, кого из сотрудников ждёт весёлый вечер в компании начальства?"
   ]
  },
  {
   "cell_type": "code",
   "execution_count": 7,
   "metadata": {},
   "outputs": [
    {
     "data": {
      "text/plain": [
       "['Капустин', 'Козлов', 'Сидоров']"
      ]
     },
     "execution_count": 7,
     "metadata": {},
     "output_type": "execute_result"
    }
   ],
   "source": [
    "sparta[-2:1:-3]"
   ]
  },
  {
   "cell_type": "code",
   "execution_count": 5,
   "metadata": {},
   "outputs": [
    {
     "name": "stdout",
     "output_type": "stream",
     "text": [
      "590\n"
     ]
    }
   ],
   "source": [
    "my_list = [1, 10, 45, 31, 12, 54, 111, 398, 97, 63]\n",
    "my_list.sort(reverse = True)\n",
    "new_list = my_list[::2]\n",
    "result = 0\n",
    "for number in new_list:\n",
    "    result += number\n",
    "print(result)"
   ]
  },
  {
   "cell_type": "code",
   "execution_count": 7,
   "metadata": {},
   "outputs": [
    {
     "name": "stdout",
     "output_type": "stream",
     "text": [
      "[1024, 512, 256, 128, 64, 32, 16, 8, 4, 2, 1]\n"
     ]
    }
   ],
   "source": [
    "my_list = [1]\n",
    "for i in range(10):\n",
    "    my_list.append(my_list[i] * 2)\n",
    "my_list.sort(reverse = True)\n",
    "print(my_list)"
   ]
  },
  {
   "cell_type": "markdown",
   "metadata": {},
   "source": [
    "## 2.6.8\n",
    "Напишите программу, которая создаёт список, содержащий целые, кратные трём числа в интервале от 1 до 50. Найдите сумму элементов этого списка. Результат вычислений сохраните в переменной с именем result."
   ]
  },
  {
   "cell_type": "code",
   "execution_count": 8,
   "metadata": {},
   "outputs": [
    {
     "name": "stdout",
     "output_type": "stream",
     "text": [
      "408\n"
     ]
    }
   ],
   "source": [
    "digits = []\n",
    "result = 0\n",
    "for i in range(1, 51):\n",
    "    if i % 3 == 0:\n",
    "        digits.append(i)\n",
    "        result += i\n",
    "        \n",
    "print(result)"
   ]
  },
  {
   "cell_type": "code",
   "execution_count": 12,
   "metadata": {},
   "outputs": [
    {
     "name": "stdout",
     "output_type": "stream",
     "text": [
      "408\n"
     ]
    }
   ],
   "source": [
    "result = 0\n",
    "for i in range(1, 51):\n",
    "    if i % 3 == 0:\n",
    "        result += i\n",
    "        \n",
    "print(result)        "
   ]
  },
  {
   "cell_type": "markdown",
   "metadata": {},
   "source": [
    "## 2.6.9\n",
    "Напишите программу, которая создаёт список my_list, содержащий длины слов из списка raw_list (дан в начале кода), и находит сумму минимального и максимального элементов нового списка (my_list). Результат вычислений (сумма минимального и максимального элементов списка my_list) присвойте переменной result."
   ]
  },
  {
   "cell_type": "code",
   "execution_count": 15,
   "metadata": {},
   "outputs": [
    {
     "name": "stdout",
     "output_type": "stream",
     "text": [
      "[10, 5, 7, 6, 7, 5, 7]\n",
      "15\n"
     ]
    }
   ],
   "source": [
    "raw_list = ['переменные', 'циклы', 'условия', 'списки', 'словари', 'файлы', 'функции']\n",
    "\n",
    "my_list = []\n",
    "for word in raw_list:\n",
    "    my_list.append(len(word))\n",
    "\n",
    "print(my_list)\n",
    "\n",
    "result = max(my_list) + min(my_list)\n",
    "print(result)"
   ]
  },
  {
   "cell_type": "markdown",
   "metadata": {},
   "source": [
    "## 2.6.10\n",
    "Дан список raw_list (содержимое списка приведено в начале кода). Найдите минимальное (x_min) и максимальное (x_max) значения элементов данного списка.\n",
    "\n",
    "Создайте новый список my_list, состоящий из элементов списка raw_list, умноженных на x_min, если элемент является чётным числом, и на x_max, в случае если элемент нечётный.\n",
    "\n",
    "Найдите максимальное значение списка my_list. Результат присвойте переменной result."
   ]
  },
  {
   "cell_type": "code",
   "execution_count": 18,
   "metadata": {},
   "outputs": [
    {
     "name": "stdout",
     "output_type": "stream",
     "text": [
      "5041\n"
     ]
    }
   ],
   "source": [
    "raw_list = [2, 8, 10, 23, 64, 49, 11, 52, 71, 14]\n",
    "\n",
    "x_max = max(raw_list)\n",
    "x_min = min(raw_list)\n",
    "\n",
    "my_list = []\n",
    "for i in raw_list:\n",
    "    val = i * x_min if i % 2 == 0 else i * x_max       \n",
    "    my_list.append(val)\n",
    "    \n",
    "result = max(my_list)    \n",
    "print(result)"
   ]
  },
  {
   "cell_type": "markdown",
   "metadata": {},
   "source": [
    "---"
   ]
  },
  {
   "cell_type": "code",
   "execution_count": 20,
   "metadata": {},
   "outputs": [
    {
     "name": "stdout",
     "output_type": "stream",
     "text": [
      "[15, 30, 45, 60, 75, 90]\n"
     ]
    }
   ],
   "source": [
    "my_list = [x for x in range(10, 100) if x%3 == 0 and x%5 == 0]\n",
    "print(my_list)"
   ]
  },
  {
   "cell_type": "code",
   "execution_count": 21,
   "metadata": {},
   "outputs": [
    {
     "name": "stdout",
     "output_type": "stream",
     "text": [
      "[1, 1, 4, 1024, 9, 59049, 16, 1048576, 25, 9765625, 36, 60466176, 49, 282475249, 64, 1073741824, 81, 3486784401]\n"
     ]
    }
   ],
   "source": [
    "powers = [x**y for x in range(1, 10) for y in [2,10]]\n",
    "print(powers)"
   ]
  },
  {
   "cell_type": "code",
   "execution_count": 22,
   "metadata": {},
   "outputs": [
    {
     "name": "stdout",
     "output_type": "stream",
     "text": [
      "[3, 5, 7, 6, 10, 14, 9, 15, 21, 12, 20, 28, 15, 25, 35, 18, 30, 42, 21, 35, 49, 24, 40, 56, 27, 45, 63]\n"
     ]
    }
   ],
   "source": [
    "numbers = [x*y for x in range(1, 10) for y in [3, 5, 7]]\n",
    "print(numbers)"
   ]
  },
  {
   "cell_type": "code",
   "execution_count": 23,
   "metadata": {},
   "outputs": [
    {
     "name": "stdout",
     "output_type": "stream",
     "text": [
      "[3, 5, 7, 11, 13, 17, 19, 23, 29, 31, 37, 41, 43, 47, 53, 59, 61, 67, 71, 73, 79, 83, 89, 97]\n"
     ]
    }
   ],
   "source": [
    "numbers = [x for x in range(3,100) if [x%y for y in range(2,x)].count(0) == 0]\n",
    "print(numbers)"
   ]
  },
  {
   "cell_type": "code",
   "execution_count": 27,
   "metadata": {},
   "outputs": [
    {
     "name": "stdout",
     "output_type": "stream",
     "text": [
      "['а', 'з', 'и', 'н', 'н', 'о', 'о', 'о', 'р', 'р', 'с', 'т', 'ф', 'х']\n"
     ]
    }
   ],
   "source": [
    "my_list = sorted([x for x in 'синхрофазотрон'])\n",
    "print(my_list)"
   ]
  },
  {
   "cell_type": "markdown",
   "metadata": {},
   "source": [
    "---"
   ]
  },
  {
   "cell_type": "markdown",
   "metadata": {},
   "source": [
    "## 2.7.9\n",
    "Перепишите привёденный ниже код, используя генератор списков. Полученный в результате работы генератора список должен иметь имя my_list."
   ]
  },
  {
   "cell_type": "code",
   "execution_count": 30,
   "metadata": {},
   "outputs": [
    {
     "name": "stdout",
     "output_type": "stream",
     "text": [
      "[2.6457513110645907, 3.7416573867739413, 4.58257569495584, 5.291502622129181, 5.916079783099616, 6.48074069840786, 7.0]\n"
     ]
    }
   ],
   "source": [
    "my_list = []\n",
    "for x in range(1, 50):\n",
    "    if x%7 == 0:\n",
    "        my_list.append(x**0.5)\n",
    "        \n",
    "print(my_list)"
   ]
  },
  {
   "cell_type": "code",
   "execution_count": 32,
   "metadata": {},
   "outputs": [
    {
     "name": "stdout",
     "output_type": "stream",
     "text": [
      "[2.6457513110645907, 3.7416573867739413, 4.58257569495584, 5.291502622129181, 5.916079783099616, 6.48074069840786, 7.0]\n"
     ]
    }
   ],
   "source": [
    "my_list = [x**0.5 for x in range(1, 50) if x%7 == 0]\n",
    "print(my_list)"
   ]
  },
  {
   "cell_type": "markdown",
   "metadata": {},
   "source": [
    "## 2.7.10\n",
    "Перепишите привёденный ниже код, используя генератор списков. Полученный в результате работы генератора список должен иметь имя my_list."
   ]
  },
  {
   "cell_type": "code",
   "execution_count": 34,
   "metadata": {},
   "outputs": [
    {
     "name": "stdout",
     "output_type": "stream",
     "text": [
      "[9, 10, 11, 12, 13, 14, 15, 16, 17, 18]\n"
     ]
    }
   ],
   "source": [
    "my_list = []\n",
    "for x in range(90, 100):\n",
    "    first_digit = x//10\n",
    "    last_digit = x%10\n",
    "    my_list.append(first_digit + last_digit)\n",
    "    \n",
    "print(my_list)    "
   ]
  },
  {
   "cell_type": "code",
   "execution_count": 35,
   "metadata": {},
   "outputs": [
    {
     "name": "stdout",
     "output_type": "stream",
     "text": [
      "[9, 10, 11, 12, 13, 14, 15, 16, 17, 18]\n"
     ]
    }
   ],
   "source": [
    "my_list = [x//10 + x%10 for x in range(90, 100)]\n",
    "print(my_list)"
   ]
  },
  {
   "cell_type": "markdown",
   "metadata": {},
   "source": [
    "## 2.8.1"
   ]
  },
  {
   "cell_type": "code",
   "execution_count": 38,
   "metadata": {},
   "outputs": [
    {
     "name": "stdout",
     "output_type": "stream",
     "text": [
      "['+79033923029', '+78125849204', '+79053049385', '+79265748370', '+79030598495']\n"
     ]
    }
   ],
   "source": [
    "address_book = [['+79033923029', 'Мария Никитина'], ['+78125849204', 'Егор Савичев'], ['+79053049385', 'Александр Пахомов'], ['+79265748370', 'Алина Егорова'], ['+79030598495', 'Руслан Башаров']]\n",
    "phones = [phone[0] for phone in address_book]\n",
    "print(phones)"
   ]
  },
  {
   "cell_type": "markdown",
   "metadata": {},
   "source": [
    "## 2.9.1"
   ]
  },
  {
   "cell_type": "code",
   "execution_count": 40,
   "metadata": {},
   "outputs": [
    {
     "name": "stdout",
     "output_type": "stream",
     "text": [
      "{'Мария Никитина': '+79033923029', 'Егор Савичев': '+78125849204', 'Александр Пахомов': '+79053049385', 'Алина Егорова': '+79265748370', 'Руслан Башаров': '+79030598495'}\n"
     ]
    }
   ],
   "source": [
    "address_book = [['+79033923029', 'Мария Никитина'], ['+78125849204', 'Егор Савичев'], ['+79053049385', 'Александр Пахомов'], ['+79265748370', 'Алина Егорова'], ['+79030598495', 'Руслан Башаров']]\n",
    "employee_base = {}\n",
    "for employee in address_book:\n",
    "    employee_base[employee[1]] = employee[0]\n",
    "\n",
    "print(employee_base)"
   ]
  },
  {
   "cell_type": "code",
   "execution_count": 42,
   "metadata": {},
   "outputs": [
    {
     "name": "stdout",
     "output_type": "stream",
     "text": [
      "+79265748370\n"
     ]
    }
   ],
   "source": [
    "employee_base = {\n",
    "    'Мария Никитина': '+79033923029', \n",
    "    'Егор Савичев': '+78125849204', \n",
    "    'Александр Пахомов': '+79053049385', \n",
    "    'Алина Егорова': '+79265748370', \n",
    "    'Руслан Башаров': '+79030598495'\n",
    "}\n",
    "print(employee_base['Алина Егорова'])"
   ]
  },
  {
   "cell_type": "markdown",
   "metadata": {},
   "source": [
    "## 2.11"
   ]
  },
  {
   "cell_type": "code",
   "execution_count": 43,
   "metadata": {},
   "outputs": [],
   "source": [
    "draw_dict = {\n",
    "    'Россия': 'A',\n",
    "    'Португалия': 'B',\n",
    "    'Франция': 'C',\n",
    "    'Дания': 'C',\n",
    "    'Египет': 'A'\n",
    "}"
   ]
  },
  {
   "cell_type": "markdown",
   "metadata": {},
   "source": [
    "Напишите код, который по названию страны country присваивает переменной group название группы по результатам жеребьевки. Если страны нет в словаре draw_dict, то переменной group присваивается значение 'unknown'. Выполните код для значения country = 'Италия'."
   ]
  },
  {
   "cell_type": "code",
   "execution_count": 45,
   "metadata": {},
   "outputs": [
    {
     "name": "stdout",
     "output_type": "stream",
     "text": [
      "unknown\n"
     ]
    }
   ],
   "source": [
    "country = 'Италия'\n",
    "group = draw_dict[country] if country in draw_dict else 'unknown'\n",
    "print(group)"
   ]
  },
  {
   "cell_type": "markdown",
   "metadata": {},
   "source": [
    "Решите предыдущую задачу, используя метод setdefault. Вместо проверки на наличие ключа вы можете сразу назначить значение по умолчанию 'unknown'. Проверьте работу кода для country = 'Италия'. Результат запишите в переменную group"
   ]
  },
  {
   "cell_type": "code",
   "execution_count": 46,
   "metadata": {},
   "outputs": [
    {
     "name": "stdout",
     "output_type": "stream",
     "text": [
      "unknown\n"
     ]
    }
   ],
   "source": [
    "country = 'Италия'\n",
    "draw_dict.setdefault(country, 'unknown')\n",
    "group = draw_dict[country]\n",
    "print(group)"
   ]
  },
  {
   "cell_type": "markdown",
   "metadata": {},
   "source": [
    "## 2.13\n",
    "Отфильтруйте словарь draw_dict, оставив в нем только страны группы A. Отфильтрованный результат запишите в новый словарь draw_new"
   ]
  },
  {
   "cell_type": "code",
   "execution_count": 57,
   "metadata": {},
   "outputs": [
    {
     "name": "stdout",
     "output_type": "stream",
     "text": [
      "{'Россия': 'A', 'Египет': 'A'}\n"
     ]
    }
   ],
   "source": [
    "draw_dict = {\n",
    "    'Россия': 'A',\n",
    "    'Португалия': 'B',\n",
    "    'Франция': 'C',\n",
    "    'Дания': 'C',\n",
    "    'Египет': 'A'\n",
    "}\n",
    "\n",
    "draw_new = {}\n",
    "for item in draw_dict:\n",
    "    if draw_dict[item] == 'A':\n",
    "        draw_new[item] = draw_dict[item]\n",
    "    \n",
    "print(draw_new)"
   ]
  },
  {
   "cell_type": "markdown",
   "metadata": {},
   "source": [
    "## 2.15\n",
    "Отфильтруйте словарь draw_dict с помощью метода items, оставив в нем только страны группы A. Отфильтрованный результат запишите в новый словарь draw_new"
   ]
  },
  {
   "cell_type": "code",
   "execution_count": 3,
   "metadata": {},
   "outputs": [
    {
     "name": "stdout",
     "output_type": "stream",
     "text": [
      "{'Россия': 'A', 'Египет': 'A'}\n"
     ]
    }
   ],
   "source": [
    "draw_dict = {\n",
    "    'Россия': 'A',\n",
    "    'Португалия': 'B',\n",
    "    'Франция': 'C',\n",
    "    'Дания': 'C',\n",
    "    'Египет': 'A'\n",
    "}\n",
    "\n",
    "draw_new = {}\n",
    "for country, group in draw_dict.items():\n",
    "    if group == 'A':\n",
    "        draw_new[country] = group\n",
    "    \n",
    "print(draw_new)"
   ]
  },
  {
   "cell_type": "markdown",
   "metadata": {},
   "source": [
    "## 2.16.1\n",
    "Сотрудник ведет запись ежедневных расходов по партнерам. Он мог бы записывать суммы за 1-3 апреля в знакомые нам списки, но это не очень удобно: [2504, 4994, 6343]. Оформите расходы в словарь, в котором ключами являются даты ('2019-04-01', '2019-04-02', '2019-04-03' апреля), а значениями — суммы расходов (2504, 4994 и 6343 рублей соответственно)."
   ]
  },
  {
   "cell_type": "code",
   "execution_count": 5,
   "metadata": {},
   "outputs": [
    {
     "name": "stdout",
     "output_type": "stream",
     "text": [
      "13841\n"
     ]
    }
   ],
   "source": [
    "charges = {\n",
    "    '2019-04-01': 2504,\n",
    "    '2019-04-02': 4994, \n",
    "    '2019-04-03': 6343\n",
    "}\n",
    "\n",
    "# Посчитайте сумму расходов из словаря первой задачи\n",
    "charges_sum = 0\n",
    "for charge in charges.values():\n",
    "    charges_sum += charge\n",
    "\n",
    "print(charges_sum)"
   ]
  },
  {
   "cell_type": "markdown",
   "metadata": {},
   "source": [
    "## 2.18\n",
    "Отфильтруйте список товарных позиций csv_file, оставив только те позиции, у которых количество штук на складе больше 10. Результат запишите в переменную csv_file_filtered"
   ]
  },
  {
   "cell_type": "code",
   "execution_count": 17,
   "metadata": {},
   "outputs": [
    {
     "name": "stdout",
     "output_type": "stream",
     "text": [
      "[['100728', 'Скейтборд Jdbug RT03', 32], ['100732', 'Роллерсерф Razor RipStik Bright', 11], ['100803', 'Ботинки для сноуборда DC Tucknee', 20], ['100934', 'Пульсометр Beurer PM62', 17]]\n"
     ]
    }
   ],
   "source": [
    "csv_file = [\n",
    "    ['100412', 'Ботинки для горных лыж ATOMIC Hawx Prime 100', 9],\n",
    "    ['100728', 'Скейтборд Jdbug RT03', 32],\n",
    "    ['100732', 'Роллерсерф Razor RipStik Bright', 11],\n",
    "    ['100803', 'Ботинки для сноуборда DC Tucknee', 20],\n",
    "    ['100898', 'Шагомер Omron HJA-306', 2],\n",
    "    ['100934', 'Пульсометр Beurer PM62', 17],\n",
    "]\n",
    "\n",
    "csv_file_filtered = []\n",
    "for item in csv_file:\n",
    "    if item[2] > 10:\n",
    "        csv_file_filtered.append(item)\n",
    "        \n",
    "print(csv_file_filtered)        "
   ]
  },
  {
   "cell_type": "markdown",
   "metadata": {},
   "source": [
    "## 2.19\n",
    "Разработчики поменяли формат выгрузки из базы данных товарных позиций. Теперь это список словарей, каждый столбец в котором имеет имя. Напишите код, который оставляет только те товары, в названии которых есть слово \"Ботинки\". Результат запишите в переменную csv_dict_boots"
   ]
  },
  {
   "cell_type": "code",
   "execution_count": 20,
   "metadata": {},
   "outputs": [
    {
     "name": "stdout",
     "output_type": "stream",
     "text": [
      "[{'id': '100412', 'position': 'Ботинки для горных лыж ATOMIC Hawx Prime 100', 'count': 9}, {'id': '100803', 'position': 'Ботинки для сноуборда DC Tucknee', 'count': 20}]\n"
     ]
    }
   ],
   "source": [
    "csv_dict = [\n",
    "    {'id': '100412', 'position': 'Ботинки для горных лыж ATOMIC Hawx Prime 100', 'count': 9},\n",
    "    {'id': '100728', 'position': 'Скейтборд Jdbug RT03', 'count': 32},\n",
    "    {'id': '100732', 'position': 'Роллерсерф Razor RipStik Bright', 'count': 11},\n",
    "    {'id': '100803', 'position': 'Ботинки для сноуборда DC Tucknee', 'count': 20},\n",
    "    {'id': '100898', 'position': 'Шагомер Omron HJA-306', 'count': 2},\n",
    "    {'id': '100934', 'position': 'Пульсометр Beurer PM62', 'count': 17},\n",
    "]\n",
    "\n",
    "csv_dict_boots = []\n",
    "for item in csv_dict:\n",
    "    if item['position'].lower().find('ботинки') != -1:\n",
    "        csv_dict_boots.append(item)\n",
    "    \n",
    "print(csv_dict_boots)"
   ]
  },
  {
   "cell_type": "markdown",
   "metadata": {},
   "source": [
    "## 2.20"
   ]
  },
  {
   "cell_type": "code",
   "execution_count": 21,
   "metadata": {},
   "outputs": [],
   "source": [
    "contacts = {\n",
    "    'Борискин Владимир': {\n",
    "        'tel': '5387',\n",
    "        'position': 'менеджер'\n",
    "    },\n",
    "    \n",
    "    'Сомова Наталья': {\n",
    "        'tel': '5443',\n",
    "        'position': 'разработчик'\n",
    "    },\n",
    "}"
   ]
  },
  {
   "cell_type": "code",
   "execution_count": 23,
   "metadata": {},
   "outputs": [
    {
     "name": "stdout",
     "output_type": "stream",
     "text": [
      "98\n"
     ]
    }
   ],
   "source": [
    "results = [\n",
    "    {'cost': 98, 'source': 'vk'},\n",
    "    {'cost': 153, 'source': 'yandex'},\n",
    "    {'cost': 110, 'source': 'facebook'},\n",
    "]\n",
    "\n",
    "# минимальное значение ключа cost\n",
    "min_val = results[0]['cost']\n",
    "for item in results:\n",
    "    if item['cost'] < min_val:\n",
    "        min_val = item['cost']\n",
    "\n",
    "print(min_val)        "
   ]
  },
  {
   "cell_type": "code",
   "execution_count": 24,
   "metadata": {},
   "outputs": [
    {
     "name": "stdout",
     "output_type": "stream",
     "text": [
      "5\n"
     ]
    }
   ],
   "source": [
    "defect_stats = [\n",
    "    {'step number': 1, 'damage': 0.98},\n",
    "    {'step number': 2, 'damage': 0.99},\n",
    "    {'step number': 3, 'damage': 0.99},\n",
    "    {'step number': 4, 'damage': 0.96},\n",
    "    {'step number': 5, 'damage': 0.97},\n",
    "    {'step number': 6, 'damage': 0.97},\n",
    "]\n",
    "\n",
    "size = 100\n",
    "for step in defect_stats:\n",
    "    size *= step['damage']\n",
    "    if size < 90:\n",
    "        print(step['step number'])\n",
    "        break"
   ]
  },
  {
   "cell_type": "markdown",
   "metadata": {},
   "source": [
    "## 2.20.4\n",
    "Имеется статистика курсов валют. Какая валюта имеет минимальный курс по отношению к рублю за 1 единицу? Для определения курса валюты необходимо значение ключа 'Value' разделить на значение ключа 'Nominal'. В качестве ответа укажите код валюты (например, AUD)"
   ]
  },
  {
   "cell_type": "code",
   "execution_count": 32,
   "metadata": {},
   "outputs": [
    {
     "name": "stdout",
     "output_type": "stream",
     "text": [
      "AMD\n"
     ]
    }
   ],
   "source": [
    "currencies = {\n",
    "  'AMD': {\n",
    "    'Name': 'Армянских драмов',\n",
    "    'Nominal': 100,\n",
    "    'Value': 13.121\n",
    "  },\n",
    "\n",
    "  'AUD': {\n",
    "    'Name': 'Австралийский доллар',\n",
    "    'Nominal': 1,\n",
    "    'Value': 45.5309\n",
    "  },\n",
    "\n",
    "  'INR': {\n",
    "    'Name': 'Индийских рупий',\n",
    "    'Nominal': 100,\n",
    "    'Value': 92.9658\n",
    "  },\n",
    "\n",
    "  'MDL': {\n",
    "    'Name': 'Молдавских леев',\n",
    "    'Nominal': 10,\n",
    "    'Value': 36.9305\n",
    "  },\n",
    "}\n",
    "\n",
    "min_currency = 'AMD'\n",
    "min_val = currencies[min_currency]['Value'] / currencies[min_currency]['Nominal']\n",
    "for currency_id, currency in currencies.items():\n",
    "    if min_val > currency['Value'] / currency['Nominal']:\n",
    "        min_val = currency['Value'] / currency['Nominal']\n",
    "        min_currency = currency_id\n",
    "    \n",
    "print(min_currency)    "
   ]
  },
  {
   "cell_type": "markdown",
   "metadata": {},
   "source": [
    "## 2.2.5\n",
    "Напишите скрипт, который считает общее число погибших живых существ во всех сериях. Укажите итоговое число в качестве ответа. Пиратов-зомби в последней части тоже считайте живыми."
   ]
  },
  {
   "cell_type": "code",
   "execution_count": 42,
   "metadata": {},
   "outputs": [
    {
     "name": "stdout",
     "output_type": "stream",
     "text": [
      "225\n"
     ]
    }
   ],
   "source": [
    "bodycount = {\n",
    "  'Проклятие Черной жемчужины': {\n",
    "    'человек': 17\n",
    "  }, \n",
    "\n",
    "  'Сундук мертвеца': {\n",
    "    'человек': 56,\n",
    "    'раков-отшельников': 1\n",
    "  },\n",
    "\n",
    "  'На краю света': {\n",
    "    'человек': 88\n",
    "  },\n",
    "\n",
    "  'На странных берегах': {\n",
    "    'человек': 56,\n",
    "    'русалок': 2,\n",
    "    'ядовитых жаб': 3,\n",
    "    'пиратов зомби': 2\n",
    "  }\n",
    "}\n",
    "\n",
    "bodycount_sum = 0\n",
    "for movie, counters in bodycount.items():\n",
    "    for counter, count in counters.items():\n",
    "        bodycount_sum += count\n",
    "\n",
    "print(bodycount_sum)    "
   ]
  },
  {
   "cell_type": "markdown",
   "metadata": {},
   "source": [
    "## 2.24"
   ]
  },
  {
   "cell_type": "code",
   "execution_count": 47,
   "metadata": {},
   "outputs": [
    {
     "name": "stdout",
     "output_type": "stream",
     "text": [
      "[{'id': 47946124, 'client_id': 62526, 'user_id': 110777, 'category': 'page', 'action': 'enter', 'options': {'name': 'landing'}}, {'id': 47947076, 'client_id': 61944, 'user_id': 108565, 'category': 'page', 'action': 'enter', 'options': {'name': 'landing'}}, {'id': 47962056, 'client_id': 27115, 'user_id': 49440, 'category': 'page', 'action': 'enter', 'options': {'name': 'page'}}, {'id': 47962120, 'client_id': 27115, 'user_id': 49440, 'category': 'datepicker', 'action': 'apply', 'options': {'endDate': '2019-03-31 23:59:59', 'startDate': '2019-03-25 00:00:00'}}, {'id': 47962218, 'client_id': 27115, 'user_id': 49440, 'category': 'table', 'action': 'sort', 'options': {'dir': 'ASC', 'name': 'deal_date'}}, {'id': 47962238, 'client_id': 27115, 'user_id': 49440, 'category': 'table', 'action': 'sort', 'options': {'dir': 'DESC', 'name': 'deal_date'}}, {'id': 47962532, 'client_id': 27115, 'user_id': 49440, 'category': 'table', 'action': 'sort', 'options': {'dir': 'ASC', 'name': 'deal_date'}}, {'id': 47962534, 'client_id': 27115, 'user_id': 49440, 'category': 'table', 'action': 'sort', 'options': {'dir': 'DESC', 'name': 'deal_date'}}, {'id': 47962696, 'client_id': 27115, 'user_id': 49440, 'category': 'datepicker', 'action': 'apply', 'options': {'endDate': '2019-03-10 23:59:59', 'startDate': '2019-03-04 00:00:00'}}, {'id': 47962748, 'client_id': 27115, 'user_id': 49440, 'category': 'datepicker', 'action': 'apply', 'options': {'endDate': '2019-02-24 23:59:59', 'startDate': '2019-02-18 00:00:00'}}, {'id': 47962830, 'client_id': 27115, 'user_id': 49440, 'category': 'datepicker', 'action': 'apply', 'options': {'endDate': '2019-03-31 23:59:59', 'startDate': '2019-03-25 00:00:00'}}, {'id': 47962860, 'client_id': 27115, 'user_id': 49440, 'category': 'datepicker', 'action': 'apply', 'options': {'endDate': '2019-03-31 23:59:59', 'startDate': '2019-03-28 00:00:00'}}, {'id': 47962952, 'client_id': 27115, 'user_id': 49440, 'category': 'datepicker', 'action': 'apply', 'options': {'endDate': '2019-03-31 23:59:59', 'startDate': '2019-03-29 00:00:00'}}, {'id': 47964366, 'client_id': 62017, 'user_id': 108835, 'category': 'page', 'action': 'enter', 'options': {'name': 'landing'}}, {'id': 47989384, 'client_id': 63120, 'user_id': 113069, 'category': 'page', 'action': 'enter', 'options': {'name': 'landing'}}, {'id': 48010418, 'client_id': 59883, 'user_id': 108493, 'category': 'page', 'action': 'enter', 'options': {'name': 'landing'}}, {'id': 48012170, 'client_id': 2913, 'user_id': 37412, 'category': 'page', 'action': 'enter', 'options': {'name': 'landing'}}, {'id': 48014430, 'client_id': 62940, 'user_id': 112351, 'category': 'page', 'action': 'enter', 'options': {'name': 'landing'}}, {'id': 48022684, 'client_id': 63149, 'user_id': 113143, 'category': 'page', 'action': 'enter', 'options': {'name': 'landing'}}, {'id': 48026886, 'client_id': 45391, 'user_id': 76047, 'category': 'page', 'action': 'enter', 'options': {'name': 'landing'}}, {'id': 48034878, 'client_id': 18923, 'user_id': 36488, 'category': 'page', 'action': 'enter', 'options': {'name': 'landing'}}, {'id': 48042052, 'client_id': 63019, 'user_id': 113169, 'category': 'page', 'action': 'enter', 'options': {'name': 'landing'}}, {'id': 48043326, 'client_id': 18923, 'user_id': 36488, 'category': 'page', 'action': 'enter', 'options': {'name': 'landing'}}, {'id': 48043640, 'client_id': 18923, 'user_id': 36488, 'category': 'page', 'action': 'enter', 'options': {'name': 'landing'}}, {'id': 48051248, 'client_id': 15759, 'user_id': 92681, 'category': 'page', 'action': 'enter', 'options': {'name': 'landing'}}, {'id': 48061250, 'client_id': 62007, 'user_id': 92681, 'category': 'page', 'action': 'enter', 'options': {'name': 'page'}}, {'id': 48066902, 'client_id': 62941, 'user_id': 112357, 'category': 'page', 'action': 'enter', 'options': {'name': 'landing'}}, {'id': 48081876, 'client_id': 51009, 'user_id': 87778, 'category': 'page', 'action': 'enter', 'options': {'name': 'landing'}}, {'id': 48106514, 'client_id': 62236, 'user_id': 109579, 'category': 'page', 'action': 'enter', 'options': {'name': 'landing'}}, {'id': 48110768, 'client_id': 44682, 'user_id': 74909, 'category': 'page', 'action': 'enter', 'options': {'name': 'landing'}}, {'id': 48114652, 'client_id': 39709, 'user_id': 67955, 'category': 'page', 'action': 'enter', 'options': {'name': 'landing'}}, {'id': 48118216, 'client_id': 60459, 'user_id': 32532, 'category': 'page', 'action': 'enter', 'options': {'name': 'page'}}, {'id': 48118370, 'client_id': 62144, 'user_id': 109283, 'category': 'page', 'action': 'enter', 'options': {'name': 'landing'}}, {'id': 48118516, 'client_id': 60459, 'user_id': 32532, 'category': 'report', 'action': 'change_mode', 'options': {'mode': 'deals'}}, {'id': 48118564, 'client_id': 60459, 'user_id': 32532, 'category': 'report', 'action': 'change_mode', 'options': {'mode': 'summary'}}, {'id': 48118590, 'client_id': 60459, 'user_id': 32532, 'category': 'report', 'action': 'change_mode', 'options': {'mode': 'deals'}}, {'id': 48118920, 'client_id': 60459, 'user_id': 32532, 'category': 'report', 'action': 'change_mode', 'options': {'mode': 'summary'}}, {'id': 48120374, 'client_id': 60459, 'user_id': 32532, 'category': 'page', 'action': 'enter', 'options': {'name': 'page'}}, {'id': 48120386, 'client_id': 60459, 'user_id': 32532, 'category': 'report', 'action': 'change_mode', 'options': {'mode': 'deals'}}, {'id': 48120602, 'client_id': 52492, 'user_id': 91178, 'category': 'page', 'action': 'enter', 'options': {'name': 'page'}}, {'id': 48120604, 'client_id': 52492, 'user_id': 105477, 'category': 'page', 'action': 'enter', 'options': {'name': 'page'}}, {'id': 48120770, 'client_id': 60459, 'user_id': 32532, 'category': 'page', 'action': 'enter', 'options': {'name': 'page'}}, {'id': 48120876, 'client_id': 60459, 'user_id': 32532, 'category': 'table', 'action': 'sort', 'options': {'dir': 'ASC', 'name': 'visitor_id'}}, {'id': 48120896, 'client_id': 60459, 'user_id': 32532, 'category': 'table', 'action': 'sort', 'options': {'dir': 'DESC', 'name': 'visitor_id'}}, {'id': 48121006, 'client_id': 60459, 'user_id': 32532, 'category': 'table', 'action': 'sort', 'options': {'dir': 'ASC', 'name': 'visitor_id'}}, {'id': 48121008, 'client_id': 60459, 'user_id': 32532, 'category': 'table', 'action': 'sort', 'options': {'dir': 'DESC', 'name': 'visitor_id'}}, {'id': 48125372, 'client_id': 52492, 'user_id': 91178, 'category': 'page', 'action': 'enter', 'options': {'name': 'page'}}, {'id': 48130434, 'client_id': 18923, 'user_id': 36488, 'category': 'page', 'action': 'enter', 'options': {'name': 'landing'}}, {'id': 48135712, 'client_id': 25301, 'user_id': 54229, 'category': 'page', 'action': 'enter', 'options': {'name': 'landing'}}, {'id': 48136376, 'client_id': 18923, 'user_id': 36488, 'category': 'page', 'action': 'enter', 'options': {'name': 'landing'}}, {'id': 48136890, 'client_id': 33645, 'user_id': 61378, 'category': 'page', 'action': 'enter', 'options': {'name': 'landing'}}, {'id': 48145332, 'client_id': 62089, 'user_id': 109095, 'category': 'page', 'action': 'enter', 'options': {'name': 'landing'}}, {'id': 48155244, 'client_id': 26705, 'user_id': 48880, 'category': 'page', 'action': 'enter', 'options': {'name': 'landing'}}, {'id': 48160942, 'client_id': 1103, 'user_id': 109501, 'category': 'page', 'action': 'enter', 'options': {'name': 'page'}}, {'id': 48166190, 'client_id': 62439, 'user_id': 110397, 'category': 'page', 'action': 'enter', 'options': {'name': 'landing'}}, {'id': 48167428, 'client_id': 44196, 'user_id': 74136, 'category': 'page', 'action': 'enter', 'options': {'name': 'landing'}}, {'id': 48171114, 'client_id': 62602, 'user_id': 111069, 'category': 'page', 'action': 'enter', 'options': {'name': 'page'}}, {'id': 48173426, 'client_id': 62602, 'user_id': 111069, 'category': 'page', 'action': 'enter', 'options': {'name': 'page'}}, {'id': 48173444, 'client_id': 62602, 'user_id': 111069, 'category': 'report', 'action': 'link_click', 'options': {'url': 'javascript:void(0);', 'name': 'deal_count', 'value': '1'}}, {'id': 48173446, 'client_id': 62602, 'user_id': 111069, 'category': 'page', 'action': 'enter', 'options': {'name': 'page'}}, {'id': 48173640, 'client_id': 62602, 'user_id': 111069, 'category': 'page', 'action': 'enter', 'options': {'name': 'page'}}, {'id': 48173686, 'client_id': 62602, 'user_id': 111069, 'category': 'page', 'action': 'enter', 'options': {'name': 'page'}}, {'id': 48173698, 'client_id': 62602, 'user_id': 111069, 'category': 'page', 'action': 'enter', 'options': {'name': 'page'}}, {'id': 48174302, 'client_id': 62602, 'user_id': 111069, 'category': 'page', 'action': 'enter', 'options': {'name': 'page'}}, {'id': 48174312, 'client_id': 62602, 'user_id': 111069, 'category': 'report', 'action': 'link_click', 'options': {'url': 'javascript:void(0);', 'name': 'deal_count', 'value': '1'}}, {'id': 48174314, 'client_id': 62602, 'user_id': 111069, 'category': 'page', 'action': 'enter', 'options': {'name': 'page'}}, {'id': 48174338, 'client_id': 62602, 'user_id': 111069, 'category': 'page', 'action': 'enter', 'options': {'name': 'page'}}, {'id': 48179988, 'client_id': 50149, 'user_id': 86073, 'category': 'page', 'action': 'enter', 'options': {'name': 'landing'}}, {'id': 57301281, 'client_id': 57009, 'user_id': 107244, 'category': 'page', 'action': 'enter', 'options': {'name': 'landing'}}, {'id': 57326589, 'client_id': 57207, 'user_id': 107968, 'category': 'page', 'action': 'enter', 'options': {'name': 'landing'}}, {'id': 57328781, 'client_id': 32792, 'user_id': 57997, 'category': 'page', 'action': 'enter', 'options': {'name': 'landing'}}, {'id': 57335607, 'client_id': 27323, 'user_id': 92681, 'category': 'page', 'action': 'enter', 'options': {'name': 'landing'}}, {'id': 57355249, 'client_id': 24500, 'user_id': 45371, 'category': 'page', 'action': 'enter', 'options': {'name': 'landing'}}, {'id': 57357969, 'client_id': 24500, 'user_id': 45371, 'category': 'page', 'action': 'enter', 'options': {'name': 'page'}}, {'id': 57364085, 'client_id': 58330, 'user_id': 122756, 'category': 'page', 'action': 'enter', 'options': {'name': 'landing'}}, {'id': 57368897, 'client_id': 61245, 'user_id': 122796, 'category': 'page', 'action': 'enter', 'options': {'name': 'landing'}}, {'id': 57380235, 'client_id': 19799, 'user_id': 108493, 'category': 'page', 'action': 'enter', 'options': {'name': 'landing'}}, {'id': 57397813, 'client_id': 56544, 'user_id': 105404, 'category': 'page', 'action': 'enter', 'options': {'name': 'page'}}, {'id': 57397881, 'client_id': 56544, 'user_id': 105404, 'category': 'datepicker', 'action': 'apply', 'options': {'endDate': '2019-03-31 23:59:59', 'startDate': '2019-03-31 00:00:00'}}, {'id': 57397923, 'client_id': 56544, 'user_id': 105404, 'category': 'datepicker', 'action': 'apply', 'options': {'endDate': '2019-03-30 23:59:59', 'startDate': '2019-03-30 00:00:00'}}, {'id': 57397987, 'client_id': 56544, 'user_id': 105404, 'category': 'datepicker', 'action': 'apply', 'options': {'endDate': '2019-03-29 23:59:59', 'startDate': '2019-03-29 00:00:00'}}, {'id': 57398079, 'client_id': 56544, 'user_id': 105404, 'category': 'datepicker', 'action': 'apply', 'options': {'endDate': '2019-03-28 23:59:59', 'startDate': '2019-03-28 00:00:00'}}, {'id': 57398119, 'client_id': 56544, 'user_id': 105404, 'category': 'datepicker', 'action': 'apply', 'options': {'endDate': '2019-03-27 23:59:59', 'startDate': '2019-03-27 00:00:00'}}, {'id': 57398165, 'client_id': 56544, 'user_id': 105404, 'category': 'datepicker', 'action': 'apply', 'options': {'endDate': '2019-03-26 23:59:59', 'startDate': '2019-03-26 00:00:00'}}, {'id': 57398203, 'client_id': 56544, 'user_id': 105404, 'category': 'datepicker', 'action': 'apply', 'options': {'endDate': '2019-03-25 23:59:59', 'startDate': '2019-03-25 00:00:00'}}, {'id': 57414209, 'client_id': 23207, 'user_id': 43300, 'category': 'page', 'action': 'enter', 'options': {'name': 'landing'}}, {'id': 57414633, 'client_id': 23207, 'user_id': 43300, 'category': 'page', 'action': 'enter', 'options': {'name': 'landing'}}, {'id': 57414663, 'client_id': 23207, 'user_id': 85282, 'category': 'page', 'action': 'enter', 'options': {'name': 'landing'}}, {'id': 57414851, 'client_id': 23207, 'user_id': 43300, 'category': 'page', 'action': 'enter', 'options': {'name': 'landing'}}, {'id': 57420219, 'client_id': 48128, 'user_id': 121686, 'category': 'page', 'action': 'enter', 'options': {'name': 'landing'}}, {'id': 57424709, 'client_id': 58113, 'user_id': 120952, 'category': 'page', 'action': 'enter', 'options': {'name': 'page'}}, {'id': 57424757, 'client_id': 58113, 'user_id': 120952, 'category': 'report', 'action': 'change_mode', 'options': {'mode': 'deals'}}, {'id': 57425399, 'client_id': 58113, 'user_id': 120952, 'category': 'table', 'action': 'sort', 'options': {'dir': 'ASC', 'name': 'ac'}}, {'id': 57425421, 'client_id': 58113, 'user_id': 120952, 'category': 'table', 'action': 'sort', 'options': {'dir': 'DESC', 'name': 'ac'}}, {'id': 57426007, 'client_id': 58113, 'user_id': 120952, 'category': 'datepicker', 'action': 'apply', 'options': {'endDate': '2019-03-24 23:59:59', 'startDate': '2019-03-18 00:00:00'}}, {'id': 57426303, 'client_id': 58113, 'user_id': 120952, 'category': 'datepicker', 'action': 'apply', 'options': {'endDate': '2019-03-17 23:59:59', 'startDate': '2019-03-11 00:00:00'}}, {'id': 57431787, 'client_id': 58113, 'user_id': 120952, 'category': 'page', 'action': 'enter', 'options': {'name': 'page'}}, {'id': 57444593, 'client_id': 57613, 'user_id': 110958, 'category': 'page', 'action': 'enter', 'options': {'name': 'landing'}}, {'id': 57453741, 'client_id': 61244, 'user_id': 120170, 'category': 'page', 'action': 'enter', 'options': {'name': 'landing'}}, {'id': 57467371, 'client_id': 53666, 'user_id': 122224, 'category': 'page', 'action': 'enter', 'options': {'name': 'landing'}}, {'id': 57473917, 'client_id': 53018, 'user_id': 92402, 'category': 'page', 'action': 'enter', 'options': {'name': 'landing'}}, {'id': 57475785, 'client_id': 53666, 'user_id': 122224, 'category': 'page', 'action': 'enter', 'options': {'name': 'landing'}}, {'id': 57492477, 'client_id': 41737, 'user_id': 122874, 'category': 'page', 'action': 'enter', 'options': {'name': 'landing'}}, {'id': 57493427, 'client_id': 61078, 'user_id': 119662, 'category': 'page', 'action': 'enter', 'options': {'name': 'landing'}}, {'id': 57515935, 'client_id': 20820, 'user_id': 116898, 'category': 'page', 'action': 'enter', 'options': {'name': 'landing'}}, {'id': 57517657, 'client_id': 41737, 'user_id': 122874, 'category': 'page', 'action': 'enter', 'options': {'name': 'landing'}}, {'id': 57540495, 'client_id': 49700, 'user_id': 84946, 'category': 'page', 'action': 'enter', 'options': {'name': 'landing'}}]\n"
     ]
    }
   ],
   "source": [
    "import json\n",
    "with open('../data/data.json', 'rb') as infile:\n",
    "    data = json.load(infile)\n",
    "    data_list = data['events_data']\n",
    "    print(data_list)"
   ]
  },
  {
   "cell_type": "markdown",
   "metadata": {},
   "source": [
    "## 2.27\n",
    "Подсчитайте количество клиентов (client_id), которые совершали какие-либо действия"
   ]
  },
  {
   "cell_type": "code",
   "execution_count": 61,
   "metadata": {},
   "outputs": [
    {
     "name": "stdout",
     "output_type": "stream",
     "text": [
      "Counter({60459: 12, 27115: 11, 62602: 11, 56544: 8, 58113: 7, 18923: 5, 23207: 4, 52492: 3, 24500: 2, 53666: 2, 41737: 2, 62526: 1, 61944: 1, 62017: 1, 63120: 1, 59883: 1, 2913: 1, 62940: 1, 63149: 1, 45391: 1, 63019: 1, 15759: 1, 62007: 1, 62941: 1, 51009: 1, 62236: 1, 44682: 1, 39709: 1, 62144: 1, 25301: 1, 33645: 1, 62089: 1, 26705: 1, 1103: 1, 62439: 1, 44196: 1, 50149: 1, 57009: 1, 57207: 1, 32792: 1, 27323: 1, 58330: 1, 61245: 1, 19799: 1, 48128: 1, 57613: 1, 61244: 1, 53018: 1, 61078: 1, 20820: 1, 49700: 1})\n",
      "51\n",
      "12\n"
     ]
    }
   ],
   "source": [
    "import collections\n",
    "action_counter = collections.Counter()\n",
    "for item in data_list:\n",
    "    client_id = item['client_id']\n",
    "    action_counter[client_id] += 1\n",
    "    \n",
    "print(action_counter)\n",
    "print(len(action_counter))\n",
    "\n",
    "# Сколько действий совершил клиент (client_id) под номером 60459?\n",
    "print(action_counter[60459])"
   ]
  },
  {
   "cell_type": "markdown",
   "metadata": {},
   "source": [
    "Сколько действий с категорией (category) = page совершил клиент под номером 62602?"
   ]
  },
  {
   "cell_type": "code",
   "execution_count": 62,
   "metadata": {},
   "outputs": [
    {
     "name": "stdout",
     "output_type": "stream",
     "text": [
      "9\n"
     ]
    }
   ],
   "source": [
    "import collections\n",
    "action_counter = collections.Counter()\n",
    "for item in data_list:\n",
    "    client_id = item['client_id']\n",
    "    if item['category'] == 'page':\n",
    "        action_counter[client_id] += 1\n",
    "\n",
    "print(action_counter[62602])        "
   ]
  },
  {
   "cell_type": "markdown",
   "metadata": {},
   "source": [
    "Сколько уникальных клиентов совершили действия с категорией (category) = report?"
   ]
  },
  {
   "cell_type": "code",
   "execution_count": 63,
   "metadata": {},
   "outputs": [
    {
     "name": "stdout",
     "output_type": "stream",
     "text": [
      "3\n"
     ]
    }
   ],
   "source": [
    "import collections\n",
    "action_counter = collections.Counter()\n",
    "for item in data_list:\n",
    "    client_id = item['client_id']\n",
    "    if item['category'] == 'report':\n",
    "        action_counter[client_id] += 1\n",
    "\n",
    "print(len(action_counter))  "
   ]
  },
  {
   "cell_type": "code",
   "execution_count": 64,
   "metadata": {},
   "outputs": [
    {
     "name": "stdout",
     "output_type": "stream",
     "text": [
      "Counter({60459: 5, 62602: 2, 58113: 1})\n"
     ]
    }
   ],
   "source": [
    "import collections\n",
    "action_counter = collections.Counter()\n",
    "for item in data_list:\n",
    "    client_id = item['client_id']\n",
    "    if item['category'] == 'report':\n",
    "        action_counter[client_id] += 1\n",
    "\n",
    "print(action_counter)"
   ]
  },
  {
   "cell_type": "code",
   "execution_count": null,
   "metadata": {},
   "outputs": [],
   "source": []
  }
 ],
 "metadata": {
  "kernelspec": {
   "display_name": "Python 3",
   "language": "python",
   "name": "python3"
  },
  "language_info": {
   "codemirror_mode": {
    "name": "ipython",
    "version": 3
   },
   "file_extension": ".py",
   "mimetype": "text/x-python",
   "name": "python",
   "nbconvert_exporter": "python",
   "pygments_lexer": "ipython3",
   "version": "3.7.6"
  }
 },
 "nbformat": 4,
 "nbformat_minor": 4
}
