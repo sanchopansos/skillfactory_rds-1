{
 "cells": [
  {
   "cell_type": "code",
   "execution_count": 10,
   "metadata": {},
   "outputs": [
    {
     "data": {
      "text/html": [
       "<div>\n",
       "<style scoped>\n",
       "    .dataframe tbody tr th:only-of-type {\n",
       "        vertical-align: middle;\n",
       "    }\n",
       "\n",
       "    .dataframe tbody tr th {\n",
       "        vertical-align: top;\n",
       "    }\n",
       "\n",
       "    .dataframe thead th {\n",
       "        text-align: right;\n",
       "    }\n",
       "</style>\n",
       "<table border=\"1\" class=\"dataframe\">\n",
       "  <thead>\n",
       "    <tr style=\"text-align: right;\">\n",
       "      <th></th>\n",
       "      <th>tid</th>\n",
       "      <th>term_name</th>\n",
       "      <th>total</th>\n",
       "      <th>tape_location</th>\n",
       "      <th>digitized_tapes_count</th>\n",
       "    </tr>\n",
       "  </thead>\n",
       "  <tbody>\n",
       "    <tr>\n",
       "      <th>0</th>\n",
       "      <td>71484</td>\n",
       "      <td>Limits</td>\n",
       "      <td>33</td>\n",
       "      <td>Barrie</td>\n",
       "      <td>0</td>\n",
       "    </tr>\n",
       "    <tr>\n",
       "      <th>1</th>\n",
       "      <td>71485</td>\n",
       "      <td>RF</td>\n",
       "      <td>137</td>\n",
       "      <td>unknown/null</td>\n",
       "      <td>0</td>\n",
       "    </tr>\n",
       "    <tr>\n",
       "      <th>2</th>\n",
       "      <td>71486</td>\n",
       "      <td>RN</td>\n",
       "      <td>117</td>\n",
       "      <td>unknown/null</td>\n",
       "      <td>12</td>\n",
       "    </tr>\n",
       "    <tr>\n",
       "      <th>3</th>\n",
       "      <td>71487</td>\n",
       "      <td>BIN/IN</td>\n",
       "      <td>536</td>\n",
       "      <td>299 Queen</td>\n",
       "      <td>0</td>\n",
       "    </tr>\n",
       "    <tr>\n",
       "      <th>4</th>\n",
       "      <td>71488</td>\n",
       "      <td>ECM</td>\n",
       "      <td>80</td>\n",
       "      <td>299 Queen</td>\n",
       "      <td>45</td>\n",
       "    </tr>\n",
       "    <tr>\n",
       "      <th>5</th>\n",
       "      <td>71489</td>\n",
       "      <td>MIN</td>\n",
       "      <td>19748</td>\n",
       "      <td>299 Queen</td>\n",
       "      <td>3326</td>\n",
       "    </tr>\n",
       "    <tr>\n",
       "      <th>6</th>\n",
       "      <td>71490</td>\n",
       "      <td>MINH</td>\n",
       "      <td>540</td>\n",
       "      <td>Barrie</td>\n",
       "      <td>0</td>\n",
       "    </tr>\n",
       "    <tr>\n",
       "      <th>7</th>\n",
       "      <td>71491</td>\n",
       "      <td>BNM</td>\n",
       "      <td>5437</td>\n",
       "      <td>299 Queen</td>\n",
       "      <td>2322</td>\n",
       "    </tr>\n",
       "    <tr>\n",
       "      <th>8</th>\n",
       "      <td>71492</td>\n",
       "      <td>TM</td>\n",
       "      <td>1000</td>\n",
       "      <td>299 Queen</td>\n",
       "      <td>213</td>\n",
       "    </tr>\n",
       "    <tr>\n",
       "      <th>9</th>\n",
       "      <td>71493</td>\n",
       "      <td>TMP</td>\n",
       "      <td>180</td>\n",
       "      <td>299 Queen</td>\n",
       "      <td>67</td>\n",
       "    </tr>\n",
       "    <tr>\n",
       "      <th>10</th>\n",
       "      <td>71494</td>\n",
       "      <td>TMH</td>\n",
       "      <td>32</td>\n",
       "      <td>Barrie</td>\n",
       "      <td>5</td>\n",
       "    </tr>\n",
       "    <tr>\n",
       "      <th>11</th>\n",
       "      <td>71495</td>\n",
       "      <td>MSP</td>\n",
       "      <td>10560</td>\n",
       "      <td>299 Queen</td>\n",
       "      <td>1003</td>\n",
       "    </tr>\n",
       "    <tr>\n",
       "      <th>12</th>\n",
       "      <td>71496</td>\n",
       "      <td>MSPH</td>\n",
       "      <td>537</td>\n",
       "      <td>299 Queen</td>\n",
       "      <td>0</td>\n",
       "    </tr>\n",
       "    <tr>\n",
       "      <th>13</th>\n",
       "      <td>71497</td>\n",
       "      <td>NM</td>\n",
       "      <td>5600</td>\n",
       "      <td>Barrie</td>\n",
       "      <td>603</td>\n",
       "    </tr>\n",
       "  </tbody>\n",
       "</table>\n",
       "</div>"
      ],
      "text/plain": [
       "      tid term_name  total tape_location  digitized_tapes_count\n",
       "0   71484    Limits     33        Barrie                      0\n",
       "1   71485        RF    137  unknown/null                      0\n",
       "2   71486        RN    117  unknown/null                     12\n",
       "3   71487    BIN/IN    536     299 Queen                      0\n",
       "4   71488       ECM     80     299 Queen                     45\n",
       "5   71489       MIN  19748     299 Queen                   3326\n",
       "6   71490      MINH    540        Barrie                      0\n",
       "7   71491       BNM   5437     299 Queen                   2322\n",
       "8   71492        TM   1000     299 Queen                    213\n",
       "9   71493       TMP    180     299 Queen                     67\n",
       "10  71494       TMH     32        Barrie                      5\n",
       "11  71495       MSP  10560     299 Queen                   1003\n",
       "12  71496      MSPH    537     299 Queen                      0\n",
       "13  71497        NM   5600        Barrie                    603"
      ]
     },
     "execution_count": 10,
     "metadata": {},
     "output_type": "execute_result"
    }
   ],
   "source": [
    "import pandas as pd\n",
    "\n",
    "df = pd.read_csv('musicpeaks--digitized-tapes.csv')\n",
    "df.head(25)"
   ]
  },
  {
   "cell_type": "code",
   "execution_count": 11,
   "metadata": {},
   "outputs": [
    {
     "data": {
      "text/plain": [
       "<matplotlib.axes._subplots.AxesSubplot at 0x11cc56050>"
      ]
     },
     "execution_count": 11,
     "metadata": {},
     "output_type": "execute_result"
    },
    {
     "data": {
      "image/png": "[encoded data removed]",
      "text/plain": [
       "<Figure size 432x288 with 1 Axes>"
      ]
     },
     "metadata": {
      "needs_background": "light"
     },
     "output_type": "display_data"
    }
   ],
   "source": [
    "df.pivot_table(values=['total', 'digitized_tapes_count'], \n",
    "               index='term_name', \n",
    "               aggfunc='mean').plot(kind='bar')"
   ]
  },
  {
   "cell_type": "code",
   "execution_count": null,
   "metadata": {},
   "outputs": [],
   "source": []
  }
 ],
 "metadata": {
  "kernelspec": {
   "display_name": "Python 3",
   "language": "python",
   "name": "python3"
  },
  "language_info": {
   "codemirror_mode": {
    "name": "ipython",
    "version": 3
   },
   "file_extension": ".py",
   "mimetype": "text/x-python",
   "name": "python",
   "nbconvert_exporter": "python",
   "pygments_lexer": "ipython3",
   "version": "3.7.6"
  }
 },
 "nbformat": 4,
 "nbformat_minor": 4
}
