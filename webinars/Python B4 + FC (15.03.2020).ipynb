{
 "cells": [
  {
   "cell_type": "markdown",
   "metadata": {},
   "source": [
    "### Пример проекта по визуализации геоданных\n",
    "\n",
    "Библиотеки, которые нам понадобились:\n",
    "\n",
    "**pandas** для сбора и анализа данных\n",
    "**geocoder** - для получения коорднат из названия стран\n",
    "**folium** - для нанесения данных на карту\n",
    "\n",
    "Установка:\n",
    "в пустой ячейке введите:\n",
    "!pip install geocoder folium\n",
    "\n",
    "\n",
    "https://proglib.io/p/python-web-map/\n",
    "пошаговая инструкция по фолиуму"
   ]
  },
  {
   "cell_type": "code",
   "execution_count": 4,
   "metadata": {},
   "outputs": [],
   "source": [
    "import requests\n",
    "from bs4 import BeautifulSoup\n",
    "import pandas as pd\n",
    "\n",
    "r = requests.get('https://www.worldometers.info/coronavirus/')\n"
   ]
  },
  {
   "cell_type": "code",
   "execution_count": 5,
   "metadata": {},
   "outputs": [],
   "source": [
    "df = pd.read_html('https://www.worldometers.info/coronavirus/')[0]"
   ]
  },
  {
   "cell_type": "code",
   "execution_count": 6,
   "metadata": {},
   "outputs": [
    {
     "data": {
      "text/html": [
       "<div>\n",
       "<style scoped>\n",
       "    .dataframe tbody tr th:only-of-type {\n",
       "        vertical-align: middle;\n",
       "    }\n",
       "\n",
       "    .dataframe tbody tr th {\n",
       "        vertical-align: top;\n",
       "    }\n",
       "\n",
       "    .dataframe thead th {\n",
       "        text-align: right;\n",
       "    }\n",
       "</style>\n",
       "<table border=\"1\" class=\"dataframe\">\n",
       "  <thead>\n",
       "    <tr style=\"text-align: right;\">\n",
       "      <th></th>\n",
       "      <th>Country,Other</th>\n",
       "      <th>TotalCases</th>\n",
       "      <th>NewCases</th>\n",
       "      <th>TotalDeaths</th>\n",
       "      <th>NewDeaths</th>\n",
       "      <th>TotalRecovered</th>\n",
       "      <th>ActiveCases</th>\n",
       "      <th>Serious,Critical</th>\n",
       "      <th>Tot Cases/1M pop</th>\n",
       "    </tr>\n",
       "  </thead>\n",
       "  <tbody>\n",
       "    <tr>\n",
       "      <td>0</td>\n",
       "      <td>China</td>\n",
       "      <td>80849</td>\n",
       "      <td>+25</td>\n",
       "      <td>3199.0</td>\n",
       "      <td>10.0</td>\n",
       "      <td>66930.0</td>\n",
       "      <td>10720</td>\n",
       "      <td>3226.0</td>\n",
       "      <td>56.2</td>\n",
       "    </tr>\n",
       "    <tr>\n",
       "      <td>1</td>\n",
       "      <td>Italy</td>\n",
       "      <td>21157</td>\n",
       "      <td>NaN</td>\n",
       "      <td>1441.0</td>\n",
       "      <td>NaN</td>\n",
       "      <td>1966.0</td>\n",
       "      <td>17750</td>\n",
       "      <td>1518.0</td>\n",
       "      <td>349.9</td>\n",
       "    </tr>\n",
       "    <tr>\n",
       "      <td>2</td>\n",
       "      <td>Iran</td>\n",
       "      <td>13938</td>\n",
       "      <td>+1,209</td>\n",
       "      <td>724.0</td>\n",
       "      <td>113.0</td>\n",
       "      <td>4339.0</td>\n",
       "      <td>8875</td>\n",
       "      <td>NaN</td>\n",
       "      <td>165.9</td>\n",
       "    </tr>\n",
       "    <tr>\n",
       "      <td>3</td>\n",
       "      <td>S. Korea</td>\n",
       "      <td>8162</td>\n",
       "      <td>+76</td>\n",
       "      <td>75.0</td>\n",
       "      <td>3.0</td>\n",
       "      <td>834.0</td>\n",
       "      <td>7253</td>\n",
       "      <td>59.0</td>\n",
       "      <td>159.2</td>\n",
       "    </tr>\n",
       "    <tr>\n",
       "      <td>4</td>\n",
       "      <td>Spain</td>\n",
       "      <td>6821</td>\n",
       "      <td>+430</td>\n",
       "      <td>208.0</td>\n",
       "      <td>12.0</td>\n",
       "      <td>517.0</td>\n",
       "      <td>6096</td>\n",
       "      <td>272.0</td>\n",
       "      <td>145.9</td>\n",
       "    </tr>\n",
       "    <tr>\n",
       "      <td>...</td>\n",
       "      <td>...</td>\n",
       "      <td>...</td>\n",
       "      <td>...</td>\n",
       "      <td>...</td>\n",
       "      <td>...</td>\n",
       "      <td>...</td>\n",
       "      <td>...</td>\n",
       "      <td>...</td>\n",
       "      <td>...</td>\n",
       "    </tr>\n",
       "    <tr>\n",
       "      <td>152</td>\n",
       "      <td>Eswatini</td>\n",
       "      <td>1</td>\n",
       "      <td>NaN</td>\n",
       "      <td>NaN</td>\n",
       "      <td>NaN</td>\n",
       "      <td>NaN</td>\n",
       "      <td>1</td>\n",
       "      <td>NaN</td>\n",
       "      <td>0.9</td>\n",
       "    </tr>\n",
       "    <tr>\n",
       "      <td>153</td>\n",
       "      <td>Togo</td>\n",
       "      <td>1</td>\n",
       "      <td>NaN</td>\n",
       "      <td>NaN</td>\n",
       "      <td>NaN</td>\n",
       "      <td>NaN</td>\n",
       "      <td>1</td>\n",
       "      <td>NaN</td>\n",
       "      <td>0.1</td>\n",
       "    </tr>\n",
       "    <tr>\n",
       "      <td>154</td>\n",
       "      <td>U.S. Virgin Islands</td>\n",
       "      <td>1</td>\n",
       "      <td>NaN</td>\n",
       "      <td>NaN</td>\n",
       "      <td>NaN</td>\n",
       "      <td>NaN</td>\n",
       "      <td>1</td>\n",
       "      <td>NaN</td>\n",
       "      <td>NaN</td>\n",
       "    </tr>\n",
       "    <tr>\n",
       "      <td>155</td>\n",
       "      <td>Uzbekistan</td>\n",
       "      <td>1</td>\n",
       "      <td>+1</td>\n",
       "      <td>NaN</td>\n",
       "      <td>NaN</td>\n",
       "      <td>NaN</td>\n",
       "      <td>1</td>\n",
       "      <td>NaN</td>\n",
       "      <td>NaN</td>\n",
       "    </tr>\n",
       "    <tr>\n",
       "      <td>156</td>\n",
       "      <td>Total:</td>\n",
       "      <td>160994</td>\n",
       "      <td>4422</td>\n",
       "      <td>5973.0</td>\n",
       "      <td>150.0</td>\n",
       "      <td>75959.0</td>\n",
       "      <td>79062</td>\n",
       "      <td>5654.0</td>\n",
       "      <td>20.7</td>\n",
       "    </tr>\n",
       "  </tbody>\n",
       "</table>\n",
       "<p>157 rows × 9 columns</p>\n",
       "</div>"
      ],
      "text/plain": [
       "           Country,Other  TotalCases NewCases  TotalDeaths  NewDeaths  \\\n",
       "0                  China       80849      +25       3199.0       10.0   \n",
       "1                  Italy       21157      NaN       1441.0        NaN   \n",
       "2                   Iran       13938   +1,209        724.0      113.0   \n",
       "3               S. Korea        8162      +76         75.0        3.0   \n",
       "4                  Spain        6821     +430        208.0       12.0   \n",
       "..                   ...         ...      ...          ...        ...   \n",
       "152             Eswatini           1      NaN          NaN        NaN   \n",
       "153                 Togo           1      NaN          NaN        NaN   \n",
       "154  U.S. Virgin Islands           1      NaN          NaN        NaN   \n",
       "155           Uzbekistan           1       +1          NaN        NaN   \n",
       "156               Total:      160994     4422       5973.0      150.0   \n",
       "\n",
       "     TotalRecovered  ActiveCases  Serious,Critical  Tot Cases/1M pop  \n",
       "0           66930.0        10720            3226.0              56.2  \n",
       "1            1966.0        17750            1518.0             349.9  \n",
       "2            4339.0         8875               NaN             165.9  \n",
       "3             834.0         7253              59.0             159.2  \n",
       "4             517.0         6096             272.0             145.9  \n",
       "..              ...          ...               ...               ...  \n",
       "152             NaN            1               NaN               0.9  \n",
       "153             NaN            1               NaN               0.1  \n",
       "154             NaN            1               NaN               NaN  \n",
       "155             NaN            1               NaN               NaN  \n",
       "156         75959.0        79062            5654.0              20.7  \n",
       "\n",
       "[157 rows x 9 columns]"
      ]
     },
     "execution_count": 6,
     "metadata": {},
     "output_type": "execute_result"
    }
   ],
   "source": [
    "df"
   ]
  },
  {
   "cell_type": "code",
   "execution_count": 32,
   "metadata": {},
   "outputs": [],
   "source": [
    "# import geocoder\n",
    "# lat = []\n",
    "# lng = []\n",
    "# for i in range(len(pickled)):\n",
    "#     g = geocoder.arcgis(pickled['Country,Other'].iloc[i])\n",
    "#     lat.append(g.json['lat'])\n",
    "#     lng.append(g.json['lng'])\n",
    "\n",
    "# pickled['lat'] = lat\n",
    "# pickled['lng'] = lng"
   ]
  },
  {
   "cell_type": "code",
   "execution_count": 1,
   "metadata": {},
   "outputs": [
    {
     "data": {
      "text/plain": [
       "{'address': 'Russia',\n",
       " 'bbox': {'northeast': [84.9, 148.57137153400006],\n",
       "  'southwest': [10.223526183000068, 45.039371534000075]},\n",
       " 'confidence': 1,\n",
       " 'lat': 61.989526183000066,\n",
       " 'lng': 96.80537153400007,\n",
       " 'ok': True,\n",
       " 'quality': 'Locality',\n",
       " 'raw': {'name': 'Russia',\n",
       "  'extent': {'xmin': 45.039371534000075,\n",
       "   'ymin': 10.223526183000068,\n",
       "   'xmax': 148.57137153400006,\n",
       "   'ymax': 84.9},\n",
       "  'feature': {'geometry': {'x': 96.80537153400007, 'y': 61.989526183000066},\n",
       "   'attributes': {'Score': 100, 'Addr_Type': 'Locality'}}},\n",
       " 'score': 100,\n",
       " 'status': 'OK'}"
      ]
     },
     "execution_count": 1,
     "metadata": {},
     "output_type": "execute_result"
    }
   ],
   "source": [
    "import geocoder\n",
    "g = geocoder.arcgis('Russia')\n",
    "g.json"
   ]
  },
  {
   "cell_type": "code",
   "execution_count": 22,
   "metadata": {},
   "outputs": [],
   "source": [
    "pickled = pd.read_csv(\"https://raw.githubusercontent.com/alnagaev/python_lessons/master/latlng.csv\")\n",
    "df['lat'] = pickled['lat']\n",
    "df['lng'] = pickled['lng'] "
   ]
  },
  {
   "cell_type": "code",
   "execution_count": 23,
   "metadata": {
    "scrolled": true
   },
   "outputs": [
    {
     "data": {
      "text/html": [
       "<div>\n",
       "<style scoped>\n",
       "    .dataframe tbody tr th:only-of-type {\n",
       "        vertical-align: middle;\n",
       "    }\n",
       "\n",
       "    .dataframe tbody tr th {\n",
       "        vertical-align: top;\n",
       "    }\n",
       "\n",
       "    .dataframe thead th {\n",
       "        text-align: right;\n",
       "    }\n",
       "</style>\n",
       "<table border=\"1\" class=\"dataframe\">\n",
       "  <thead>\n",
       "    <tr style=\"text-align: right;\">\n",
       "      <th></th>\n",
       "      <th>Country,Other</th>\n",
       "      <th>ratio</th>\n",
       "    </tr>\n",
       "  </thead>\n",
       "  <tbody>\n",
       "    <tr>\n",
       "      <td>0</td>\n",
       "      <td>China</td>\n",
       "      <td>3.96</td>\n",
       "    </tr>\n",
       "    <tr>\n",
       "      <td>1</td>\n",
       "      <td>Italy</td>\n",
       "      <td>6.81</td>\n",
       "    </tr>\n",
       "    <tr>\n",
       "      <td>2</td>\n",
       "      <td>Iran</td>\n",
       "      <td>5.19</td>\n",
       "    </tr>\n",
       "    <tr>\n",
       "      <td>3</td>\n",
       "      <td>S. Korea</td>\n",
       "      <td>0.92</td>\n",
       "    </tr>\n",
       "    <tr>\n",
       "      <td>4</td>\n",
       "      <td>Spain</td>\n",
       "      <td>3.05</td>\n",
       "    </tr>\n",
       "  </tbody>\n",
       "</table>\n",
       "</div>"
      ],
      "text/plain": [
       "  Country,Other  ratio\n",
       "0         China   3.96\n",
       "1         Italy   6.81\n",
       "2          Iran   5.19\n",
       "3      S. Korea   0.92\n",
       "4         Spain   3.05"
      ]
     },
     "execution_count": 23,
     "metadata": {},
     "output_type": "execute_result"
    }
   ],
   "source": [
    "df['ratio'] = round(df['TotalDeaths']/df['TotalCases']*100, 2)\n",
    "df[['Country,Other', 'ratio', ]].dropna().head()\n",
    "\n",
    " "
   ]
  },
  {
   "cell_type": "code",
   "execution_count": 24,
   "metadata": {},
   "outputs": [],
   "source": [
    "from math import ceil\n",
    "def get_radius(rat):\n",
    "    if rat > 10:\n",
    "        return 10\n",
    "    elif rat < 1:\n",
    "        return 1\n",
    "    else:\n",
    "        return ceil(rat)"
   ]
  },
  {
   "cell_type": "code",
   "execution_count": 25,
   "metadata": {},
   "outputs": [
    {
     "data": {
      "text/plain": [
       "0    52.0\n",
       "1    13.0\n",
       "2     9.0\n",
       "3     5.0\n",
       "4     4.0\n",
       "Name: percent, dtype: float64"
      ]
     },
     "execution_count": 25,
     "metadata": {},
     "output_type": "execute_result"
    }
   ],
   "source": [
    "dropped = df[['Country,Other', 'ratio', 'lat', 'lng', 'TotalCases']].dropna()\n",
    "dropped['percent'] = round(dropped['TotalCases']/dropped['TotalCases'].sum(), 2)*100\n",
    "dropped['percent'].head()"
   ]
  },
  {
   "cell_type": "code",
   "execution_count": 26,
   "metadata": {},
   "outputs": [],
   "source": [
    "import folium\n",
    "fol_map = folium.Map(location=[36.567348, 103.930027], zoom_start=2)\n",
    "for lat, lon, percent, total, country in zip(\n",
    "                            dropped['lat'].tolist(), \n",
    "                            dropped['lng'].tolist(), \n",
    "                            dropped['percent'].tolist(),\n",
    "                            dropped['TotalCases'].tolist(),\n",
    "                            dropped['Country,Other'].tolist()\n",
    "                                 ):\n",
    "    folium.CircleMarker(location=[lat, lon], radius = get_radius(percent), popup= str(country)+' ' + str(total)+\" total cases\").add_to(fol_map)"
   ]
  },
  {
   "cell_type": "code",
   "execution_count": 19,
   "metadata": {},
   "outputs": [
    {
     "data": {
      "text/html": [
       "<div style=\"width:100%;\"><div style=\"position:relative;width:100%;height:0;padding-bottom:60%;\"><iframe src=\"data:text/html;charset=utf-8;base64,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\" style=\"position:absolute;width:100%;height:100%;left:0;top:0;border:none !important;\" allowfullscreen webkitallowfullscreen mozallowfullscreen></iframe></div></div>"
      ],
      "text/plain": [
       "<folium.folium.Map at 0x7f4f0bc4ff90>"
      ]
     },
     "execution_count": 19,
     "metadata": {},
     "output_type": "execute_result"
    }
   ],
   "source": [
    "fol_map"
   ]
  }
 ],
 "metadata": {
  "kernelspec": {
   "display_name": "Python 3",
   "language": "python",
   "name": "python3"
  },
  "language_info": {
   "codemirror_mode": {
    "name": "ipython",
    "version": 3
   },
   "file_extension": ".py",
   "mimetype": "text/x-python",
   "name": "python",
   "nbconvert_exporter": "python",
   "pygments_lexer": "ipython3",
   "version": "3.7.4"
  }
 },
 "nbformat": 4,
 "nbformat_minor": 2
}
