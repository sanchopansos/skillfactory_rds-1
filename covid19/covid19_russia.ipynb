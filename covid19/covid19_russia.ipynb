{
 "cells": [
  {
   "cell_type": "markdown",
   "metadata": {},
   "source": [
    "## О подтвержденных случаях новой коронавирусной инфекции COVID-2019 в России\n",
    "\n",
    "По умолчанию, установлена дата **20.03.2020**, как первая дата когда Роскомнадзор начал публиковать данные в виде списка по регионам."
   ]
  },
  {
   "cell_type": "code",
   "execution_count": 1,
   "metadata": {},
   "outputs": [],
   "source": [
    "import os\n",
    "import csv\n",
    "import pandas as pd\n",
    "import numpy as np\n",
    "from rkn_parser import fetch_data\n",
    "\n",
    "DATA_DIR = '../covid19/data/daily'"
   ]
  },
  {
   "cell_type": "code",
   "execution_count": 2,
   "metadata": {},
   "outputs": [
    {
     "name": "stdout",
     "output_type": "stream",
     "text": [
      "Берем данные от 25.04.2020.\n",
      "Process page: https://www.rospotrebnadzor.ru/about/info/news/news_details.php?ELEMENT_ID=14349&sphrase_id=2271696\n",
      "Process page: https://www.rospotrebnadzor.ru/about/info/news/news_details.php?ELEMENT_ID=14344&sphrase_id=2271696\n",
      "Process page: https://www.rospotrebnadzor.ru/about/info/news/news_details.php?ELEMENT_ID=14329&sphrase_id=2271696\n",
      "Process page: https://www.rospotrebnadzor.ru/about/info/news/news_details.php?ELEMENT_ID=14325&sphrase_id=2271696\n",
      "Process page: https://www.rospotrebnadzor.ru/about/info/news/news_details.php?ELEMENT_ID=14323&sphrase_id=2271696\n"
     ]
    }
   ],
   "source": [
    "fetch_data(start_date='25.04.2020')"
   ]
  },
  {
   "cell_type": "code",
   "execution_count": 3,
   "metadata": {},
   "outputs": [
    {
     "name": "stdout",
     "output_type": "stream",
     "text": [
      "total 400\r\n",
      "-rw-r--r--  1 lebster  staff   509 Apr 20 11:18 2020-03-20.csv\r\n",
      "-rw-r--r--  1 lebster  staff    19 Apr 20 11:18 2020-03-21.csv\r\n",
      "-rw-r--r--  1 lebster  staff   393 Apr 20 11:18 2020-03-22.csv\r\n",
      "-rw-r--r--  1 lebster  staff   159 Apr 20 11:18 2020-03-23.csv\r\n",
      "-rw-r--r--  1 lebster  staff   770 Apr 20 11:17 2020-03-24.csv\r\n",
      "-rw-r--r--  1 lebster  staff  1141 Apr 20 11:17 2020-03-25.csv\r\n",
      "-rw-r--r--  1 lebster  staff  1061 Apr 20 11:17 2020-03-26.csv\r\n",
      "-rw-r--r--  1 lebster  staff   845 Apr 20 11:17 2020-03-27.csv\r\n",
      "-rw-r--r--  1 lebster  staff  1314 Apr 20 11:17 2020-03-28.csv\r\n",
      "-rw-r--r--  1 lebster  staff  1303 Apr 20 11:17 2020-03-29.csv\r\n",
      "-rw-r--r--  1 lebster  staff  1771 Apr 20 11:17 2020-03-30.csv\r\n",
      "-rw-r--r--  1 lebster  staff  1207 Apr 20 11:17 2020-03-31.csv\r\n",
      "-rw-r--r--  1 lebster  staff  1781 Apr 20 11:17 2020-04-01.csv\r\n",
      "-rw-r--r--  1 lebster  staff  1464 Apr 20 11:17 2020-04-02.csv\r\n",
      "-rw-r--r--  1 lebster  staff  1569 Apr 20 11:17 2020-04-03.csv\r\n",
      "-rw-r--r--  1 lebster  staff  1605 Apr 20 11:17 2020-04-04.csv\r\n",
      "-rw-r--r--  1 lebster  staff   698 Apr 20 11:17 2020-04-05.csv\r\n",
      "-rw-r--r--  1 lebster  staff  2490 Apr 20 11:17 2020-04-06.csv\r\n",
      "-rw-r--r--  1 lebster  staff  2230 Apr 20 11:17 2020-04-07.csv\r\n",
      "-rw-r--r--  1 lebster  staff  2877 Apr 20 11:17 2020-04-08.csv\r\n",
      "-rw-r--r--  1 lebster  staff   503 Apr 20 11:17 2020-04-09.csv\r\n",
      "-rw-r--r--  1 lebster  staff  2935 Apr 20 11:17 2020-04-10.csv\r\n",
      "-rw-r--r--  1 lebster  staff  2494 Apr 20 11:17 2020-04-11.csv\r\n",
      "-rw-r--r--  1 lebster  staff   406 Apr 20 11:17 2020-04-12.csv\r\n",
      "-rw-r--r--  1 lebster  staff  3193 Apr 20 11:17 2020-04-13.csv\r\n",
      "-rw-r--r--  1 lebster  staff  2642 Apr 20 11:17 2020-04-14.csv\r\n",
      "-rw-r--r--  1 lebster  staff  3328 Apr 20 11:17 2020-04-15.csv\r\n",
      "-rw-r--r--  1 lebster  staff  4001 Apr 20 11:17 2020-04-16.csv\r\n",
      "-rw-r--r--  1 lebster  staff  4143 Apr 20 11:17 2020-04-17.csv\r\n",
      "-rw-r--r--  1 lebster  staff  4089 Apr 20 11:17 2020-04-18.csv\r\n",
      "-rw-r--r--  1 lebster  staff  3998 Apr 20 11:17 2020-04-19.csv\r\n",
      "-rw-r--r--  1 lebster  staff  3911 Apr 22 11:19 2020-04-20.csv\r\n",
      "-rw-r--r--  1 lebster  staff  4007 Apr 23 11:09 2020-04-21.csv\r\n",
      "-rw-r--r--  1 lebster  staff  4318 Apr 24 10:50 2020-04-22.csv\r\n",
      "-rw-r--r--  1 lebster  staff  4160 Apr 28 10:53 2020-04-23.csv\r\n",
      "-rw-r--r--  1 lebster  staff  4216 Apr 28 10:53 2020-04-24.csv\r\n",
      "-rw-r--r--  1 lebster  staff  4253 Apr 29 23:14 2020-04-25.csv\r\n",
      "-rw-r--r--  1 lebster  staff  4280 Apr 29 23:14 2020-04-26.csv\r\n",
      "-rw-r--r--  1 lebster  staff  4320 Apr 29 23:14 2020-04-27.csv\r\n",
      "-rw-r--r--  1 lebster  staff  4278 Apr 29 23:14 2020-04-28.csv\r\n",
      "-rw-r--r--  1 lebster  staff  4235 Apr 29 23:14 2020-04-29.csv\r\n"
     ]
    }
   ],
   "source": [
    "!ls -l '../covid19/data/daily'"
   ]
  },
  {
   "cell_type": "code",
   "execution_count": 4,
   "metadata": {},
   "outputs": [
    {
     "data": {
      "text/plain": "                          2020-03-20  2020-03-21  2020-03-22  2020-03-23  \\\nМосква                          33.0         0.0        54.0         0.0   \nРеспублика Саха (Якутия)         6.0         0.0         0.0         0.0   \nСанкт-Петербург                  4.0         0.0         0.0         0.0   \nСамарская область                4.0         0.0         0.0         0.0   \nКировская область                2.0         0.0         2.0         0.0   \n...                              ...         ...         ...         ...   \nЯмало-Ненецкий АО –              0.0         0.0         0.0         0.0   \nРеспублика Хакасия –             0.0         0.0         0.0         0.0   \nАмурская область –               0.0         0.0         0.0         0.0   \nАрхангельская область –          0.0         0.0         0.0         0.0   \nМагаданская область –            0.0         0.0         0.0         0.0   \n\n                          2020-03-24  2020-03-25  2020-03-26  2020-03-27  \\\nМосква                          28.0       120.0         1.0       157.0   \nРеспублика Саха (Якутия)         0.0         3.0         4.0         0.0   \nСанкт-Петербург                  5.0         0.0         5.0         0.0   \nСамарская область                1.0         0.0         2.0         2.0   \nКировская область                0.0         0.0         0.0         1.0   \n...                              ...         ...         ...         ...   \nЯмало-Ненецкий АО –              0.0         0.0         0.0         0.0   \nРеспублика Хакасия –             0.0         0.0         0.0         0.0   \nАмурская область –               0.0         0.0         0.0         0.0   \nАрхангельская область –          0.0         0.0         0.0         0.0   \nМагаданская область –            0.0         0.0         0.0         0.0   \n\n                          2020-03-28  2020-03-29  ...  2020-04-20  2020-04-21  \\\nМосква                         114.0       197.0  ...      2026.0      3083.0   \nРеспублика Саха (Якутия)         0.0         1.0  ...        19.0         4.0   \nСанкт-Петербург                 11.0         5.0  ...        86.0       127.0   \nСамарская область                0.0         0.0  ...        16.0         8.0   \nКировская область                0.0         1.0  ...        19.0        19.0   \n...                              ...         ...  ...         ...         ...   \nЯмало-Ненецкий АО –              0.0         0.0  ...         0.0         0.0   \nРеспублика Хакасия –             0.0         0.0  ...         0.0         0.0   \nАмурская область –               0.0         0.0  ...         0.0         0.0   \nАрхангельская область –          0.0         0.0  ...         0.0         0.0   \nМагаданская область –            0.0         0.0  ...         0.0         0.0   \n\n                          2020-04-22  2020-04-23  2020-04-24  2020-04-25  \\\nМосква                           0.0      1959.0      2957.0      2612.0   \nРеспублика Саха (Якутия)         0.0        12.0         9.0         4.0   \nСанкт-Петербург                  0.0       191.0       253.0       215.0   \nСамарская область                0.0        26.0        44.0        24.0   \nКировская область                0.0        24.0        36.0        40.0   \n...                              ...         ...         ...         ...   \nЯмало-Ненецкий АО –              3.0         0.0         0.0         0.0   \nРеспублика Хакасия –             3.0         0.0         0.0         0.0   \nАмурская область –               3.0         0.0         0.0         0.0   \nАрхангельская область –          2.0         0.0         0.0         0.0   \nМагаданская область –            2.0         0.0         0.0         0.0   \n\n                          2020-04-26  2020-04-27  2020-04-28  2020-04-29  \nМосква                        2971.0      2871.0      3075.0      2220.0  \nРеспублика Саха (Якутия)        11.0         7.0         7.0        17.0  \nСанкт-Петербург                151.0       161.0       198.0       290.0  \nСамарская область               20.0        35.0         8.0        55.0  \nКировская область               46.0        26.0        35.0        43.0  \n...                              ...         ...         ...         ...  \nЯмало-Ненецкий АО –              0.0         0.0         0.0         0.0  \nРеспублика Хакасия –             0.0         0.0         0.0         0.0  \nАмурская область –               0.0         0.0         0.0         0.0  \nАрхангельская область –          0.0         0.0         0.0         0.0  \nМагаданская область –            0.0         0.0         0.0         0.0  \n\n[164 rows x 41 columns]",
      "text/html": "<div>\n<style scoped>\n    .dataframe tbody tr th:only-of-type {\n        vertical-align: middle;\n    }\n\n    .dataframe tbody tr th {\n        vertical-align: top;\n    }\n\n    .dataframe thead th {\n        text-align: right;\n    }\n</style>\n<table border=\"1\" class=\"dataframe\">\n  <thead>\n    <tr style=\"text-align: right;\">\n      <th></th>\n      <th>2020-03-20</th>\n      <th>2020-03-21</th>\n      <th>2020-03-22</th>\n      <th>2020-03-23</th>\n      <th>2020-03-24</th>\n      <th>2020-03-25</th>\n      <th>2020-03-26</th>\n      <th>2020-03-27</th>\n      <th>2020-03-28</th>\n      <th>2020-03-29</th>\n      <th>...</th>\n      <th>2020-04-20</th>\n      <th>2020-04-21</th>\n      <th>2020-04-22</th>\n      <th>2020-04-23</th>\n      <th>2020-04-24</th>\n      <th>2020-04-25</th>\n      <th>2020-04-26</th>\n      <th>2020-04-27</th>\n      <th>2020-04-28</th>\n      <th>2020-04-29</th>\n    </tr>\n  </thead>\n  <tbody>\n    <tr>\n      <th>Москва</th>\n      <td>33.0</td>\n      <td>0.0</td>\n      <td>54.0</td>\n      <td>0.0</td>\n      <td>28.0</td>\n      <td>120.0</td>\n      <td>1.0</td>\n      <td>157.0</td>\n      <td>114.0</td>\n      <td>197.0</td>\n      <td>...</td>\n      <td>2026.0</td>\n      <td>3083.0</td>\n      <td>0.0</td>\n      <td>1959.0</td>\n      <td>2957.0</td>\n      <td>2612.0</td>\n      <td>2971.0</td>\n      <td>2871.0</td>\n      <td>3075.0</td>\n      <td>2220.0</td>\n    </tr>\n    <tr>\n      <th>Республика Саха (Якутия)</th>\n      <td>6.0</td>\n      <td>0.0</td>\n      <td>0.0</td>\n      <td>0.0</td>\n      <td>0.0</td>\n      <td>3.0</td>\n      <td>4.0</td>\n      <td>0.0</td>\n      <td>0.0</td>\n      <td>1.0</td>\n      <td>...</td>\n      <td>19.0</td>\n      <td>4.0</td>\n      <td>0.0</td>\n      <td>12.0</td>\n      <td>9.0</td>\n      <td>4.0</td>\n      <td>11.0</td>\n      <td>7.0</td>\n      <td>7.0</td>\n      <td>17.0</td>\n    </tr>\n    <tr>\n      <th>Санкт-Петербург</th>\n      <td>4.0</td>\n      <td>0.0</td>\n      <td>0.0</td>\n      <td>0.0</td>\n      <td>5.0</td>\n      <td>0.0</td>\n      <td>5.0</td>\n      <td>0.0</td>\n      <td>11.0</td>\n      <td>5.0</td>\n      <td>...</td>\n      <td>86.0</td>\n      <td>127.0</td>\n      <td>0.0</td>\n      <td>191.0</td>\n      <td>253.0</td>\n      <td>215.0</td>\n      <td>151.0</td>\n      <td>161.0</td>\n      <td>198.0</td>\n      <td>290.0</td>\n    </tr>\n    <tr>\n      <th>Самарская область</th>\n      <td>4.0</td>\n      <td>0.0</td>\n      <td>0.0</td>\n      <td>0.0</td>\n      <td>1.0</td>\n      <td>0.0</td>\n      <td>2.0</td>\n      <td>2.0</td>\n      <td>0.0</td>\n      <td>0.0</td>\n      <td>...</td>\n      <td>16.0</td>\n      <td>8.0</td>\n      <td>0.0</td>\n      <td>26.0</td>\n      <td>44.0</td>\n      <td>24.0</td>\n      <td>20.0</td>\n      <td>35.0</td>\n      <td>8.0</td>\n      <td>55.0</td>\n    </tr>\n    <tr>\n      <th>Кировская область</th>\n      <td>2.0</td>\n      <td>0.0</td>\n      <td>2.0</td>\n      <td>0.0</td>\n      <td>0.0</td>\n      <td>0.0</td>\n      <td>0.0</td>\n      <td>1.0</td>\n      <td>0.0</td>\n      <td>1.0</td>\n      <td>...</td>\n      <td>19.0</td>\n      <td>19.0</td>\n      <td>0.0</td>\n      <td>24.0</td>\n      <td>36.0</td>\n      <td>40.0</td>\n      <td>46.0</td>\n      <td>26.0</td>\n      <td>35.0</td>\n      <td>43.0</td>\n    </tr>\n    <tr>\n      <th>...</th>\n      <td>...</td>\n      <td>...</td>\n      <td>...</td>\n      <td>...</td>\n      <td>...</td>\n      <td>...</td>\n      <td>...</td>\n      <td>...</td>\n      <td>...</td>\n      <td>...</td>\n      <td>...</td>\n      <td>...</td>\n      <td>...</td>\n      <td>...</td>\n      <td>...</td>\n      <td>...</td>\n      <td>...</td>\n      <td>...</td>\n      <td>...</td>\n      <td>...</td>\n      <td>...</td>\n    </tr>\n    <tr>\n      <th>Ямало-Ненецкий АО –</th>\n      <td>0.0</td>\n      <td>0.0</td>\n      <td>0.0</td>\n      <td>0.0</td>\n      <td>0.0</td>\n      <td>0.0</td>\n      <td>0.0</td>\n      <td>0.0</td>\n      <td>0.0</td>\n      <td>0.0</td>\n      <td>...</td>\n      <td>0.0</td>\n      <td>0.0</td>\n      <td>3.0</td>\n      <td>0.0</td>\n      <td>0.0</td>\n      <td>0.0</td>\n      <td>0.0</td>\n      <td>0.0</td>\n      <td>0.0</td>\n      <td>0.0</td>\n    </tr>\n    <tr>\n      <th>Республика Хакасия –</th>\n      <td>0.0</td>\n      <td>0.0</td>\n      <td>0.0</td>\n      <td>0.0</td>\n      <td>0.0</td>\n      <td>0.0</td>\n      <td>0.0</td>\n      <td>0.0</td>\n      <td>0.0</td>\n      <td>0.0</td>\n      <td>...</td>\n      <td>0.0</td>\n      <td>0.0</td>\n      <td>3.0</td>\n      <td>0.0</td>\n      <td>0.0</td>\n      <td>0.0</td>\n      <td>0.0</td>\n      <td>0.0</td>\n      <td>0.0</td>\n      <td>0.0</td>\n    </tr>\n    <tr>\n      <th>Амурская область –</th>\n      <td>0.0</td>\n      <td>0.0</td>\n      <td>0.0</td>\n      <td>0.0</td>\n      <td>0.0</td>\n      <td>0.0</td>\n      <td>0.0</td>\n      <td>0.0</td>\n      <td>0.0</td>\n      <td>0.0</td>\n      <td>...</td>\n      <td>0.0</td>\n      <td>0.0</td>\n      <td>3.0</td>\n      <td>0.0</td>\n      <td>0.0</td>\n      <td>0.0</td>\n      <td>0.0</td>\n      <td>0.0</td>\n      <td>0.0</td>\n      <td>0.0</td>\n    </tr>\n    <tr>\n      <th>Архангельская область –</th>\n      <td>0.0</td>\n      <td>0.0</td>\n      <td>0.0</td>\n      <td>0.0</td>\n      <td>0.0</td>\n      <td>0.0</td>\n      <td>0.0</td>\n      <td>0.0</td>\n      <td>0.0</td>\n      <td>0.0</td>\n      <td>...</td>\n      <td>0.0</td>\n      <td>0.0</td>\n      <td>2.0</td>\n      <td>0.0</td>\n      <td>0.0</td>\n      <td>0.0</td>\n      <td>0.0</td>\n      <td>0.0</td>\n      <td>0.0</td>\n      <td>0.0</td>\n    </tr>\n    <tr>\n      <th>Магаданская область –</th>\n      <td>0.0</td>\n      <td>0.0</td>\n      <td>0.0</td>\n      <td>0.0</td>\n      <td>0.0</td>\n      <td>0.0</td>\n      <td>0.0</td>\n      <td>0.0</td>\n      <td>0.0</td>\n      <td>0.0</td>\n      <td>...</td>\n      <td>0.0</td>\n      <td>0.0</td>\n      <td>2.0</td>\n      <td>0.0</td>\n      <td>0.0</td>\n      <td>0.0</td>\n      <td>0.0</td>\n      <td>0.0</td>\n      <td>0.0</td>\n      <td>0.0</td>\n    </tr>\n  </tbody>\n</table>\n<p>164 rows × 41 columns</p>\n</div>"
     },
     "metadata": {},
     "output_type": "display_data"
    }
   ],
   "source": [
    "covid_cases = {}  # Store daily cases grouped by date.\n",
    "columns = []  # Store dates to use as columns for result data frame.\n",
    "files = os.listdir(DATA_DIR)\n",
    "for file in files:\n",
    "    if file.find('.csv') == -1:\n",
    "        continue\n",
    "\n",
    "    date = np.datetime64(file.replace('.csv', ''))\n",
    "    columns.append(date)\n",
    "    daily_cases_df = pd.read_csv(os.path.join(DATA_DIR, file), index_col=['region'])['cases']\n",
    "\n",
    "    # Fix synonyms in index.\n",
    "    daily_cases_df.rename(index={'Республика Горный Алтай': 'Республика Алтай'}, inplace=True)\n",
    "\n",
    "    daily_cases = daily_cases_df.to_dict()\n",
    "    covid_cases.setdefault(date, daily_cases)\n",
    "\n",
    "# Create data frame from the daily cases.\n",
    "covid_cases_df = pd.DataFrame(covid_cases, columns=np.sort(columns)).fillna(0)\n",
    "\n",
    "# Post cleanup: remove wrong indexes.\n",
    "wrong_indexes = [\n",
    "    'Российской Федерации в',\n",
    "    'Под медицинским наблюдением с января',\n",
    "    'За последние сутки зарегистрирован',\n",
    "    'За весь период выписано',\n",
    "    'За сутки выписаны по выздоровлению'\n",
    "]\n",
    "covid_cases_df.drop(index=wrong_indexes, inplace=True, errors='ignore')\n",
    "\n",
    "display(covid_cases_df)"
   ]
  },
  {
   "cell_type": "code",
   "execution_count": 60,
   "metadata": {},
   "outputs": [],
   "source": [
    "# Export data frame to CSV file.\n",
    "# covid_cases_df.to_csv(os.path.join('../covid19/data', 'covid-cases.csv'))"
   ]
  },
  {
   "cell_type": "code",
   "execution_count": 61,
   "metadata": {},
   "outputs": [],
   "source": [
    "# covid_cases_df['2020-04-19'].sum()"
   ]
  },
  {
   "cell_type": "code",
   "execution_count": 62,
   "metadata": {},
   "outputs": [],
   "source": [
    "# covid_cases_df.sum()\n",
    "# covid_cases_df.sum().sort_values(ascending=False)"
   ]
  },
  {
   "cell_type": "code",
   "execution_count": 5,
   "metadata": {},
   "outputs": [],
   "source": [
    "import matplotlib.pyplot as plt\n",
    "%matplotlib inline"
   ]
  },
  {
   "cell_type": "code",
   "execution_count": 6,
   "metadata": {},
   "outputs": [],
   "source": [
    "covid_cases_daily_df = covid_cases_df.sum().reset_index()\n",
    "# covid_cases_daily_df"
   ]
  },
  {
   "cell_type": "code",
   "execution_count": 7,
   "metadata": {},
   "outputs": [],
   "source": [
    "covid_cases_daily_df.columns = ['date','cases']\n",
    "# covid_cases_daily_df"
   ]
  },
  {
   "cell_type": "code",
   "execution_count": 8,
   "metadata": {},
   "outputs": [
    {
     "data": {
      "text/plain": "[Text(0, 0, '20 марта'),\n Text(0, 0, '21 марта'),\n Text(0, 0, '22 марта'),\n Text(0, 0, '23 марта'),\n Text(0, 0, '24 марта'),\n Text(0, 0, '25 марта'),\n Text(0, 0, '26 марта'),\n Text(0, 0, '27 марта'),\n Text(0, 0, '28 марта'),\n Text(0, 0, '29 марта'),\n Text(0, 0, '30 марта'),\n Text(0, 0, '31 марта'),\n Text(0, 0, '01 апреля'),\n Text(0, 0, '02 апреля'),\n Text(0, 0, '03 апреля'),\n Text(0, 0, '04 апреля'),\n Text(0, 0, '05 апреля'),\n Text(0, 0, '06 апреля'),\n Text(0, 0, '07 апреля'),\n Text(0, 0, '08 апреля'),\n Text(0, 0, '09 апреля'),\n Text(0, 0, '10 апреля'),\n Text(0, 0, '11 апреля'),\n Text(0, 0, '12 апреля'),\n Text(0, 0, '13 апреля'),\n Text(0, 0, '14 апреля'),\n Text(0, 0, '15 апреля'),\n Text(0, 0, '16 апреля'),\n Text(0, 0, '17 апреля'),\n Text(0, 0, '18 апреля'),\n Text(0, 0, '19 апреля'),\n Text(0, 0, '20 апреля'),\n Text(0, 0, '21 апреля'),\n Text(0, 0, '22 апреля'),\n Text(0, 0, '23 апреля'),\n Text(0, 0, '24 апреля'),\n Text(0, 0, '25 апреля'),\n Text(0, 0, '26 апреля'),\n Text(0, 0, '27 апреля'),\n Text(0, 0, '28 апреля'),\n Text(0, 0, '29 апреля')]"
     },
     "execution_count": 8,
     "metadata": {},
     "output_type": "execute_result"
    },
    {
     "data": {
      "text/plain": "<Figure size 720x360 with 1 Axes>",
      "image/png": "[encoded data removed]"
     },
     "metadata": {
      "needs_background": "light"
     },
     "output_type": "display_data"
    }
   ],
   "source": [
    "from datetime import datetime\n",
    "\n",
    "def format_date(date):\n",
    "    \"\"\"Transform date from datetime to readable.\"\"\"\n",
    "    month_list = ['января', 'февраля', 'марта', 'апреля', 'мая', 'июня', 'июля', 'августа', 'сентября', 'октября', 'ноября', 'декабря']\n",
    "    day = date.strftime(\"%d\")\n",
    "    month = month_list[int(date.strftime(\"%m\")) - 1]\n",
    "    return f'{day} {month}'\n",
    "\n",
    "# Fomat date.\n",
    "covid_cases_daily_df['date_fmt'] = covid_cases_daily_df['date'].apply(format_date)\n",
    "\n",
    "bar = covid_cases_daily_df['cases'].plot(\n",
    "    kind='bar', \n",
    "    grid=True, \n",
    "    title='COVID-19, новые случаи в России',\n",
    "    width=0.5,\n",
    "    figsize=(10, 5)\n",
    ")\n",
    "bar.set_xticklabels(covid_cases_daily_df['date_fmt'])"
   ]
  },
  {
   "cell_type": "code",
   "execution_count": 9,
   "metadata": {},
   "outputs": [],
   "source": [
    "# Save as PNG.\n",
    "fig = bar.get_figure()\n",
    "# fig.savefig('../covid19/data/covid19-daily-bar.png', pad_inches=1, bbox_inches='tight', transparent=True)\n",
    "fig.savefig('../covid19/data/covid19-daily-bar.png', pad_inches=1, bbox_inches='tight')"
   ]
  },
  {
   "cell_type": "code",
   "execution_count": 68,
   "metadata": {},
   "outputs": [],
   "source": [
    "# Save HQ JPG image.\n",
    "# fig.savefig('line_plot.jpg', dpi=300, quality=80, optimize=True, progressive=True, pad_inches=2, bbox_inches='tight')  "
   ]
  },
  {
   "cell_type": "code",
   "execution_count": 69,
   "metadata": {},
   "outputs": [],
   "source": [
    "# covid_cases_df.index"
   ]
  },
  {
   "cell_type": "code",
   "execution_count": 10,
   "metadata": {},
   "outputs": [
    {
     "data": {
      "text/plain": "Москва                     47788.0\nМосковская область         10252.0\nСанкт-Петербург             3420.0\nМосква –                    2548.0\nНижегородская область       1711.0\n                            ...   \nЯмало-Ненецкий АО –            3.0\nМагаданская область –          2.0\nАрхангельская область –        2.0\nНижегородской области и        1.0\nТакже выписаны                 1.0\nLength: 164, dtype: float64"
     },
     "execution_count": 10,
     "metadata": {},
     "output_type": "execute_result"
    }
   ],
   "source": [
    "# Sum by region.\n",
    "covid_cases_df_t = covid_cases_df.transpose()\n",
    "covid_cases_df_t.sum()\n",
    "covid_cases_df_t.sum().sort_values(ascending=False)"
   ]
  },
  {
   "cell_type": "code",
   "execution_count": null,
   "metadata": {},
   "outputs": [],
   "source": []
  }
 ],
 "metadata": {
  "kernelspec": {
   "display_name": "Python 3",
   "language": "python",
   "name": "python3"
  },
  "language_info": {
   "codemirror_mode": {
    "name": "ipython",
    "version": 3
   },
   "file_extension": ".py",
   "mimetype": "text/x-python",
   "name": "python",
   "nbconvert_exporter": "python",
   "pygments_lexer": "ipython3",
   "version": "3.7.6"
  },
  "pycharm": {
   "stem_cell": {
    "cell_type": "raw",
    "metadata": {
     "collapsed": false
    },
    "source": []
   }
  }
 },
 "nbformat": 4,
 "nbformat_minor": 4
}